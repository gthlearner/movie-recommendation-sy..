{
  "nbformat": 4,
  "nbformat_minor": 0,
  "metadata": {
    "colab": {
      "provenance": [],
      "gpuType": "T4",
      "authorship_tag": "ABX9TyMnhmLipNEkJd6slhHWLuMc",
      "include_colab_link": true
    },
    "kernelspec": {
      "name": "python3",
      "display_name": "Python 3"
    },
    "language_info": {
      "name": "python"
    },
    "accelerator": "GPU"
  },
  "cells": [
    {
      "cell_type": "markdown",
      "metadata": {
        "id": "view-in-github",
        "colab_type": "text"
      },
      "source": [
        "<a href=\"https://colab.research.google.com/github/gthlearner/movie-recommendation-sy../blob/main/movierecommendatin.ipynb\" target=\"_parent\"><img src=\"https://colab.research.google.com/assets/colab-badge.svg\" alt=\"Open In Colab\"/></a>"
      ]
    },
    {
      "cell_type": "markdown",
      "source": [
        "# Movie Recommendation System\n",
        "\n"
      ],
      "metadata": {
        "id": "wk0rUa7_IevJ"
      }
    },
    {
      "cell_type": "markdown",
      "source": [
        "A **Movie Recommendation System** is an application that suggests films to users based on their preferences and past behavior. Using collaborative filtering, content-based filtering, or hybrid models, it analyzes user interactions, ratings, or movie features to recommend relevant films, enhancing user experience by personalizing movie suggestions."
      ],
      "metadata": {
        "id": "mZ_m_goUE6qZ"
      }
    },
    {
      "cell_type": "markdown",
      "source": [
        "#*Data source*"
      ],
      "metadata": {
        "id": "7ObkQl-iCVGO"
      }
    },
    {
      "cell_type": "markdown",
      "source": [
        "Ybi Foundation Dataset for movie recommendation system ('https://github.com/YBI-Foundation/Dataset')"
      ],
      "metadata": {
        "id": "8xOa6RzECsy_"
      }
    },
    {
      "cell_type": "markdown",
      "source": [
        "#*Import libraries*"
      ],
      "metadata": {
        "id": "5dpZxionCKfs"
      }
    },
    {
      "cell_type": "code",
      "execution_count": 1,
      "metadata": {
        "id": "lwn2_E7XqDaj"
      },
      "outputs": [],
      "source": [
        "#import libraries\n",
        "import pandas as pd\n",
        "import numpy as np"
      ]
    },
    {
      "cell_type": "markdown",
      "source": [
        "#*Import Dataset*"
      ],
      "metadata": {
        "id": "a28SsafODCyL"
      }
    },
    {
      "cell_type": "code",
      "source": [
        "#importing dataset\n",
        "df = pd.read_csv('https://raw.githubusercontent.com/YBI-Foundation/Dataset/main/Movies%20Recommendation.csv')"
      ],
      "metadata": {
        "id": "w3P91nlyxsBz"
      },
      "execution_count": 2,
      "outputs": []
    },
    {
      "cell_type": "markdown",
      "source": [
        "#*Describe Data*"
      ],
      "metadata": {
        "id": "t9kt-wErDTO7"
      }
    },
    {
      "cell_type": "code",
      "source": [
        "df.head()\n",
        "df.describe()"
      ],
      "metadata": {
        "colab": {
          "base_uri": "https://localhost:8080/",
          "height": 320
        },
        "id": "gNL271OwzL-h",
        "outputId": "f1056ae5-af29-4909-aa53-65554b4e78db"
      },
      "execution_count": 3,
      "outputs": [
        {
          "output_type": "execute_result",
          "data": {
            "text/plain": [
              "          Movie_ID  Movie_Budget  Movie_Popularity  Movie_Revenue  \\\n",
              "count  4760.000000  4.760000e+03       4760.000000   4.760000e+03   \n",
              "mean   2382.566387  2.920129e+07         21.599510   8.263743e+07   \n",
              "std    1377.270159  4.075620e+07         31.887919   1.630554e+08   \n",
              "min       1.000000  0.000000e+00          0.000372   0.000000e+00   \n",
              "25%    1190.750000  9.257500e+05          4.807074   0.000000e+00   \n",
              "50%    2380.500000  1.500000e+07         13.119058   1.944716e+07   \n",
              "75%    3572.250000  4.000000e+07         28.411929   9.341276e+07   \n",
              "max    4788.000000  3.800000e+08        875.581305   2.787965e+09   \n",
              "\n",
              "       Movie_Runtime   Movie_Vote  Movie_Vote_Count  \n",
              "count    4758.000000  4760.000000       4760.000000  \n",
              "mean      107.184111     6.113866        692.508403  \n",
              "std        21.960332     1.141294       1235.007337  \n",
              "min         0.000000     0.000000          0.000000  \n",
              "25%        94.000000     5.600000         55.000000  \n",
              "50%       104.000000     6.200000        238.000000  \n",
              "75%       118.000000     6.800000        740.250000  \n",
              "max       338.000000    10.000000      13752.000000  "
            ],
            "text/html": [
              "\n",
              "  <div id=\"df-0b857690-2008-4a0f-b969-93ae625bc37f\" class=\"colab-df-container\">\n",
              "    <div>\n",
              "<style scoped>\n",
              "    .dataframe tbody tr th:only-of-type {\n",
              "        vertical-align: middle;\n",
              "    }\n",
              "\n",
              "    .dataframe tbody tr th {\n",
              "        vertical-align: top;\n",
              "    }\n",
              "\n",
              "    .dataframe thead th {\n",
              "        text-align: right;\n",
              "    }\n",
              "</style>\n",
              "<table border=\"1\" class=\"dataframe\">\n",
              "  <thead>\n",
              "    <tr style=\"text-align: right;\">\n",
              "      <th></th>\n",
              "      <th>Movie_ID</th>\n",
              "      <th>Movie_Budget</th>\n",
              "      <th>Movie_Popularity</th>\n",
              "      <th>Movie_Revenue</th>\n",
              "      <th>Movie_Runtime</th>\n",
              "      <th>Movie_Vote</th>\n",
              "      <th>Movie_Vote_Count</th>\n",
              "    </tr>\n",
              "  </thead>\n",
              "  <tbody>\n",
              "    <tr>\n",
              "      <th>count</th>\n",
              "      <td>4760.000000</td>\n",
              "      <td>4.760000e+03</td>\n",
              "      <td>4760.000000</td>\n",
              "      <td>4.760000e+03</td>\n",
              "      <td>4758.000000</td>\n",
              "      <td>4760.000000</td>\n",
              "      <td>4760.000000</td>\n",
              "    </tr>\n",
              "    <tr>\n",
              "      <th>mean</th>\n",
              "      <td>2382.566387</td>\n",
              "      <td>2.920129e+07</td>\n",
              "      <td>21.599510</td>\n",
              "      <td>8.263743e+07</td>\n",
              "      <td>107.184111</td>\n",
              "      <td>6.113866</td>\n",
              "      <td>692.508403</td>\n",
              "    </tr>\n",
              "    <tr>\n",
              "      <th>std</th>\n",
              "      <td>1377.270159</td>\n",
              "      <td>4.075620e+07</td>\n",
              "      <td>31.887919</td>\n",
              "      <td>1.630554e+08</td>\n",
              "      <td>21.960332</td>\n",
              "      <td>1.141294</td>\n",
              "      <td>1235.007337</td>\n",
              "    </tr>\n",
              "    <tr>\n",
              "      <th>min</th>\n",
              "      <td>1.000000</td>\n",
              "      <td>0.000000e+00</td>\n",
              "      <td>0.000372</td>\n",
              "      <td>0.000000e+00</td>\n",
              "      <td>0.000000</td>\n",
              "      <td>0.000000</td>\n",
              "      <td>0.000000</td>\n",
              "    </tr>\n",
              "    <tr>\n",
              "      <th>25%</th>\n",
              "      <td>1190.750000</td>\n",
              "      <td>9.257500e+05</td>\n",
              "      <td>4.807074</td>\n",
              "      <td>0.000000e+00</td>\n",
              "      <td>94.000000</td>\n",
              "      <td>5.600000</td>\n",
              "      <td>55.000000</td>\n",
              "    </tr>\n",
              "    <tr>\n",
              "      <th>50%</th>\n",
              "      <td>2380.500000</td>\n",
              "      <td>1.500000e+07</td>\n",
              "      <td>13.119058</td>\n",
              "      <td>1.944716e+07</td>\n",
              "      <td>104.000000</td>\n",
              "      <td>6.200000</td>\n",
              "      <td>238.000000</td>\n",
              "    </tr>\n",
              "    <tr>\n",
              "      <th>75%</th>\n",
              "      <td>3572.250000</td>\n",
              "      <td>4.000000e+07</td>\n",
              "      <td>28.411929</td>\n",
              "      <td>9.341276e+07</td>\n",
              "      <td>118.000000</td>\n",
              "      <td>6.800000</td>\n",
              "      <td>740.250000</td>\n",
              "    </tr>\n",
              "    <tr>\n",
              "      <th>max</th>\n",
              "      <td>4788.000000</td>\n",
              "      <td>3.800000e+08</td>\n",
              "      <td>875.581305</td>\n",
              "      <td>2.787965e+09</td>\n",
              "      <td>338.000000</td>\n",
              "      <td>10.000000</td>\n",
              "      <td>13752.000000</td>\n",
              "    </tr>\n",
              "  </tbody>\n",
              "</table>\n",
              "</div>\n",
              "    <div class=\"colab-df-buttons\">\n",
              "\n",
              "  <div class=\"colab-df-container\">\n",
              "    <button class=\"colab-df-convert\" onclick=\"convertToInteractive('df-0b857690-2008-4a0f-b969-93ae625bc37f')\"\n",
              "            title=\"Convert this dataframe to an interactive table.\"\n",
              "            style=\"display:none;\">\n",
              "\n",
              "  <svg xmlns=\"http://www.w3.org/2000/svg\" height=\"24px\" viewBox=\"0 -960 960 960\">\n",
              "    <path d=\"M120-120v-720h720v720H120Zm60-500h600v-160H180v160Zm220 220h160v-160H400v160Zm0 220h160v-160H400v160ZM180-400h160v-160H180v160Zm440 0h160v-160H620v160ZM180-180h160v-160H180v160Zm440 0h160v-160H620v160Z\"/>\n",
              "  </svg>\n",
              "    </button>\n",
              "\n",
              "  <style>\n",
              "    .colab-df-container {\n",
              "      display:flex;\n",
              "      gap: 12px;\n",
              "    }\n",
              "\n",
              "    .colab-df-convert {\n",
              "      background-color: #E8F0FE;\n",
              "      border: none;\n",
              "      border-radius: 50%;\n",
              "      cursor: pointer;\n",
              "      display: none;\n",
              "      fill: #1967D2;\n",
              "      height: 32px;\n",
              "      padding: 0 0 0 0;\n",
              "      width: 32px;\n",
              "    }\n",
              "\n",
              "    .colab-df-convert:hover {\n",
              "      background-color: #E2EBFA;\n",
              "      box-shadow: 0px 1px 2px rgba(60, 64, 67, 0.3), 0px 1px 3px 1px rgba(60, 64, 67, 0.15);\n",
              "      fill: #174EA6;\n",
              "    }\n",
              "\n",
              "    .colab-df-buttons div {\n",
              "      margin-bottom: 4px;\n",
              "    }\n",
              "\n",
              "    [theme=dark] .colab-df-convert {\n",
              "      background-color: #3B4455;\n",
              "      fill: #D2E3FC;\n",
              "    }\n",
              "\n",
              "    [theme=dark] .colab-df-convert:hover {\n",
              "      background-color: #434B5C;\n",
              "      box-shadow: 0px 1px 3px 1px rgba(0, 0, 0, 0.15);\n",
              "      filter: drop-shadow(0px 1px 2px rgba(0, 0, 0, 0.3));\n",
              "      fill: #FFFFFF;\n",
              "    }\n",
              "  </style>\n",
              "\n",
              "    <script>\n",
              "      const buttonEl =\n",
              "        document.querySelector('#df-0b857690-2008-4a0f-b969-93ae625bc37f button.colab-df-convert');\n",
              "      buttonEl.style.display =\n",
              "        google.colab.kernel.accessAllowed ? 'block' : 'none';\n",
              "\n",
              "      async function convertToInteractive(key) {\n",
              "        const element = document.querySelector('#df-0b857690-2008-4a0f-b969-93ae625bc37f');\n",
              "        const dataTable =\n",
              "          await google.colab.kernel.invokeFunction('convertToInteractive',\n",
              "                                                    [key], {});\n",
              "        if (!dataTable) return;\n",
              "\n",
              "        const docLinkHtml = 'Like what you see? Visit the ' +\n",
              "          '<a target=\"_blank\" href=https://colab.research.google.com/notebooks/data_table.ipynb>data table notebook</a>'\n",
              "          + ' to learn more about interactive tables.';\n",
              "        element.innerHTML = '';\n",
              "        dataTable['output_type'] = 'display_data';\n",
              "        await google.colab.output.renderOutput(dataTable, element);\n",
              "        const docLink = document.createElement('div');\n",
              "        docLink.innerHTML = docLinkHtml;\n",
              "        element.appendChild(docLink);\n",
              "      }\n",
              "    </script>\n",
              "  </div>\n",
              "\n",
              "\n",
              "<div id=\"df-075b3227-2bb8-4db6-890d-52a15f36d928\">\n",
              "  <button class=\"colab-df-quickchart\" onclick=\"quickchart('df-075b3227-2bb8-4db6-890d-52a15f36d928')\"\n",
              "            title=\"Suggest charts\"\n",
              "            style=\"display:none;\">\n",
              "\n",
              "<svg xmlns=\"http://www.w3.org/2000/svg\" height=\"24px\"viewBox=\"0 0 24 24\"\n",
              "     width=\"24px\">\n",
              "    <g>\n",
              "        <path d=\"M19 3H5c-1.1 0-2 .9-2 2v14c0 1.1.9 2 2 2h14c1.1 0 2-.9 2-2V5c0-1.1-.9-2-2-2zM9 17H7v-7h2v7zm4 0h-2V7h2v10zm4 0h-2v-4h2v4z\"/>\n",
              "    </g>\n",
              "</svg>\n",
              "  </button>\n",
              "\n",
              "<style>\n",
              "  .colab-df-quickchart {\n",
              "      --bg-color: #E8F0FE;\n",
              "      --fill-color: #1967D2;\n",
              "      --hover-bg-color: #E2EBFA;\n",
              "      --hover-fill-color: #174EA6;\n",
              "      --disabled-fill-color: #AAA;\n",
              "      --disabled-bg-color: #DDD;\n",
              "  }\n",
              "\n",
              "  [theme=dark] .colab-df-quickchart {\n",
              "      --bg-color: #3B4455;\n",
              "      --fill-color: #D2E3FC;\n",
              "      --hover-bg-color: #434B5C;\n",
              "      --hover-fill-color: #FFFFFF;\n",
              "      --disabled-bg-color: #3B4455;\n",
              "      --disabled-fill-color: #666;\n",
              "  }\n",
              "\n",
              "  .colab-df-quickchart {\n",
              "    background-color: var(--bg-color);\n",
              "    border: none;\n",
              "    border-radius: 50%;\n",
              "    cursor: pointer;\n",
              "    display: none;\n",
              "    fill: var(--fill-color);\n",
              "    height: 32px;\n",
              "    padding: 0;\n",
              "    width: 32px;\n",
              "  }\n",
              "\n",
              "  .colab-df-quickchart:hover {\n",
              "    background-color: var(--hover-bg-color);\n",
              "    box-shadow: 0 1px 2px rgba(60, 64, 67, 0.3), 0 1px 3px 1px rgba(60, 64, 67, 0.15);\n",
              "    fill: var(--button-hover-fill-color);\n",
              "  }\n",
              "\n",
              "  .colab-df-quickchart-complete:disabled,\n",
              "  .colab-df-quickchart-complete:disabled:hover {\n",
              "    background-color: var(--disabled-bg-color);\n",
              "    fill: var(--disabled-fill-color);\n",
              "    box-shadow: none;\n",
              "  }\n",
              "\n",
              "  .colab-df-spinner {\n",
              "    border: 2px solid var(--fill-color);\n",
              "    border-color: transparent;\n",
              "    border-bottom-color: var(--fill-color);\n",
              "    animation:\n",
              "      spin 1s steps(1) infinite;\n",
              "  }\n",
              "\n",
              "  @keyframes spin {\n",
              "    0% {\n",
              "      border-color: transparent;\n",
              "      border-bottom-color: var(--fill-color);\n",
              "      border-left-color: var(--fill-color);\n",
              "    }\n",
              "    20% {\n",
              "      border-color: transparent;\n",
              "      border-left-color: var(--fill-color);\n",
              "      border-top-color: var(--fill-color);\n",
              "    }\n",
              "    30% {\n",
              "      border-color: transparent;\n",
              "      border-left-color: var(--fill-color);\n",
              "      border-top-color: var(--fill-color);\n",
              "      border-right-color: var(--fill-color);\n",
              "    }\n",
              "    40% {\n",
              "      border-color: transparent;\n",
              "      border-right-color: var(--fill-color);\n",
              "      border-top-color: var(--fill-color);\n",
              "    }\n",
              "    60% {\n",
              "      border-color: transparent;\n",
              "      border-right-color: var(--fill-color);\n",
              "    }\n",
              "    80% {\n",
              "      border-color: transparent;\n",
              "      border-right-color: var(--fill-color);\n",
              "      border-bottom-color: var(--fill-color);\n",
              "    }\n",
              "    90% {\n",
              "      border-color: transparent;\n",
              "      border-bottom-color: var(--fill-color);\n",
              "    }\n",
              "  }\n",
              "</style>\n",
              "\n",
              "  <script>\n",
              "    async function quickchart(key) {\n",
              "      const quickchartButtonEl =\n",
              "        document.querySelector('#' + key + ' button');\n",
              "      quickchartButtonEl.disabled = true;  // To prevent multiple clicks.\n",
              "      quickchartButtonEl.classList.add('colab-df-spinner');\n",
              "      try {\n",
              "        const charts = await google.colab.kernel.invokeFunction(\n",
              "            'suggestCharts', [key], {});\n",
              "      } catch (error) {\n",
              "        console.error('Error during call to suggestCharts:', error);\n",
              "      }\n",
              "      quickchartButtonEl.classList.remove('colab-df-spinner');\n",
              "      quickchartButtonEl.classList.add('colab-df-quickchart-complete');\n",
              "    }\n",
              "    (() => {\n",
              "      let quickchartButtonEl =\n",
              "        document.querySelector('#df-075b3227-2bb8-4db6-890d-52a15f36d928 button');\n",
              "      quickchartButtonEl.style.display =\n",
              "        google.colab.kernel.accessAllowed ? 'block' : 'none';\n",
              "    })();\n",
              "  </script>\n",
              "</div>\n",
              "\n",
              "    </div>\n",
              "  </div>\n"
            ],
            "application/vnd.google.colaboratory.intrinsic+json": {
              "type": "dataframe",
              "summary": "{\n  \"name\": \"df\",\n  \"rows\": 8,\n  \"fields\": [\n    {\n      \"column\": \"Movie_ID\",\n      \"properties\": {\n        \"dtype\": \"number\",\n        \"std\": 1720.2332807214548,\n        \"min\": 1.0,\n        \"max\": 4788.0,\n        \"num_unique_values\": 8,\n        \"samples\": [\n          2382.5663865546217,\n          2380.5,\n          4760.0\n        ],\n        \"semantic_type\": \"\",\n        \"description\": \"\"\n      }\n    },\n    {\n      \"column\": \"Movie_Budget\",\n      \"properties\": {\n        \"dtype\": \"number\",\n        \"std\": 129145160.11869688,\n        \"min\": 0.0,\n        \"max\": 380000000.0,\n        \"num_unique_values\": 8,\n        \"samples\": [\n          29201287.084033612,\n          15000000.0,\n          4760.0\n        ],\n        \"semantic_type\": \"\",\n        \"description\": \"\"\n      }\n    },\n    {\n      \"column\": \"Movie_Popularity\",\n      \"properties\": {\n        \"dtype\": \"number\",\n        \"std\": 1661.1040447605237,\n        \"min\": 0.000372,\n        \"max\": 4760.0,\n        \"num_unique_values\": 8,\n        \"samples\": [\n          21.599509934663867,\n          13.119057999999999,\n          4760.0\n        ],\n        \"semantic_type\": \"\",\n        \"description\": \"\"\n      }\n    },\n    {\n      \"column\": \"Movie_Revenue\",\n      \"properties\": {\n        \"dtype\": \"number\",\n        \"std\": 969366059.9423022,\n        \"min\": 0.0,\n        \"max\": 2787965087.0,\n        \"num_unique_values\": 7,\n        \"samples\": [\n          4760.0,\n          82637425.44285715,\n          93412759.75\n        ],\n        \"semantic_type\": \"\",\n        \"description\": \"\"\n      }\n    },\n    {\n      \"column\": \"Movie_Runtime\",\n      \"properties\": {\n        \"dtype\": \"number\",\n        \"std\": 1645.7876738678387,\n        \"min\": 0.0,\n        \"max\": 4758.0,\n        \"num_unique_values\": 8,\n        \"samples\": [\n          107.18411097099622,\n          104.0,\n          4758.0\n        ],\n        \"semantic_type\": \"\",\n        \"description\": \"\"\n      }\n    },\n    {\n      \"column\": \"Movie_Vote\",\n      \"properties\": {\n        \"dtype\": \"number\",\n        \"std\": 1681.106199712945,\n        \"min\": 0.0,\n        \"max\": 4760.0,\n        \"num_unique_values\": 8,\n        \"samples\": [\n          6.113865546218487,\n          6.2,\n          4760.0\n        ],\n        \"semantic_type\": \"\",\n        \"description\": \"\"\n      }\n    },\n    {\n      \"column\": \"Movie_Vote_Count\",\n      \"properties\": {\n        \"dtype\": \"number\",\n        \"std\": 4732.148341860835,\n        \"min\": 0.0,\n        \"max\": 13752.0,\n        \"num_unique_values\": 8,\n        \"samples\": [\n          692.5084033613446,\n          238.0,\n          4760.0\n        ],\n        \"semantic_type\": \"\",\n        \"description\": \"\"\n      }\n    }\n  ]\n}"
            }
          },
          "metadata": {},
          "execution_count": 3
        }
      ]
    },
    {
      "cell_type": "code",
      "source": [
        "df.info()"
      ],
      "metadata": {
        "colab": {
          "base_uri": "https://localhost:8080/"
        },
        "id": "b493mJj0zL38",
        "outputId": "6c114199-df86-4998-f4fd-ca3b6514ee7f"
      },
      "execution_count": 4,
      "outputs": [
        {
          "output_type": "stream",
          "name": "stdout",
          "text": [
            "<class 'pandas.core.frame.DataFrame'>\n",
            "RangeIndex: 4760 entries, 0 to 4759\n",
            "Data columns (total 21 columns):\n",
            " #   Column                    Non-Null Count  Dtype  \n",
            "---  ------                    --------------  -----  \n",
            " 0   Movie_ID                  4760 non-null   int64  \n",
            " 1   Movie_Title               4760 non-null   object \n",
            " 2   Movie_Genre               4760 non-null   object \n",
            " 3   Movie_Language            4760 non-null   object \n",
            " 4   Movie_Budget              4760 non-null   int64  \n",
            " 5   Movie_Popularity          4760 non-null   float64\n",
            " 6   Movie_Release_Date        4760 non-null   object \n",
            " 7   Movie_Revenue             4760 non-null   int64  \n",
            " 8   Movie_Runtime             4758 non-null   float64\n",
            " 9   Movie_Vote                4760 non-null   float64\n",
            " 10  Movie_Vote_Count          4760 non-null   int64  \n",
            " 11  Movie_Homepage            1699 non-null   object \n",
            " 12  Movie_Keywords            4373 non-null   object \n",
            " 13  Movie_Overview            4757 non-null   object \n",
            " 14  Movie_Production_House    4760 non-null   object \n",
            " 15  Movie_Production_Country  4760 non-null   object \n",
            " 16  Movie_Spoken_Language     4760 non-null   object \n",
            " 17  Movie_Tagline             3942 non-null   object \n",
            " 18  Movie_Cast                4733 non-null   object \n",
            " 19  Movie_Crew                4760 non-null   object \n",
            " 20  Movie_Director            4738 non-null   object \n",
            "dtypes: float64(3), int64(4), object(14)\n",
            "memory usage: 781.1+ KB\n"
          ]
        }
      ]
    },
    {
      "cell_type": "code",
      "source": [
        "df.shape"
      ],
      "metadata": {
        "colab": {
          "base_uri": "https://localhost:8080/"
        },
        "id": "zMe272MK0JH7",
        "outputId": "8fe983da-ba68-436b-94f9-a2e0cf13bcf5"
      },
      "execution_count": 5,
      "outputs": [
        {
          "output_type": "execute_result",
          "data": {
            "text/plain": [
              "(4760, 21)"
            ]
          },
          "metadata": {},
          "execution_count": 5
        }
      ]
    },
    {
      "cell_type": "code",
      "source": [
        "df.columns"
      ],
      "metadata": {
        "colab": {
          "base_uri": "https://localhost:8080/"
        },
        "id": "fEA8rCGZ0JEj",
        "outputId": "c4520205-539f-4ed8-cae1-1b5032d6dd44"
      },
      "execution_count": 6,
      "outputs": [
        {
          "output_type": "execute_result",
          "data": {
            "text/plain": [
              "Index(['Movie_ID', 'Movie_Title', 'Movie_Genre', 'Movie_Language',\n",
              "       'Movie_Budget', 'Movie_Popularity', 'Movie_Release_Date',\n",
              "       'Movie_Revenue', 'Movie_Runtime', 'Movie_Vote', 'Movie_Vote_Count',\n",
              "       'Movie_Homepage', 'Movie_Keywords', 'Movie_Overview',\n",
              "       'Movie_Production_House', 'Movie_Production_Country',\n",
              "       'Movie_Spoken_Language', 'Movie_Tagline', 'Movie_Cast', 'Movie_Crew',\n",
              "       'Movie_Director'],\n",
              "      dtype='object')"
            ]
          },
          "metadata": {},
          "execution_count": 6
        }
      ]
    },
    {
      "cell_type": "markdown",
      "source": [
        "#*Feature Selection*"
      ],
      "metadata": {
        "id": "hHw3V3jvFOXD"
      }
    },
    {
      "cell_type": "code",
      "source": [
        "#features\n",
        "df_features = df[['Movie_Genre','Movie_Keywords','Movie_Tagline','Movie_Cast','Movie_Language']].fillna('')"
      ],
      "metadata": {
        "id": "V-Fzc6xu0JCN"
      },
      "execution_count": 7,
      "outputs": []
    },
    {
      "cell_type": "code",
      "source": [
        "df_features.shape"
      ],
      "metadata": {
        "colab": {
          "base_uri": "https://localhost:8080/"
        },
        "id": "YWO1_yfa0I84",
        "outputId": "0a2807f3-18dc-4610-d15a-d0273f07fac2"
      },
      "execution_count": 8,
      "outputs": [
        {
          "output_type": "execute_result",
          "data": {
            "text/plain": [
              "(4760, 5)"
            ]
          },
          "metadata": {},
          "execution_count": 8
        }
      ]
    },
    {
      "cell_type": "code",
      "source": [
        "df_features"
      ],
      "metadata": {
        "colab": {
          "base_uri": "https://localhost:8080/",
          "height": 909
        },
        "id": "Yd1CAMtP2Jrd",
        "outputId": "e18d7d04-1dae-4d37-fbb3-36de64d3cea8"
      },
      "execution_count": 9,
      "outputs": [
        {
          "output_type": "execute_result",
          "data": {
            "text/plain": [
              "                           Movie_Genre  \\\n",
              "0                         Crime Comedy   \n",
              "1     Adventure Action Science Fiction   \n",
              "2                     Animation Family   \n",
              "3                 Comedy Drama Romance   \n",
              "4                                Drama   \n",
              "...                                ...   \n",
              "4755                            Horror   \n",
              "4756               Comedy Family Drama   \n",
              "4757                    Thriller Drama   \n",
              "4758                            Family   \n",
              "4759                       Documentary   \n",
              "\n",
              "                                         Movie_Keywords  \\\n",
              "0             hotel new year's eve witch bet hotel room   \n",
              "1           android galaxy hermit death star lightsaber   \n",
              "2     father son relationship harbor underwater fish...   \n",
              "3     vietnam veteran hippie mentally disabled runni...   \n",
              "4     male nudity female nudity adultery midlife cri...   \n",
              "...                                                 ...   \n",
              "4755                                                      \n",
              "4756                                                      \n",
              "4757                     christian film sex trafficking   \n",
              "4758                                                      \n",
              "4759  music actors legendary perfomer classic hollyw...   \n",
              "\n",
              "                                          Movie_Tagline  \\\n",
              "0     Twelve outrageous guests. Four scandalous requ...   \n",
              "1          A long time ago in a galaxy far, far away...   \n",
              "2     There are 3.7 trillion fish in the ocean, they...   \n",
              "3     The world will never be the same, once you've ...   \n",
              "4                                          Look closer.   \n",
              "...                                                 ...   \n",
              "4755                The hot spot where Satan's waitin'.   \n",
              "4756           It’s better to stand out than to fit in.   \n",
              "4757           She never knew it could happen to her...   \n",
              "4758                                                      \n",
              "4759                                                      \n",
              "\n",
              "                                             Movie_Cast Movie_Language  \n",
              "0     Tim Roth Antonio Banderas Jennifer Beals Madon...             en  \n",
              "1     Mark Hamill Harrison Ford Carrie Fisher Peter ...             en  \n",
              "2     Albert Brooks Ellen DeGeneres Alexander Gould ...             en  \n",
              "3     Tom Hanks Robin Wright Gary Sinise Mykelti Wil...             en  \n",
              "4     Kevin Spacey Annette Bening Thora Birch Wes Be...             en  \n",
              "...                                                 ...            ...  \n",
              "4755  Lisa Hart Carroll Michael Des Barres Paul Drak...             en  \n",
              "4756  Roni Akurati Brighton Sharbino Jason Lee Anjul...             en  \n",
              "4757  Nicole Smolen Kim Baldwin Ariana Stephens Brys...             en  \n",
              "4758                                                                en  \n",
              "4759                                    Tony Oppedisano             en  \n",
              "\n",
              "[4760 rows x 5 columns]"
            ],
            "text/html": [
              "\n",
              "  <div id=\"df-078c1f7c-c694-4628-93f6-bb382c8a9a0c\" class=\"colab-df-container\">\n",
              "    <div>\n",
              "<style scoped>\n",
              "    .dataframe tbody tr th:only-of-type {\n",
              "        vertical-align: middle;\n",
              "    }\n",
              "\n",
              "    .dataframe tbody tr th {\n",
              "        vertical-align: top;\n",
              "    }\n",
              "\n",
              "    .dataframe thead th {\n",
              "        text-align: right;\n",
              "    }\n",
              "</style>\n",
              "<table border=\"1\" class=\"dataframe\">\n",
              "  <thead>\n",
              "    <tr style=\"text-align: right;\">\n",
              "      <th></th>\n",
              "      <th>Movie_Genre</th>\n",
              "      <th>Movie_Keywords</th>\n",
              "      <th>Movie_Tagline</th>\n",
              "      <th>Movie_Cast</th>\n",
              "      <th>Movie_Language</th>\n",
              "    </tr>\n",
              "  </thead>\n",
              "  <tbody>\n",
              "    <tr>\n",
              "      <th>0</th>\n",
              "      <td>Crime Comedy</td>\n",
              "      <td>hotel new year's eve witch bet hotel room</td>\n",
              "      <td>Twelve outrageous guests. Four scandalous requ...</td>\n",
              "      <td>Tim Roth Antonio Banderas Jennifer Beals Madon...</td>\n",
              "      <td>en</td>\n",
              "    </tr>\n",
              "    <tr>\n",
              "      <th>1</th>\n",
              "      <td>Adventure Action Science Fiction</td>\n",
              "      <td>android galaxy hermit death star lightsaber</td>\n",
              "      <td>A long time ago in a galaxy far, far away...</td>\n",
              "      <td>Mark Hamill Harrison Ford Carrie Fisher Peter ...</td>\n",
              "      <td>en</td>\n",
              "    </tr>\n",
              "    <tr>\n",
              "      <th>2</th>\n",
              "      <td>Animation Family</td>\n",
              "      <td>father son relationship harbor underwater fish...</td>\n",
              "      <td>There are 3.7 trillion fish in the ocean, they...</td>\n",
              "      <td>Albert Brooks Ellen DeGeneres Alexander Gould ...</td>\n",
              "      <td>en</td>\n",
              "    </tr>\n",
              "    <tr>\n",
              "      <th>3</th>\n",
              "      <td>Comedy Drama Romance</td>\n",
              "      <td>vietnam veteran hippie mentally disabled runni...</td>\n",
              "      <td>The world will never be the same, once you've ...</td>\n",
              "      <td>Tom Hanks Robin Wright Gary Sinise Mykelti Wil...</td>\n",
              "      <td>en</td>\n",
              "    </tr>\n",
              "    <tr>\n",
              "      <th>4</th>\n",
              "      <td>Drama</td>\n",
              "      <td>male nudity female nudity adultery midlife cri...</td>\n",
              "      <td>Look closer.</td>\n",
              "      <td>Kevin Spacey Annette Bening Thora Birch Wes Be...</td>\n",
              "      <td>en</td>\n",
              "    </tr>\n",
              "    <tr>\n",
              "      <th>...</th>\n",
              "      <td>...</td>\n",
              "      <td>...</td>\n",
              "      <td>...</td>\n",
              "      <td>...</td>\n",
              "      <td>...</td>\n",
              "    </tr>\n",
              "    <tr>\n",
              "      <th>4755</th>\n",
              "      <td>Horror</td>\n",
              "      <td></td>\n",
              "      <td>The hot spot where Satan's waitin'.</td>\n",
              "      <td>Lisa Hart Carroll Michael Des Barres Paul Drak...</td>\n",
              "      <td>en</td>\n",
              "    </tr>\n",
              "    <tr>\n",
              "      <th>4756</th>\n",
              "      <td>Comedy Family Drama</td>\n",
              "      <td></td>\n",
              "      <td>It’s better to stand out than to fit in.</td>\n",
              "      <td>Roni Akurati Brighton Sharbino Jason Lee Anjul...</td>\n",
              "      <td>en</td>\n",
              "    </tr>\n",
              "    <tr>\n",
              "      <th>4757</th>\n",
              "      <td>Thriller Drama</td>\n",
              "      <td>christian film sex trafficking</td>\n",
              "      <td>She never knew it could happen to her...</td>\n",
              "      <td>Nicole Smolen Kim Baldwin Ariana Stephens Brys...</td>\n",
              "      <td>en</td>\n",
              "    </tr>\n",
              "    <tr>\n",
              "      <th>4758</th>\n",
              "      <td>Family</td>\n",
              "      <td></td>\n",
              "      <td></td>\n",
              "      <td></td>\n",
              "      <td>en</td>\n",
              "    </tr>\n",
              "    <tr>\n",
              "      <th>4759</th>\n",
              "      <td>Documentary</td>\n",
              "      <td>music actors legendary perfomer classic hollyw...</td>\n",
              "      <td></td>\n",
              "      <td>Tony Oppedisano</td>\n",
              "      <td>en</td>\n",
              "    </tr>\n",
              "  </tbody>\n",
              "</table>\n",
              "<p>4760 rows × 5 columns</p>\n",
              "</div>\n",
              "    <div class=\"colab-df-buttons\">\n",
              "\n",
              "  <div class=\"colab-df-container\">\n",
              "    <button class=\"colab-df-convert\" onclick=\"convertToInteractive('df-078c1f7c-c694-4628-93f6-bb382c8a9a0c')\"\n",
              "            title=\"Convert this dataframe to an interactive table.\"\n",
              "            style=\"display:none;\">\n",
              "\n",
              "  <svg xmlns=\"http://www.w3.org/2000/svg\" height=\"24px\" viewBox=\"0 -960 960 960\">\n",
              "    <path d=\"M120-120v-720h720v720H120Zm60-500h600v-160H180v160Zm220 220h160v-160H400v160Zm0 220h160v-160H400v160ZM180-400h160v-160H180v160Zm440 0h160v-160H620v160ZM180-180h160v-160H180v160Zm440 0h160v-160H620v160Z\"/>\n",
              "  </svg>\n",
              "    </button>\n",
              "\n",
              "  <style>\n",
              "    .colab-df-container {\n",
              "      display:flex;\n",
              "      gap: 12px;\n",
              "    }\n",
              "\n",
              "    .colab-df-convert {\n",
              "      background-color: #E8F0FE;\n",
              "      border: none;\n",
              "      border-radius: 50%;\n",
              "      cursor: pointer;\n",
              "      display: none;\n",
              "      fill: #1967D2;\n",
              "      height: 32px;\n",
              "      padding: 0 0 0 0;\n",
              "      width: 32px;\n",
              "    }\n",
              "\n",
              "    .colab-df-convert:hover {\n",
              "      background-color: #E2EBFA;\n",
              "      box-shadow: 0px 1px 2px rgba(60, 64, 67, 0.3), 0px 1px 3px 1px rgba(60, 64, 67, 0.15);\n",
              "      fill: #174EA6;\n",
              "    }\n",
              "\n",
              "    .colab-df-buttons div {\n",
              "      margin-bottom: 4px;\n",
              "    }\n",
              "\n",
              "    [theme=dark] .colab-df-convert {\n",
              "      background-color: #3B4455;\n",
              "      fill: #D2E3FC;\n",
              "    }\n",
              "\n",
              "    [theme=dark] .colab-df-convert:hover {\n",
              "      background-color: #434B5C;\n",
              "      box-shadow: 0px 1px 3px 1px rgba(0, 0, 0, 0.15);\n",
              "      filter: drop-shadow(0px 1px 2px rgba(0, 0, 0, 0.3));\n",
              "      fill: #FFFFFF;\n",
              "    }\n",
              "  </style>\n",
              "\n",
              "    <script>\n",
              "      const buttonEl =\n",
              "        document.querySelector('#df-078c1f7c-c694-4628-93f6-bb382c8a9a0c button.colab-df-convert');\n",
              "      buttonEl.style.display =\n",
              "        google.colab.kernel.accessAllowed ? 'block' : 'none';\n",
              "\n",
              "      async function convertToInteractive(key) {\n",
              "        const element = document.querySelector('#df-078c1f7c-c694-4628-93f6-bb382c8a9a0c');\n",
              "        const dataTable =\n",
              "          await google.colab.kernel.invokeFunction('convertToInteractive',\n",
              "                                                    [key], {});\n",
              "        if (!dataTable) return;\n",
              "\n",
              "        const docLinkHtml = 'Like what you see? Visit the ' +\n",
              "          '<a target=\"_blank\" href=https://colab.research.google.com/notebooks/data_table.ipynb>data table notebook</a>'\n",
              "          + ' to learn more about interactive tables.';\n",
              "        element.innerHTML = '';\n",
              "        dataTable['output_type'] = 'display_data';\n",
              "        await google.colab.output.renderOutput(dataTable, element);\n",
              "        const docLink = document.createElement('div');\n",
              "        docLink.innerHTML = docLinkHtml;\n",
              "        element.appendChild(docLink);\n",
              "      }\n",
              "    </script>\n",
              "  </div>\n",
              "\n",
              "\n",
              "<div id=\"df-571bf0b7-3d45-416d-83e8-e2aa0b85e234\">\n",
              "  <button class=\"colab-df-quickchart\" onclick=\"quickchart('df-571bf0b7-3d45-416d-83e8-e2aa0b85e234')\"\n",
              "            title=\"Suggest charts\"\n",
              "            style=\"display:none;\">\n",
              "\n",
              "<svg xmlns=\"http://www.w3.org/2000/svg\" height=\"24px\"viewBox=\"0 0 24 24\"\n",
              "     width=\"24px\">\n",
              "    <g>\n",
              "        <path d=\"M19 3H5c-1.1 0-2 .9-2 2v14c0 1.1.9 2 2 2h14c1.1 0 2-.9 2-2V5c0-1.1-.9-2-2-2zM9 17H7v-7h2v7zm4 0h-2V7h2v10zm4 0h-2v-4h2v4z\"/>\n",
              "    </g>\n",
              "</svg>\n",
              "  </button>\n",
              "\n",
              "<style>\n",
              "  .colab-df-quickchart {\n",
              "      --bg-color: #E8F0FE;\n",
              "      --fill-color: #1967D2;\n",
              "      --hover-bg-color: #E2EBFA;\n",
              "      --hover-fill-color: #174EA6;\n",
              "      --disabled-fill-color: #AAA;\n",
              "      --disabled-bg-color: #DDD;\n",
              "  }\n",
              "\n",
              "  [theme=dark] .colab-df-quickchart {\n",
              "      --bg-color: #3B4455;\n",
              "      --fill-color: #D2E3FC;\n",
              "      --hover-bg-color: #434B5C;\n",
              "      --hover-fill-color: #FFFFFF;\n",
              "      --disabled-bg-color: #3B4455;\n",
              "      --disabled-fill-color: #666;\n",
              "  }\n",
              "\n",
              "  .colab-df-quickchart {\n",
              "    background-color: var(--bg-color);\n",
              "    border: none;\n",
              "    border-radius: 50%;\n",
              "    cursor: pointer;\n",
              "    display: none;\n",
              "    fill: var(--fill-color);\n",
              "    height: 32px;\n",
              "    padding: 0;\n",
              "    width: 32px;\n",
              "  }\n",
              "\n",
              "  .colab-df-quickchart:hover {\n",
              "    background-color: var(--hover-bg-color);\n",
              "    box-shadow: 0 1px 2px rgba(60, 64, 67, 0.3), 0 1px 3px 1px rgba(60, 64, 67, 0.15);\n",
              "    fill: var(--button-hover-fill-color);\n",
              "  }\n",
              "\n",
              "  .colab-df-quickchart-complete:disabled,\n",
              "  .colab-df-quickchart-complete:disabled:hover {\n",
              "    background-color: var(--disabled-bg-color);\n",
              "    fill: var(--disabled-fill-color);\n",
              "    box-shadow: none;\n",
              "  }\n",
              "\n",
              "  .colab-df-spinner {\n",
              "    border: 2px solid var(--fill-color);\n",
              "    border-color: transparent;\n",
              "    border-bottom-color: var(--fill-color);\n",
              "    animation:\n",
              "      spin 1s steps(1) infinite;\n",
              "  }\n",
              "\n",
              "  @keyframes spin {\n",
              "    0% {\n",
              "      border-color: transparent;\n",
              "      border-bottom-color: var(--fill-color);\n",
              "      border-left-color: var(--fill-color);\n",
              "    }\n",
              "    20% {\n",
              "      border-color: transparent;\n",
              "      border-left-color: var(--fill-color);\n",
              "      border-top-color: var(--fill-color);\n",
              "    }\n",
              "    30% {\n",
              "      border-color: transparent;\n",
              "      border-left-color: var(--fill-color);\n",
              "      border-top-color: var(--fill-color);\n",
              "      border-right-color: var(--fill-color);\n",
              "    }\n",
              "    40% {\n",
              "      border-color: transparent;\n",
              "      border-right-color: var(--fill-color);\n",
              "      border-top-color: var(--fill-color);\n",
              "    }\n",
              "    60% {\n",
              "      border-color: transparent;\n",
              "      border-right-color: var(--fill-color);\n",
              "    }\n",
              "    80% {\n",
              "      border-color: transparent;\n",
              "      border-right-color: var(--fill-color);\n",
              "      border-bottom-color: var(--fill-color);\n",
              "    }\n",
              "    90% {\n",
              "      border-color: transparent;\n",
              "      border-bottom-color: var(--fill-color);\n",
              "    }\n",
              "  }\n",
              "</style>\n",
              "\n",
              "  <script>\n",
              "    async function quickchart(key) {\n",
              "      const quickchartButtonEl =\n",
              "        document.querySelector('#' + key + ' button');\n",
              "      quickchartButtonEl.disabled = true;  // To prevent multiple clicks.\n",
              "      quickchartButtonEl.classList.add('colab-df-spinner');\n",
              "      try {\n",
              "        const charts = await google.colab.kernel.invokeFunction(\n",
              "            'suggestCharts', [key], {});\n",
              "      } catch (error) {\n",
              "        console.error('Error during call to suggestCharts:', error);\n",
              "      }\n",
              "      quickchartButtonEl.classList.remove('colab-df-spinner');\n",
              "      quickchartButtonEl.classList.add('colab-df-quickchart-complete');\n",
              "    }\n",
              "    (() => {\n",
              "      let quickchartButtonEl =\n",
              "        document.querySelector('#df-571bf0b7-3d45-416d-83e8-e2aa0b85e234 button');\n",
              "      quickchartButtonEl.style.display =\n",
              "        google.colab.kernel.accessAllowed ? 'block' : 'none';\n",
              "    })();\n",
              "  </script>\n",
              "</div>\n",
              "\n",
              "  <div id=\"id_d265498a-dc04-4ffe-94d1-2980c7aecb19\">\n",
              "    <style>\n",
              "      .colab-df-generate {\n",
              "        background-color: #E8F0FE;\n",
              "        border: none;\n",
              "        border-radius: 50%;\n",
              "        cursor: pointer;\n",
              "        display: none;\n",
              "        fill: #1967D2;\n",
              "        height: 32px;\n",
              "        padding: 0 0 0 0;\n",
              "        width: 32px;\n",
              "      }\n",
              "\n",
              "      .colab-df-generate:hover {\n",
              "        background-color: #E2EBFA;\n",
              "        box-shadow: 0px 1px 2px rgba(60, 64, 67, 0.3), 0px 1px 3px 1px rgba(60, 64, 67, 0.15);\n",
              "        fill: #174EA6;\n",
              "      }\n",
              "\n",
              "      [theme=dark] .colab-df-generate {\n",
              "        background-color: #3B4455;\n",
              "        fill: #D2E3FC;\n",
              "      }\n",
              "\n",
              "      [theme=dark] .colab-df-generate:hover {\n",
              "        background-color: #434B5C;\n",
              "        box-shadow: 0px 1px 3px 1px rgba(0, 0, 0, 0.15);\n",
              "        filter: drop-shadow(0px 1px 2px rgba(0, 0, 0, 0.3));\n",
              "        fill: #FFFFFF;\n",
              "      }\n",
              "    </style>\n",
              "    <button class=\"colab-df-generate\" onclick=\"generateWithVariable('df_features')\"\n",
              "            title=\"Generate code using this dataframe.\"\n",
              "            style=\"display:none;\">\n",
              "\n",
              "  <svg xmlns=\"http://www.w3.org/2000/svg\" height=\"24px\"viewBox=\"0 0 24 24\"\n",
              "       width=\"24px\">\n",
              "    <path d=\"M7,19H8.4L18.45,9,17,7.55,7,17.6ZM5,21V16.75L18.45,3.32a2,2,0,0,1,2.83,0l1.4,1.43a1.91,1.91,0,0,1,.58,1.4,1.91,1.91,0,0,1-.58,1.4L9.25,21ZM18.45,9,17,7.55Zm-12,3A5.31,5.31,0,0,0,4.9,8.1,5.31,5.31,0,0,0,1,6.5,5.31,5.31,0,0,0,4.9,4.9,5.31,5.31,0,0,0,6.5,1,5.31,5.31,0,0,0,8.1,4.9,5.31,5.31,0,0,0,12,6.5,5.46,5.46,0,0,0,6.5,12Z\"/>\n",
              "  </svg>\n",
              "    </button>\n",
              "    <script>\n",
              "      (() => {\n",
              "      const buttonEl =\n",
              "        document.querySelector('#id_d265498a-dc04-4ffe-94d1-2980c7aecb19 button.colab-df-generate');\n",
              "      buttonEl.style.display =\n",
              "        google.colab.kernel.accessAllowed ? 'block' : 'none';\n",
              "\n",
              "      buttonEl.onclick = () => {\n",
              "        google.colab.notebook.generateWithVariable('df_features');\n",
              "      }\n",
              "      })();\n",
              "    </script>\n",
              "  </div>\n",
              "\n",
              "    </div>\n",
              "  </div>\n"
            ],
            "application/vnd.google.colaboratory.intrinsic+json": {
              "type": "dataframe",
              "variable_name": "df_features",
              "summary": "{\n  \"name\": \"df_features\",\n  \"rows\": 4760,\n  \"fields\": [\n    {\n      \"column\": \"Movie_Genre\",\n      \"properties\": {\n        \"dtype\": \"category\",\n        \"num_unique_values\": 1164,\n        \"samples\": [\n          \"Family Animation Adventure\",\n          \"Adventure Science Fiction Action\",\n          \"Action Crime Drama Romance Thriller\"\n        ],\n        \"semantic_type\": \"\",\n        \"description\": \"\"\n      }\n    },\n    {\n      \"column\": \"Movie_Keywords\",\n      \"properties\": {\n        \"dtype\": \"string\",\n        \"num_unique_values\": 4203,\n        \"samples\": [\n          \"canada nazis sequel spin off ancient evil\",\n          \"sex professor wedding woman director columbia university\",\n          \"prophecy sea beach gold small town\"\n        ],\n        \"semantic_type\": \"\",\n        \"description\": \"\"\n      }\n    },\n    {\n      \"column\": \"Movie_Tagline\",\n      \"properties\": {\n        \"dtype\": \"string\",\n        \"num_unique_values\": 3928,\n        \"samples\": [\n          \"The messenger must be silenced.\",\n          \"It's not the house that's haunted.\",\n          \"The final hunt begins.\"\n        ],\n        \"semantic_type\": \"\",\n        \"description\": \"\"\n      }\n    },\n    {\n      \"column\": \"Movie_Cast\",\n      \"properties\": {\n        \"dtype\": \"string\",\n        \"num_unique_values\": 4715,\n        \"samples\": [\n          \"Robin Tunney Fairuza Balk Neve Campbell Rachel True Skeet Ulrich\",\n          \"Peter Sellers Christopher Plummer Herbert Lom Catherine Schell Peter Arne\",\n          \"John Wayne Laraine Day Cedric Hardwicke Judith Anderson Anthony Quinn\"\n        ],\n        \"semantic_type\": \"\",\n        \"description\": \"\"\n      }\n    },\n    {\n      \"column\": \"Movie_Language\",\n      \"properties\": {\n        \"dtype\": \"category\",\n        \"num_unique_values\": 37,\n        \"samples\": [\n          \"he\",\n          \"fr\",\n          \"ja\"\n        ],\n        \"semantic_type\": \"\",\n        \"description\": \"\"\n      }\n    }\n  ]\n}"
            }
          },
          "metadata": {},
          "execution_count": 9
        }
      ]
    },
    {
      "cell_type": "code",
      "source": [
        "X = df_features['Movie_Genre']+' '+df_features['Movie_Keywords']+' '+df_features['Movie_Tagline']+' '+df_features['Movie_Cast']+' '+df_features['Movie_Language']"
      ],
      "metadata": {
        "id": "AIb3XXhf2KMg"
      },
      "execution_count": 10,
      "outputs": []
    },
    {
      "cell_type": "code",
      "source": [
        "X.shape"
      ],
      "metadata": {
        "colab": {
          "base_uri": "https://localhost:8080/"
        },
        "id": "SuKxh3D52KOU",
        "outputId": "838fa534-4fe6-42d1-a7c4-475a4ea7bb11"
      },
      "execution_count": 11,
      "outputs": [
        {
          "output_type": "execute_result",
          "data": {
            "text/plain": [
              "(4760,)"
            ]
          },
          "metadata": {},
          "execution_count": 11
        }
      ]
    },
    {
      "cell_type": "markdown",
      "source": [
        "#*Get Feature Yext Conversion to Tokens*"
      ],
      "metadata": {
        "id": "_Um_bBIXFtei"
      }
    },
    {
      "cell_type": "code",
      "source": [
        "from sklearn.feature_extraction.text import TfidfVectorizer"
      ],
      "metadata": {
        "id": "SwYorXEb2KRr"
      },
      "execution_count": 12,
      "outputs": []
    },
    {
      "cell_type": "markdown",
      "source": [],
      "metadata": {
        "id": "4FScyeeIthpw"
      }
    },
    {
      "cell_type": "code",
      "source": [
        "tfidf = TfidfVectorizer()"
      ],
      "metadata": {
        "id": "vnVOs8DQ4A6K"
      },
      "execution_count": 13,
      "outputs": []
    },
    {
      "cell_type": "code",
      "source": [
        "X = tfidf.fit_transform(X)"
      ],
      "metadata": {
        "id": "IykFymIv4BI6"
      },
      "execution_count": 14,
      "outputs": []
    },
    {
      "cell_type": "code",
      "source": [
        "X.shape"
      ],
      "metadata": {
        "colab": {
          "base_uri": "https://localhost:8080/"
        },
        "id": "pNHVgKQV4BLR",
        "outputId": "12cfa9a3-50ef-41b9-b572-4bc07a070e7c"
      },
      "execution_count": 15,
      "outputs": [
        {
          "output_type": "execute_result",
          "data": {
            "text/plain": [
              "(4760, 15830)"
            ]
          },
          "metadata": {},
          "execution_count": 15
        }
      ]
    },
    {
      "cell_type": "code",
      "source": [
        "print(X)"
      ],
      "metadata": {
        "colab": {
          "base_uri": "https://localhost:8080/"
        },
        "id": "kcXxUuA24BNd",
        "outputId": "2824eae8-6c2d-432e-e352-e6dc5b454fea"
      },
      "execution_count": 16,
      "outputs": [
        {
          "output_type": "stream",
          "name": "stdout",
          "text": [
            "  (0, 4525)\t0.024407900968331668\n",
            "  (0, 14141)\t0.14965877054332308\n",
            "  (0, 8877)\t0.14527586400668335\n",
            "  (0, 8682)\t0.16950226181409797\n",
            "  (0, 1287)\t0.17256554143677336\n",
            "  (0, 7207)\t0.10049362571865973\n",
            "  (0, 1132)\t0.1424633029483697\n",
            "  (0, 684)\t0.13995821437472214\n",
            "  (0, 12027)\t0.15221034448302082\n",
            "  (0, 14091)\t0.11528900138744103\n",
            "  (0, 8305)\t0.08852153113755766\n",
            "  (0, 10220)\t0.06382860395222618\n",
            "  (0, 15393)\t0.18028438961007162\n",
            "  (0, 5190)\t0.08785894297693643\n",
            "  (0, 15358)\t0.10916665953713775\n",
            "  (0, 7277)\t0.13630918751916965\n",
            "  (0, 13964)\t0.10008199297276782\n",
            "  (0, 10294)\t0.07432044961300513\n",
            "  (0, 3584)\t0.12252712258060638\n",
            "  (0, 5089)\t0.11696832556318432\n",
            "  (0, 6507)\t0.2024256463715206\n",
            "  (0, 6866)\t0.15058177642574924\n",
            "  (0, 1386)\t0.20130457574180027\n",
            "  (0, 8450)\t0.15836445991222084\n",
            "  (0, 10296)\t0.08438103389131153\n",
            "  :\t:\n",
            "  (4757, 5047)\t0.13621187285287603\n",
            "  (4757, 2727)\t0.18251412907060444\n",
            "  (4757, 7787)\t0.2564990342110075\n",
            "  (4757, 6386)\t0.18633596895702145\n",
            "  (4757, 7710)\t0.19357518951723537\n",
            "  (4757, 14043)\t0.08346601985065841\n",
            "  (4757, 14117)\t0.10641888742179725\n",
            "  (4757, 7055)\t0.12400814956198254\n",
            "  (4757, 9983)\t0.1586202951045017\n",
            "  (4757, 4149)\t0.06188562075042832\n",
            "  (4757, 4525)\t0.03808541129598556\n",
            "  (4758, 4854)\t0.9420648594255822\n",
            "  (4758, 4525)\t0.33543076876675815\n",
            "  (4759, 10315)\t0.37177534626130104\n",
            "  (4759, 10724)\t0.37177534626130104\n",
            "  (4759, 203)\t0.3545969074999767\n",
            "  (4759, 8183)\t0.3329546341696697\n",
            "  (4759, 12891)\t0.3545969074999767\n",
            "  (4759, 2813)\t0.30805173370837896\n",
            "  (4759, 6563)\t0.28933249812930145\n",
            "  (4759, 5263)\t0.23712996737888303\n",
            "  (4759, 4023)\t0.20048241075459725\n",
            "  (4759, 14156)\t0.23213982488650778\n",
            "  (4759, 9770)\t0.1739989133382955\n",
            "  (4759, 4525)\t0.04507724576341465\n"
          ]
        }
      ]
    },
    {
      "cell_type": "markdown",
      "source": [
        "#*Get Similarity Scofre using Cosine Similarity*"
      ],
      "metadata": {
        "id": "H93djCpmGQx6"
      }
    },
    {
      "cell_type": "code",
      "source": [
        "from sklearn.metrics.pairwise import cosine_similarity"
      ],
      "metadata": {
        "id": "ysoNk2Pc4BQ9"
      },
      "execution_count": 17,
      "outputs": []
    },
    {
      "cell_type": "code",
      "source": [
        "Similarity_Score =cosine_similarity(X)"
      ],
      "metadata": {
        "id": "vqxv9HVo5TRh"
      },
      "execution_count": 18,
      "outputs": []
    },
    {
      "cell_type": "code",
      "source": [
        "Similarity_Score"
      ],
      "metadata": {
        "colab": {
          "base_uri": "https://localhost:8080/"
        },
        "id": "om7vTc9s5ga3",
        "outputId": "1fc9bae9-5375-4b43-d332-e9d2fcbb0d56"
      },
      "execution_count": 19,
      "outputs": [
        {
          "output_type": "execute_result",
          "data": {
            "text/plain": [
              "array([[1.00000000e+00, 1.47610375e-02, 3.80103110e-02, ...,\n",
              "        9.29584947e-04, 8.18716099e-03, 1.10024095e-03],\n",
              "       [1.47610375e-02, 1.00000000e+00, 9.26791380e-03, ...,\n",
              "        1.14987260e-03, 1.01273069e-02, 1.36096967e-03],\n",
              "       [3.80103110e-02, 9.26791380e-03, 1.00000000e+00, ...,\n",
              "        1.11179968e-03, 8.70292011e-02, 1.31590721e-03],\n",
              "       ...,\n",
              "       [9.29584947e-04, 1.14987260e-03, 1.11179968e-03, ...,\n",
              "        1.00000000e+00, 1.27750188e-02, 1.71678544e-03],\n",
              "       [8.18716099e-03, 1.01273069e-02, 8.70292011e-02, ...,\n",
              "        1.27750188e-02, 1.00000000e+00, 1.51202952e-02],\n",
              "       [1.10024095e-03, 1.36096967e-03, 1.31590721e-03, ...,\n",
              "        1.71678544e-03, 1.51202952e-02, 1.00000000e+00]])"
            ]
          },
          "metadata": {},
          "execution_count": 19
        }
      ]
    },
    {
      "cell_type": "code",
      "source": [
        "Similarity_Score.shape"
      ],
      "metadata": {
        "colab": {
          "base_uri": "https://localhost:8080/"
        },
        "id": "ZnAWxjYg5kh-",
        "outputId": "9efe1103-73a3-4216-9c33-4d33f8f966c3"
      },
      "execution_count": 20,
      "outputs": [
        {
          "output_type": "execute_result",
          "data": {
            "text/plain": [
              "(4760, 4760)"
            ]
          },
          "metadata": {},
          "execution_count": 20
        }
      ]
    },
    {
      "cell_type": "markdown",
      "source": [
        "#*Get Movie nam as an input from user and validate for closest spelling*"
      ],
      "metadata": {
        "id": "LU4m5EFsGjie"
      }
    },
    {
      "cell_type": "code",
      "source": [
        "#get input from user and validate fom closest spelling\n",
        "Favourite_Movie_Name = input('Enter your favourite movie name: ')"
      ],
      "metadata": {
        "colab": {
          "base_uri": "https://localhost:8080/"
        },
        "id": "Ilo6ox2g5vRd",
        "outputId": "29e62a40-1948-4c63-be58-930dcfcbaeb2"
      },
      "execution_count": 21,
      "outputs": [
        {
          "name": "stdout",
          "output_type": "stream",
          "text": [
            "Enter your favourite movie name: Avenger\n"
          ]
        }
      ]
    },
    {
      "cell_type": "code",
      "source": [
        "All_Movies_Title_List = df['Movie_Title'].tolist()"
      ],
      "metadata": {
        "id": "rjJvC--F5vTv"
      },
      "execution_count": 22,
      "outputs": []
    },
    {
      "cell_type": "code",
      "source": [
        "import difflib"
      ],
      "metadata": {
        "id": "TThPXab85vXK"
      },
      "execution_count": 23,
      "outputs": []
    },
    {
      "cell_type": "code",
      "source": [
        "Movie_Recommendation = difflib.get_close_matches(Favourite_Movie_Name,All_Movies_Title_List)\n",
        "print(Movie_Recommendation)"
      ],
      "metadata": {
        "colab": {
          "base_uri": "https://localhost:8080/"
        },
        "id": "pLAC-nMr7iDN",
        "outputId": "50391c97-9fb9-4149-b42e-670d6d7cb2de"
      },
      "execution_count": 24,
      "outputs": [
        {
          "output_type": "stream",
          "name": "stdout",
          "text": [
            "['The Avengers', 'Alexander']\n"
          ]
        }
      ]
    },
    {
      "cell_type": "code",
      "source": [
        "Close_Match = Movie_Recommendation[0]\n",
        "print(Close_Match)"
      ],
      "metadata": {
        "colab": {
          "base_uri": "https://localhost:8080/"
        },
        "id": "AoxZ_cJu7sYB",
        "outputId": "9d59c301-da8c-40ca-fd3d-67ee19323bf3"
      },
      "execution_count": 28,
      "outputs": [
        {
          "output_type": "stream",
          "name": "stdout",
          "text": [
            "The Avengers\n"
          ]
        }
      ]
    },
    {
      "cell_type": "code",
      "source": [
        "Index_of_Close_Match_Movie = df[df.Movie_Title == Close_Match]['Movie_ID'].values[0]\n",
        "print(Index_of_Close_Match_Movie)"
      ],
      "metadata": {
        "colab": {
          "base_uri": "https://localhost:8080/"
        },
        "id": "EzmPlbq379kM",
        "outputId": "1cff1d94-f1d2-4730-b07c-0c61b3b889f2"
      },
      "execution_count": 29,
      "outputs": [
        {
          "output_type": "stream",
          "name": "stdout",
          "text": [
            "2851\n"
          ]
        }
      ]
    },
    {
      "cell_type": "code",
      "source": [
        "Recommendation_Score = list(enumerate(Similarity_Score[Index_of_Close_Match_Movie]))"
      ],
      "metadata": {
        "id": "YXrHAXoU8RMk"
      },
      "execution_count": 30,
      "outputs": []
    },
    {
      "cell_type": "code",
      "source": [
        "len(Recommendation_Score)"
      ],
      "metadata": {
        "colab": {
          "base_uri": "https://localhost:8080/"
        },
        "id": "3Ym1CN5G8RO7",
        "outputId": "98140a84-c583-41cb-e0df-91a29b654ae5"
      },
      "execution_count": 31,
      "outputs": [
        {
          "output_type": "execute_result",
          "data": {
            "text/plain": [
              "4760"
            ]
          },
          "metadata": {},
          "execution_count": 31
        }
      ]
    },
    {
      "cell_type": "markdown",
      "source": [
        "#*Get All Movies sort based on Recommendation Score*"
      ],
      "metadata": {
        "id": "SSzTc35fHL6q"
      }
    },
    {
      "cell_type": "code",
      "source": [
        "#sorting the movies based on their similarity score\n",
        "Sorted_Similar_Movies = sorted(Recommendation_Score,key = lambda x:x[1],reverse = True)\n",
        "print(Sorted_Similar_Movies)"
      ],
      "metadata": {
        "colab": {
          "base_uri": "https://localhost:8080/"
        },
        "id": "2oX6szZ18RSf",
        "outputId": "e598e425-c2e2-4cd9-be69-dc130bc7f482"
      },
      "execution_count": 32,
      "outputs": [
        {
          "output_type": "stream",
          "name": "stdout",
          "text": [
            "[(2851, 1.0), (1842, 0.20867300603254504), (399, 0.19406967100185665), (1951, 0.17650158037595484), (2873, 0.17381091936859017), (3033, 0.16591664866316957), (2188, 0.16542276154857316), (3820, 0.16479898629352063), (2372, 0.15063500912784228), (2464, 0.14517792232788074), (2123, 0.13931315292284266), (807, 0.13725267382264664), (3071, 0.13582589498461106), (2577, 0.13054295911663807), (4758, 0.13054295911663807), (1771, 0.13008598256671353), (1517, 0.12989938397045728), (642, 0.1261263619312753), (154, 0.12527204228559843), (4122, 0.1248858719369331), (3027, 0.12094756725658462), (1646, 0.12018399421786108), (3046, 0.11656238914747231), (1232, 0.11638721433179136), (2140, 0.11436128777666514), (1490, 0.1141994534342546), (116, 0.11248956368220255), (3000, 0.11073141529703397), (2775, 0.10966681796407876), (2833, 0.1029833174821792), (3684, 0.10254352577975205), (4650, 0.10068679390941837), (804, 0.10058765019334355), (2187, 0.09775470451529324), (4319, 0.09647595635084626), (4252, 0.0951941581470218), (1393, 0.09429287729321692), (2445, 0.09339584920943073), (1007, 0.09330216158510131), (1895, 0.09258964809673777), (3483, 0.0923265051391224), (2196, 0.09229991805600397), (4470, 0.09210683191822953), (2484, 0.09078536913024826), (4025, 0.0906772479859779), (1436, 0.09033758204737126), (1443, 0.09003355287735426), (1294, 0.08922599479779159), (1079, 0.088721403103816), (2074, 0.08861530698300048), (2659, 0.08752940122247563), (3812, 0.0871715986166811), (4434, 0.08712598027364413), (2606, 0.08622570726333315), (657, 0.08612720629758887), (1227, 0.08530672282675786), (2965, 0.0840553311058958), (152, 0.08316769577252567), (3685, 0.08221679011012042), (4074, 0.08211268407117683), (2588, 0.08192460492755284), (1290, 0.08151489826037339), (4659, 0.08094262062377773), (1062, 0.08077489860050899), (2720, 0.08068084703309401), (1344, 0.07960932381259224), (879, 0.07895609668673456), (1782, 0.07865725800913104), (4688, 0.07830978552724466), (1468, 0.07773855767523712), (3727, 0.0771628636728431), (3017, 0.07626328530655367), (4189, 0.07620273843368786), (4199, 0.07602519076260551), (2022, 0.07590920228440388), (953, 0.07569898194274), (3133, 0.07550258985408277), (791, 0.07442694385682537), (344, 0.0739854134991693), (651, 0.07394884940992623), (938, 0.07370972428992553), (1203, 0.07368851332135119), (752, 0.07286985775971924), (1122, 0.0726546794473444), (4325, 0.07260579265241147), (3607, 0.07192783729445551), (1435, 0.07145182516899305), (4388, 0.07125398270748083), (2958, 0.07122146194497855), (146, 0.0709905686695603), (1433, 0.07054319467950512), (3990, 0.07022044734888522), (2699, 0.07002902750947106), (461, 0.06781748106304318), (2781, 0.06781120384979741), (1157, 0.06734705685954592), (2756, 0.06717347552589042), (4411, 0.06639629390008124), (4522, 0.06600160664251668), (1243, 0.06584866412182139), (771, 0.06478179954237356), (546, 0.06469396739488689), (2468, 0.0644508576464262), (2710, 0.0644226421464793), (3189, 0.06433173307329537), (1555, 0.06416437659853465), (2352, 0.06413499114109257), (2223, 0.06408148848180059), (4262, 0.06391073419428982), (1657, 0.06384033056198099), (652, 0.06365590577878581), (4708, 0.06280512475480492), (198, 0.06258129515980425), (2925, 0.062461728298982964), (853, 0.06240513164713876), (2480, 0.06238049983980151), (1250, 0.06215147172453209), (2269, 0.062139140515001946), (19, 0.062040279903884846), (1474, 0.061839218867998154), (3563, 0.061831526448200676), (1017, 0.06167728135033901), (2325, 0.06149014118948559), (2377, 0.061336754865702586), (1964, 0.061200479840373065), (2649, 0.060656263040562125), (1861, 0.060140503389600614), (758, 0.05996936114901519), (4719, 0.059958365830882106), (4529, 0.05978576678355543), (977, 0.059727157214427846), (761, 0.0597194352385482), (639, 0.058829728146686563), (3790, 0.05878692128353813), (405, 0.058646285997930474), (3899, 0.05856792560763359), (4045, 0.05819849874695865), (3785, 0.05813398129448862), (4536, 0.05810080988004033), (1915, 0.05809416555764888), (2672, 0.058064410634765896), (2736, 0.05759969309883812), (3656, 0.05749042365090935), (1501, 0.05736453290399944), (305, 0.05729056020906889), (1528, 0.057171890992494895), (1973, 0.05716615274397323), (3240, 0.05703349744348301), (3751, 0.05698880117792303), (1270, 0.05698443371741749), (4329, 0.05648463508932965), (4437, 0.05641459715440037), (4040, 0.056066217603291946), (2421, 0.0558884191030366), (3060, 0.05584792315913933), (4541, 0.05578602812528367), (2349, 0.05526373025864926), (2907, 0.05516113283472523), (302, 0.05474317039365958), (665, 0.05468904346973019), (3715, 0.054642302145229436), (4089, 0.054309148372161435), (1101, 0.05421629767487141), (4007, 0.05415155354184685), (699, 0.054091444872717345), (4167, 0.05399852021504947), (1279, 0.05389344172862482), (2507, 0.05336173715827044), (4194, 0.053243322200883056), (522, 0.05307070013170789), (859, 0.052684088137866875), (1781, 0.052610951565754904), (2493, 0.052479697685467654), (4341, 0.052261162645189034), (3031, 0.05210803661880141), (4147, 0.051956204402976436), (2150, 0.05190983921501669), (2440, 0.05187521849761392), (45, 0.051389076103186375), (2357, 0.051201666364609454), (2772, 0.05109533231820798), (3524, 0.051079595232076225), (2415, 0.050623486548297916), (340, 0.050607298628144906), (4317, 0.05049807968854204), (14, 0.050472982566343805), (2185, 0.05039892521850345), (4503, 0.050388327465956714), (1136, 0.05017162080762043), (2923, 0.04998095451918412), (301, 0.0499289069346195), (3111, 0.04989852971481339), (2298, 0.049792353212591955), (860, 0.04976158147582038), (2808, 0.04967655090121708), (297, 0.04963632415051706), (1476, 0.04958341846178197), (4240, 0.0495608965709993), (4675, 0.04953448270805689), (3117, 0.049485932803655285), (1621, 0.04947291125650588), (299, 0.04940712740070854), (4699, 0.049298473053140286), (3587, 0.04912827651710791), (3877, 0.0491215547646559), (1213, 0.04895952207325406), (298, 0.04895729994731263), (2397, 0.04894572247423129), (1245, 0.048931106428447765), (2375, 0.04884530980343964), (2433, 0.048829942895911256), (1817, 0.04867645665084936), (1499, 0.0486498734827003), (2617, 0.048383174266162246), (4303, 0.0483761805442634), (712, 0.048308992074209536), (3080, 0.04822474102772673), (4412, 0.04811149834448589), (2830, 0.0480172556150231), (2111, 0.047977358128168404), (4090, 0.047908226384236856), (2667, 0.047896993119716555), (3338, 0.04783860620091357), (2371, 0.04771332250644472), (4569, 0.04770282735839776), (2952, 0.047560454280953936), (1198, 0.04732918066851545), (2539, 0.04720117177851944), (1217, 0.04719468844014107), (2841, 0.04713571654554324), (1249, 0.04691386922212461), (4210, 0.046876455276635795), (1291, 0.046777217568793605), (2494, 0.046455952533563834), (4454, 0.0464522881665908), (2817, 0.04642517902698729), (4705, 0.04631122364827324), (4371, 0.04625951543996756), (2460, 0.04614429945043063), (686, 0.04603857406935118), (1166, 0.04597773254321206), (3132, 0.04585285656816877), (430, 0.045735177325838365), (2290, 0.04571773685432702), (2609, 0.045681490446986966), (3056, 0.04563238371958203), (1142, 0.045457682915422626), (1300, 0.04544220155810884), (3134, 0.04544088653738311), (3539, 0.04541857005402092), (4286, 0.04540516595054129), (971, 0.04520627437013585), (345, 0.04515615129926249), (4197, 0.04496878275336365), (2884, 0.04492349462955677), (1009, 0.04479930152525124), (410, 0.044790450446293144), (300, 0.044752262003439375), (3333, 0.04474378640184952), (1362, 0.04472045746376935), (1379, 0.04463638335478265), (2831, 0.04455411646552307), (2431, 0.044364568992067546), (689, 0.04433212683116463), (105, 0.04431310657058587), (1867, 0.04431069481331575), (1489, 0.04427286859090353), (95, 0.04421913968852441), (93, 0.04412693928280223), (2459, 0.044058708642294185), (2777, 0.044016464656190926), (2427, 0.04392371176597744), (2207, 0.043839756873513804), (961, 0.043815823604055795), (1682, 0.04374109629431358), (3722, 0.043707403982392055), (2019, 0.04368593750866739), (3289, 0.04366703106104779), (3809, 0.04363152043028962), (3626, 0.04361938481648975), (451, 0.04360207979420682), (424, 0.04349167060041647), (3094, 0.04348291615390528), (1335, 0.043344005148430904), (1175, 0.043259348302949356), (384, 0.04317170009766801), (1138, 0.04313499226990461), (4753, 0.04311222321915403), (1757, 0.04305737425062711), (2887, 0.04292187538850711), (3492, 0.04286274038224556), (3477, 0.04266446543307379), (3269, 0.04266060548012406), (2688, 0.04244863387465428), (931, 0.0424433968783405), (1587, 0.04242944089480737), (2070, 0.04231295927347495), (724, 0.042163326936567165), (4162, 0.04210800253935831), (2062, 0.04203716839528811), (1130, 0.04194648419508526), (94, 0.04191327053730969), (984, 0.04184608550414499), (2645, 0.041705144353236495), (392, 0.041663529630381384), (524, 0.04161866543811419), (3725, 0.0415584047901759), (2086, 0.04144757299304862), (656, 0.041445548426861795), (3067, 0.04142496200047158), (90, 0.041365195512785266), (1390, 0.041355166347009226), (2673, 0.04107800098071343), (1952, 0.04106667199312342), (3149, 0.04092026194750162), (2660, 0.04091623866492326), (3503, 0.04089608537136601), (1441, 0.04087434601693432), (463, 0.040832644000803775), (1654, 0.040807476613946264), (1787, 0.040771817093125017), (1256, 0.040720403290202), (179, 0.04071041323388427), (2050, 0.04068254459561756), (1454, 0.04066447833645532), (1353, 0.040456848131783435), (1255, 0.04043772401010173), (1148, 0.040437142249165225), (4287, 0.04041716808899191), (2719, 0.04040658316347333), (4078, 0.040375401012144145), (4374, 0.04027868304702391), (3594, 0.04020500158318521), (687, 0.040196204873454724), (876, 0.04016514020164486), (939, 0.040117388651515935), (569, 0.040087098304646775), (137, 0.04007421159712541), (2554, 0.040054935378226166), (1690, 0.0400394067907076), (1086, 0.03994783247360257), (3152, 0.03993279749634923), (1537, 0.0398299507918977), (3828, 0.039824042179975636), (3083, 0.039805042493089034), (2740, 0.03980380626032996), (3438, 0.03977954391427895), (981, 0.03965638570009537), (4363, 0.039655231894906995), (2385, 0.03959066771704733), (1312, 0.03956555068276337), (2619, 0.0393153350032469), (498, 0.03926989072232186), (3434, 0.039249463256902366), (788, 0.03923968811873433), (4353, 0.039022423444398276), (4756, 0.03892418580450416), (1634, 0.03890870527772783), (2813, 0.03884297774944365), (2090, 0.03874246458566947), (69, 0.038594362436440405), (801, 0.038538286471744364), (1673, 0.038537065354361924), (781, 0.038504770404738056), (2869, 0.038494102287214296), (2739, 0.038463214329050525), (1542, 0.0384436962927488), (1905, 0.03843094800571201), (894, 0.038369937661409906), (3163, 0.03832450966298768), (1516, 0.03828022140899118), (2374, 0.03818503663115885), (842, 0.03814868329268083), (1025, 0.03812788038199059), (52, 0.03809516919430138), (545, 0.03795261817819711), (1958, 0.03789297009082688), (3305, 0.037758610762600404), (2959, 0.037701289423094156), (4431, 0.03769027653468039), (3167, 0.03768479811622345), (75, 0.037630193953250624), (1318, 0.037565172020556724), (597, 0.03755071564156186), (1272, 0.03753198082914686), (2473, 0.03751518044060511), (3006, 0.037458317385781016), (792, 0.037426208202039186), (4289, 0.03738696663400181), (3662, 0.037354184171100396), (1698, 0.03721914671065358), (1487, 0.037171364849584713), (3142, 0.03715334618054208), (2342, 0.037138300322495016), (827, 0.03710246562323734), (2523, 0.037080548354502606), (1500, 0.03706458375216875), (3334, 0.03706110432148755), (1521, 0.03705686344684013), (4538, 0.03698961584952368), (1207, 0.03686906755772129), (34, 0.03679504685132054), (4416, 0.03673775420800314), (905, 0.03663310332316162), (2157, 0.03651196979774244), (1422, 0.03639542203665089), (3190, 0.03636443155561209), (1618, 0.03632761200244787), (3570, 0.03627652627499926), (1571, 0.03626821809655233), (2635, 0.03618714200448208), (1581, 0.0361793306496752), (3666, 0.03616325887730573), (4203, 0.0361460031083411), (3124, 0.03611805460189105), (1110, 0.03611064793458105), (795, 0.036003968723435795), (1890, 0.03600348835417207), (2681, 0.03591192123852595), (2572, 0.035889102801381904), (661, 0.035824538756989634), (2322, 0.03577216393893687), (2457, 0.03575781951945486), (1759, 0.03571516812586335), (1745, 0.03566013372949945), (1829, 0.03564627685730598), (2162, 0.03557410191866303), (2274, 0.03557019222993358), (64, 0.035508715570042225), (4277, 0.03550778149153966), (4345, 0.03534512039718057), (3670, 0.03533015770944895), (749, 0.035323357233367984), (236, 0.03529658422745388), (848, 0.03525111866453408), (1510, 0.03519015108068758), (2929, 0.0351041225903882), (2931, 0.03501283456317885), (2266, 0.0349551497796231), (1089, 0.03495296589837279), (610, 0.03475254564297295), (380, 0.03474514350890205), (1306, 0.034710005466554776), (4101, 0.03470788844024274), (1479, 0.034689469052083186), (2824, 0.034673723037774586), (2281, 0.03464938153073104), (2025, 0.034648800125643836), (3531, 0.03444920272203755), (3219, 0.03442043873001471), (2151, 0.034407966075424616), (820, 0.03431949905542011), (3028, 0.034314536788877574), (246, 0.03427081866820264), (747, 0.03426798397703268), (1568, 0.034210933288781685), (3182, 0.03408898894009655), (2574, 0.033957639673939936), (3700, 0.03392682584559275), (4658, 0.03390964447357418), (2642, 0.03389265395827125), (520, 0.0338859821909661), (1103, 0.03387563367131919), (2570, 0.03380875977496389), (660, 0.03378537760562716), (2190, 0.033761188279136024), (4304, 0.03371340551346045), (237, 0.03371278392353796), (3582, 0.03343931441261963), (1494, 0.033423524476843255), (1524, 0.033414239443831775), (2097, 0.033342722775364514), (4545, 0.03328734924514593), (514, 0.033236032857828855), (2, 0.033215445197547926), (4525, 0.03319832079846296), (1015, 0.03319705975054149), (4742, 0.03316305268864624), (3510, 0.03315386249261345), (1273, 0.03299846526341423), (1201, 0.03291126032492326), (680, 0.03280145147779349), (1107, 0.03266602202749246), (2552, 0.03264915229802689), (249, 0.03263896261188569), (4269, 0.03258857049067738), (3422, 0.032496496979275105), (1559, 0.0324690037707561), (3312, 0.03243727273608465), (1789, 0.03242679874903708), (621, 0.03239822845221782), (2519, 0.03238818655134926), (4027, 0.03238545185872285), (3507, 0.0323435622056939), (4176, 0.032341456629071244), (421, 0.03231639404943287), (2924, 0.032302529480433315), (3747, 0.03226374709593837), (4638, 0.03220824713542218), (1893, 0.03219561811430184), (1285, 0.03217970608846038), (872, 0.03193840096728695), (3241, 0.03191052710367676), (1765, 0.031886307212652135), (1388, 0.03186161897384431), (3392, 0.031832744799686424), (2770, 0.03182424314770291), (3418, 0.03181956616828878), (985, 0.03180826673080877), (443, 0.03177099709989698), (1850, 0.03174682529197111), (3574, 0.03172708325865024), (173, 0.03170706295680857), (3705, 0.03168022423369673), (3953, 0.03166585523624543), (1292, 0.031665264720155475), (3110, 0.031646432042777714), (2663, 0.031638368521269014), (3225, 0.031614069688084966), (1419, 0.031581726534465615), (3073, 0.031579144011440546), (1004, 0.031548935958598555), (1605, 0.031487654049868474), (980, 0.03143699022424386), (2447, 0.03140528827201605), (2204, 0.03139846819419986), (746, 0.03139457545534842), (386, 0.031393728408736526), (2945, 0.03137515682695355), (2481, 0.031353740439710676), (3542, 0.031344232249035764), (1321, 0.031339144438126354), (1594, 0.031303811520869605), (3356, 0.03118877379058907), (539, 0.03113577313308953), (2646, 0.031109833603156053), (2303, 0.03102176660307891), (2853, 0.031021755015433118), (509, 0.031021129914768034), (1692, 0.03097548864218866), (3890, 0.03094839202534429), (3982, 0.03094300768896682), (2840, 0.030846449263710527), (1002, 0.030844955021479076), (3611, 0.030790264899483104), (1935, 0.030689735408078442), (553, 0.030682956974400648), (2034, 0.030569277199671407), (3797, 0.030553557892273694), (494, 0.030544394847371484), (921, 0.030516602111903775), (633, 0.030508393220771802), (726, 0.030462011768622347), (1014, 0.030439055458239377), (1883, 0.03043744276317147), (217, 0.0303927005879053), (965, 0.030368033581322642), (3387, 0.030358372504280372), (3416, 0.030342459052842267), (1297, 0.03030646470846964), (3736, 0.030285639887320335), (3904, 0.03028465685046868), (741, 0.03022207893625348), (4488, 0.03017620540814525), (2270, 0.030114876112720543), (1575, 0.03010286413566366), (1481, 0.03008462202162847), (3893, 0.030076932372473213), (1833, 0.03005501415969879), (2446, 0.030051357800650963), (3610, 0.030048123109296304), (3498, 0.029987194119749174), (1614, 0.029981912488260522), (1238, 0.029964063213898554), (1696, 0.029960421374658777), (192, 0.0298159570747894), (70, 0.029801557559952296), (4344, 0.029795837952008988), (374, 0.02975457765214496), (65, 0.029718608066500233), (723, 0.029663631023875946), (1695, 0.029557540902513012), (3456, 0.029529483675092033), (974, 0.029521439010360525), (3712, 0.029400408199489098), (1407, 0.02938483613947379), (1211, 0.0293686347968521), (3458, 0.029367607229924785), (3021, 0.029365513200420995), (1823, 0.029342024891744846), (2679, 0.02932436241432841), (4643, 0.02928849471071158), (3077, 0.029266049383448588), (3568, 0.029204203068083134), (213, 0.02920198142084597), (3864, 0.02918810941013169), (2825, 0.02917972044565723), (540, 0.029169921740860853), (2876, 0.02913797032999887), (3304, 0.02910617294847392), (408, 0.02906976598190338), (2331, 0.029041058962724922), (3969, 0.028956870904056485), (1230, 0.02894180912319327), (1545, 0.028923966718000425), (3023, 0.028921784405184447), (1795, 0.02889163797243571), (1339, 0.028852484184726922), (178, 0.028839377815127597), (3965, 0.028811517164362466), (2821, 0.028792101376770723), (18, 0.02876163441342904), (3575, 0.028718502127454706), (816, 0.02869481813238528), (1626, 0.02867485603682293), (3989, 0.028656248233906882), (742, 0.02863424656512966), (2636, 0.02860529156207952), (558, 0.028599767036497893), (1793, 0.02851663160457652), (2697, 0.028490402278383464), (2161, 0.028461939108276237), (1998, 0.028443082259621347), (1132, 0.028423471467354258), (3474, 0.028367721097459875), (1073, 0.0283365101502711), (3098, 0.02832568082857233), (2085, 0.028297034446065544), (4663, 0.028292302877993506), (2788, 0.028290612259967436), (4558, 0.028287473334188584), (3386, 0.028284339888276756), (3769, 0.02823849531747382), (2587, 0.02820259875593276), (2742, 0.028182201436763747), (1152, 0.028153463871753683), (565, 0.02809138739459877), (4445, 0.028057424891879925), (877, 0.02804542050554527), (4258, 0.028044325402372814), (4359, 0.028017943047180797), (3813, 0.028004885738213376), (1844, 0.027945701501980526), (4207, 0.02793434693885365), (4173, 0.027927105266027513), (4086, 0.02792592310848143), (2592, 0.027825999801842173), (2073, 0.027813449438003676), (3683, 0.027723493551886667), (935, 0.027722712115500845), (1173, 0.027658825481436024), (4515, 0.02760445807237794), (4140, 0.02760020740384777), (4169, 0.02756196326649043), (2761, 0.027546161738710405), (80, 0.027519747104129466), (1873, 0.027429385931325347), (756, 0.027424441315750128), (2387, 0.02734222597661525), (4395, 0.02731017852627993), (3994, 0.0272979632965651), (30, 0.02723137454395377), (67, 0.027219853908236915), (202, 0.027212965148934187), (4309, 0.027210976036052412), (3155, 0.027192590052792624), (3660, 0.02715695841476403), (2195, 0.027141888277554017), (3270, 0.027138683168017805), (4497, 0.02707387454925229), (2393, 0.02704434946921866), (1116, 0.027035741671285526), (2033, 0.02702023448908392), (378, 0.02701704569628583), (3926, 0.026991122172765315), (156, 0.026982626064218147), (2014, 0.02694134150145814), (3208, 0.026901363658317936), (3807, 0.026791578099299662), (1578, 0.026788104445558344), (658, 0.02672458536001828), (989, 0.026715157924808695), (1937, 0.026676480897202672), (3461, 0.02667331116365661), (2531, 0.026670472205711598), (4268, 0.026635877394820765), (266, 0.026560191650461893), (1550, 0.026541062082806613), (1389, 0.026508850025176955), (78, 0.026462612738928533), (1691, 0.02642523312888658), (1464, 0.026417765420881152), (1098, 0.026398184233119754), (541, 0.02639660645605107), (2621, 0.026389836255750265), (3214, 0.026376612965364695), (1082, 0.02631694968203103), (622, 0.0263073241698563), (2897, 0.02629709171593243), (4135, 0.026201686374826914), (3912, 0.026193925553796484), (2650, 0.026156289839617146), (2899, 0.02610077073856043), (4739, 0.02609644976077222), (2677, 0.026070725641128074), (155, 0.026057724438848323), (625, 0.026044989964756425), (113, 0.02603820201427156), (1932, 0.02602574086961482), (4356, 0.02599723907048261), (3272, 0.02597723054651424), (2718, 0.02591398581702202), (2210, 0.025909999030325547), (1645, 0.025873497255313693), (1777, 0.025848452681879002), (2962, 0.025844647199321426), (2578, 0.025780447423333946), (2449, 0.02577462524661498), (269, 0.025748925699442905), (2988, 0.02573599930924267), (115, 0.02573114999610025), (1648, 0.025625165320649377), (2762, 0.02561739012888105), (1557, 0.025615955713533787), (528, 0.025573014343574212), (3303, 0.025551563477613882), (4513, 0.025487144480184055), (757, 0.02543912963965959), (4438, 0.025425403438646913), (346, 0.025422652933064952), (1425, 0.025411336888940563), (304, 0.025326792153794655), (3738, 0.025325562564043932), (4427, 0.025278800476468764), (1706, 0.025122315752283367), (946, 0.025112793403733666), (1814, 0.025089226705467305), (1678, 0.02502947728802834), (2612, 0.02502719013521093), (3553, 0.02500537911194198), (1298, 0.02499120597154648), (3557, 0.024935880058257868), (3090, 0.024871893315422222), (2512, 0.02487069372789759), (662, 0.024799170392207817), (611, 0.02476470331344429), (4290, 0.024753592894764066), (2216, 0.02474222534435338), (1342, 0.024707015482733755), (1584, 0.024681017556388067), (1084, 0.024579920335597378), (1913, 0.02457693776422137), (2774, 0.024554409743490577), (4164, 0.0245248390627376), (1592, 0.024522622594241438), (1485, 0.024515646768960533), (4218, 0.02449016288500672), (404, 0.024471857787972024), (2461, 0.02445480229192709), (1463, 0.024432103755614547), (4399, 0.024365745680530054), (1979, 0.024305061824133993), (713, 0.024280145448952108), (3370, 0.024272913677180822), (3390, 0.02419855041234156), (82, 0.024151599595382), (4647, 0.024148435227300345), (3646, 0.0240928888714972), (475, 0.024026166433343533), (1744, 0.024011451155942207), (1783, 0.02399914036145929), (1767, 0.02399508579489448), (2100, 0.02396655661332634), (4587, 0.023902587135508205), (2711, 0.02386256933644458), (1878, 0.023855537767431986), (1067, 0.023855177235575207), (3868, 0.023820361736944646), (2584, 0.02376154140536983), (1780, 0.02371289229216456), (149, 0.023709598382535155), (1496, 0.023671785686899594), (1610, 0.02362863888853223), (511, 0.023620990595351245), (3121, 0.023544011079725195), (1428, 0.02353556922533775), (3509, 0.023510372338181783), (912, 0.023492903639580502), (3137, 0.023491979040042698), (3753, 0.023476066896035146), (2327, 0.023423231782421196), (2615, 0.02340912708066406), (4519, 0.02335011434535596), (1714, 0.023293046450987502), (2509, 0.02317345975238742), (3344, 0.02316609754455189), (920, 0.02312719023193186), (559, 0.023069594186913775), (2401, 0.02304891775087651), (2789, 0.023040612008613275), (1529, 0.023030189200076278), (3674, 0.02299921188267484), (414, 0.022984576673045057), (3945, 0.022950096985804205), (2976, 0.022928961005321966), (1784, 0.022888980258693657), (2183, 0.022886604766811654), (1354, 0.02281053830894999), (562, 0.022673057824073174), (2359, 0.02266485600469698), (3213, 0.022663790663080486), (1308, 0.02263619949628734), (563, 0.022613385959499167), (1840, 0.022603257154033655), (2039, 0.022589336932784983), (4498, 0.022531249433508004), (495, 0.022521173835773265), (4015, 0.022371224876231364), (242, 0.022291127993121967), (4598, 0.022200094346973114), (4358, 0.022164364073713704), (3063, 0.021956424316670203), (277, 0.02194082661931356), (1482, 0.02185582294143586), (435, 0.02178389639588463), (2908, 0.021576294072475556), (1925, 0.02156457561481696), (2358, 0.02154587987990981), (2135, 0.021533299123110715), (2981, 0.021532989525074122), (3752, 0.02144890849677967), (357, 0.0213900633303954), (2998, 0.021310727457671125), (1523, 0.021237775411308092), (195, 0.02122645867270856), (2035, 0.02105244182268587), (2877, 0.02100224038055642), (2603, 0.020879226697523408), (1981, 0.02087650514509251), (453, 0.020835111081635493), (2622, 0.02079293586372323), (196, 0.020786898248206037), (3215, 0.020758014775972486), (738, 0.02053900448318591), (709, 0.020485880894003623), (2287, 0.020462631531045078), (1221, 0.02038512941679771), (1509, 0.020372518130090545), (4271, 0.02035300326920455), (1546, 0.020090366710920148), (3144, 0.020074740780998943), (3546, 0.020068397723210344), (831, 0.01982074260807198), (2379, 0.019661750096340972), (58, 0.01964309065681904), (3796, 0.019478293042180943), (4730, 0.019412213696720942), (1677, 0.019313101300292197), (4021, 0.01928346771870129), (108, 0.019020256641865137), (2568, 0.018945240652945203), (2901, 0.018890082240075098), (2760, 0.018814652724905376), (527, 0.018779403201453597), (4740, 0.018499351024653873), (4500, 0.01849806045311339), (3204, 0.018470502861174493), (3199, 0.01840488383946885), (3472, 0.01829764415350912), (2257, 0.018248503164423637), (3892, 0.018213380175659096), (2365, 0.018167839293912264), (2199, 0.01806085600899858), (3078, 0.017892408976367267), (2521, 0.01788396945259071), (4407, 0.017690686898920702), (4242, 0.01763583631290749), (2530, 0.017509815132651377), (2643, 0.017508587144873737), (2656, 0.017507895678109998), (2443, 0.017440926502735397), (2448, 0.017278044621045492), (1711, 0.017275624907986935), (824, 0.017275475204168583), (391, 0.01727280579631507), (2154, 0.01725488653168036), (3620, 0.01724282907271222), (2423, 0.01711670323583562), (3081, 0.01707758385048861), (3613, 0.016941933104178464), (3616, 0.01685119467710181), (2488, 0.016826960822285006), (4190, 0.016644856219790272), (1168, 0.016558496387497262), (3671, 0.01643079241266082), (2857, 0.01638985093638357), (4483, 0.016279784449806975), (1713, 0.016247319765072918), (1615, 0.01623590103245982), (2351, 0.016230284223188108), (4490, 0.01614064127581854), (3089, 0.01614028684898367), (3497, 0.01612663249213476), (3540, 0.0161215274962034), (153, 0.01611171001860403), (4570, 0.016104036504915126), (3554, 0.01609132748736426), (3835, 0.016023931930362514), (2273, 0.015990262921724976), (4725, 0.015952670196602358), (3256, 0.015896200340905903), (1466, 0.015873232386981947), (3763, 0.015857169034872144), (2927, 0.015855153497161153), (4526, 0.015813917271785306), (3506, 0.015802542225711258), (4397, 0.015763841190973824), (4010, 0.01576205978404472), (4160, 0.015750359765891044), (3473, 0.015741653931715695), (4333, 0.015673613348275252), (1968, 0.015672419803182465), (508, 0.01565762313602616), (2400, 0.015608563706927122), (1758, 0.015602685189845294), (1940, 0.01558760143957203), (2406, 0.015585265161438296), (1843, 0.015558815433675889), (4516, 0.015512273615569793), (4031, 0.015504179050518685), (3858, 0.015488913488883763), (3109, 0.015483685643929669), (2532, 0.015482964708317443), (2261, 0.015481600122040442), (2982, 0.0154734354072428), (2555, 0.015470854988482424), (2614, 0.015468889126635764), (4718, 0.015455870457034272), (4460, 0.015448914436231854), (2485, 0.015438700040611986), (1011, 0.015432789008901293), (679, 0.015412391156831793), (2267, 0.015387086175838323), (4599, 0.015386745654554938), (2799, 0.015375075569050479), (4346, 0.015374666523458034), (576, 0.015365356994005727), (3003, 0.015333469282949415), (715, 0.015303119349558329), (1766, 0.01530089104875499), (1999, 0.015280969824649143), (2049, 0.015275156707873858), (4711, 0.01526508943411639), (3822, 0.01526487248463488), (2079, 0.015244274171740848), (2054, 0.015236380609927516), (4737, 0.01515092298014097), (2810, 0.015142343686039868), (227, 0.015116837488096129), (2854, 0.015095645289246786), (3774, 0.015093561306407174), (4034, 0.015060206060308721), (3593, 0.015059756312601329), (365, 0.01505914457438011), (2381, 0.01505326722600533), (3682, 0.015038665206679788), (4351, 0.015012113716590659), (2579, 0.014995243738793334), (2176, 0.014991899872417235), (3221, 0.014985753761467433), (3628, 0.014978205885620221), (3444, 0.014971162872937892), (4396, 0.014955179191661037), (362, 0.014930183912869249), (4196, 0.01492773874837214), (3817, 0.014924975005037007), (688, 0.014921780063842295), (4259, 0.01491448999142488), (2410, 0.014913480532199251), (308, 0.014895106332999928), (2462, 0.014874963325600895), (2390, 0.01486751231955703), (1246, 0.014837862017128438), (2782, 0.014831455621616224), (1013, 0.014828081567038229), (3116, 0.014812361094543824), (1460, 0.014809548561621779), (3780, 0.014806906594546363), (3735, 0.014805833601239552), (4187, 0.01479023706012235), (3581, 0.014787800885342733), (3642, 0.014787500483414807), (2391, 0.014780580818593188), (753, 0.01477937623979178), (1923, 0.014768672883174929), (2806, 0.01476126641177815), (2260, 0.01475925732077675), (3816, 0.014742243816323046), (2451, 0.014740991835875), (3457, 0.014735083155362453), (3704, 0.01469601703571312), (4757, 0.014688412623064754), (385, 0.014683899558361815), (2263, 0.014683076826767663), (3943, 0.014669554881250792), (1518, 0.014661948904727471), (3695, 0.014655808999817208), (700, 0.014655407415796415), (3516, 0.01464795976922887), (797, 0.014646068826987772), (3001, 0.014626499259189582), (4097, 0.014625581501593885), (341, 0.01462194819806431), (4338, 0.01461654829865308), (3181, 0.014604272842533572), (2652, 0.014600655631385333), (2921, 0.014593574999494213), (3505, 0.01457407475610782), (2171, 0.01455535643263267), (2604, 0.014552320271944984), (3086, 0.014549380558098294), (2082, 0.014542406446745272), (4455, 0.014535523679505892), (3234, 0.014522656521715235), (2704, 0.014522440225717696), (2208, 0.014509339918725904), (1554, 0.014501881831589266), (2516, 0.014495599120617726), (413, 0.01449364920553381), (4118, 0.014491127761238985), (3938, 0.014477591240370652), (4347, 0.014477303116943212), (891, 0.014475106237732955), (1333, 0.014466806478587056), (1731, 0.014463391193016357), (2112, 0.014459670147113923), (802, 0.014450690740585593), (1531, 0.014441137473937956), (2675, 0.014433042310201054), (3187, 0.014429284019134582), (1141, 0.014428626993556758), (2916, 0.014427068916864697), (2283, 0.014418385613327499), (3728, 0.014417024165764467), (2316, 0.014413572128423747), (1119, 0.01440832476772061), (794, 0.014399246671146728), (3236, 0.01437251546626139), (363, 0.014368993186051452), (4662, 0.014367749806683597), (1520, 0.014353733746344088), (1600, 0.014352664181943713), (3112, 0.014348116360273536), (896, 0.01434181066374035), (1182, 0.014336906611814129), (3846, 0.01433596925425139), (2402, 0.014332386372850508), (4492, 0.014314285200916542), (1640, 0.01431189581379271), (3631, 0.0142941444622599), (1683, 0.014286540783882133), (3297, 0.014284265446880927), (361, 0.014276322788877924), (3259, 0.01424233135299547), (612, 0.014232183806241935), (2637, 0.014230376403307913), (2729, 0.014228505378984185), (470, 0.014223541081061405), (2030, 0.014197065788296687), (2259, 0.014170497076761523), (2708, 0.014159840301347754), (1513, 0.014157891774859467), (3830, 0.014153796391841403), (2717, 0.014142961906499017), (4574, 0.01414095122609366), (2661, 0.014140410068433161), (4478, 0.014132145164963889), (717, 0.014131119807100925), (1737, 0.014129779638994748), (987, 0.014125216050246496), (3084, 0.014122214652026597), (4559, 0.014113448962789177), (485, 0.014113287929493394), (3849, 0.01410523617546492), (1955, 0.01410183863430016), (2147, 0.014092023281889042), (2405, 0.014089599647240296), (456, 0.014087321722878974), (1602, 0.014078375546455552), (4639, 0.01407749098394578), (1402, 0.014077489272023982), (1225, 0.014076139916854979), (2963, 0.014056475620877057), (3464, 0.014054038987822363), (956, 0.014053327853618245), (3871, 0.01404949210214471), (4137, 0.014048465386579046), (1140, 0.014040241583761947), (2456, 0.0140303682253604), (1726, 0.014020165687888629), (204, 0.01401590777565105), (3287, 0.014015834614419373), (2334, 0.014012683519320682), (3242, 0.013996175908332475), (2511, 0.0139940556605552), (270, 0.013992562865027383), (4501, 0.013986188762173134), (4146, 0.013985940850714796), (1534, 0.013981766863247551), (1328, 0.013981069767124231), (1697, 0.013969947630131513), (1918, 0.013966740047267334), (2337, 0.013958059937069667), (517, 0.013946407266549863), (1165, 0.013939728434702191), (1195, 0.013933734291227884), (3153, 0.013929511381459099), (120, 0.013926329702331833), (3847, 0.013921895299321228), (2419, 0.013920469560306391), (2319, 0.013919708758005288), (1336, 0.013916371694555969), (5, 0.013908529906663634), (193, 0.013904889207785697), (4380, 0.01390369495391083), (205, 0.01389169704731094), (3388, 0.013890412839178178), (2896, 0.01388853552683523), (4136, 0.013887390820053927), (2332, 0.013873916666382251), (3673, 0.013869715182783187), (845, 0.013866219902695676), (918, 0.013865054182690335), (3229, 0.013863865760712444), (3606, 0.013858127689910833), (1902, 0.013856345862161168), (447, 0.013853482697193168), (1911, 0.013853169766166134), (2330, 0.013852868264603396), (1229, 0.013851658720604414), (1361, 0.013850631145798988), (2856, 0.013846818977705228), (1204, 0.013842050067537139), (1670, 0.013839971839967897), (1085, 0.013838519612766902), (472, 0.013837092275530503), (2668, 0.013827540348843993), (1525, 0.013826587113339502), (4340, 0.013815570177148838), (3018, 0.01381175684350419), (1233, 0.01379421526333847), (1768, 0.013781635506802758), (1522, 0.013775942624334353), (2335, 0.013775748025348688), (2466, 0.013763732216333419), (2839, 0.01372855733947098), (4604, 0.013723483244909554), (637, 0.01371487374191065), (2583, 0.013714416393159476), (1421, 0.01370985374072862), (2041, 0.01370536391134489), (806, 0.013695658137182279), (1382, 0.01369468124033158), (4033, 0.013692462660902674), (3701, 0.013690712991633658), (1704, 0.013689116153161993), (2450, 0.013679810426294481), (1155, 0.013677577568150138), (2790, 0.013674964202144767), (3536, 0.01367094404194269), (743, 0.013663138913265194), (1961, 0.013659149551732992), (1431, 0.013654827848630839), (4168, 0.013653557935716794), (2798, 0.013651045289957572), (3209, 0.013645595263975754), (1613, 0.013642846367734917), (1411, 0.013637048608020265), (2435, 0.01362338811826999), (730, 0.01362159714797551), (3732, 0.013620962411017743), (3650, 0.013619878917112721), (1936, 0.013616422959073268), (11, 0.013601098402940135), (2414, 0.013599727947167548), (2198, 0.013597784872325793), (846, 0.013590091537576506), (1720, 0.013586153253934544), (2980, 0.013585438955927764), (865, 0.013584151967874802), (3632, 0.013578393792043857), (814, 0.013572467651521467), (2153, 0.013558533225425608), (1769, 0.013557111883249906), (1461, 0.013552632335265732), (3643, 0.013549359292483146), (908, 0.013544104513933007), (312, 0.01353916419988064), (131, 0.01353526282064944), (1889, 0.0135284298055315), (42, 0.013524621688794715), (2396, 0.013495583140187456), (4195, 0.013491740116143654), (1899, 0.01348872305919481), (2430, 0.013486587191840371), (1804, 0.013483750196309515), (3335, 0.013483114003650104), (3545, 0.013477591129903302), (3482, 0.013473327933780976), (4099, 0.01347294718883693), (1598, 0.013469002761416674), (4457, 0.013467966289143282), (3427, 0.01346322603680154), (809, 0.013456440322305509), (3792, 0.013454472064997832), (1505, 0.013454274285820095), (1472, 0.013453421325272009), (219, 0.013446393926321734), (259, 0.013443265922331178), (2487, 0.013440223802076988), (2408, 0.013439089920200454), (2582, 0.013435323354123518), (3564, 0.013434207837795586), (909, 0.01342777146289079), (3066, 0.013422032108019627), (2130, 0.013420036247397425), (66, 0.013409993930155482), (1930, 0.01340789585667477), (1373, 0.013403716279308898), (4330, 0.013393988763594251), (2052, 0.013385259298487818), (4684, 0.013376846206753074), (490, 0.013376397732478756), (3596, 0.013371279359657345), (2329, 0.013367548420939467), (1223, 0.013367434066143016), (2549, 0.013366179990908025), (4310, 0.013363147597624291), (2046, 0.01336210560390168), (2317, 0.013361566097935216), (2250, 0.013358465890473134), (1837, 0.01335642164525281), (3350, 0.013350734908958667), (1541, 0.013336414552867276), (1495, 0.013332066041656458), (696, 0.013327054844876238), (4112, 0.013324463958882425), (4364, 0.013315596790534965), (3476, 0.013309501228174828), (1604, 0.013306061080174318), (3188, 0.013305342105171427), (1663, 0.013303557643839028), (3330, 0.013302861725720117), (4157, 0.013297744160644828), (3746, 0.013295375131239736), (4070, 0.013291507803157961), (54, 0.013288999702551534), (3739, 0.013286218914496118), (1196, 0.013262685245568865), (459, 0.013254934687290998), (4020, 0.013247300505340228), (423, 0.013240348076996866), (464, 0.01323479063088086), (199, 0.013234593238341712), (822, 0.013233836048190492), (3237, 0.013227885532910964), (785, 0.013222714001816037), (1257, 0.013219418709988075), (188, 0.0132121672187259), (1891, 0.013212112092878736), (245, 0.01320534130781625), (401, 0.013197174586545823), (4482, 0.01319694669273154), (4679, 0.013196639450507917), (2763, 0.013185925486403278), (1026, 0.013177369448341412), (4542, 0.013159927067412616), (1857, 0.013158364295725183), (3058, 0.013147043768210694), (4128, 0.013131176005083435), (1607, 0.01313014238398125), (2239, 0.013127345302979243), (2117, 0.013126474281150992), (1849, 0.013125449386519139), (1191, 0.013117523761905356), (2534, 0.013116649931242468), (466, 0.013115110550688296), (1459, 0.013114610231273903), (117, 0.013112495054603822), (4314, 0.013100472634054285), (315, 0.013071986831006827), (2178, 0.01306046152865779), (3379, 0.013059576987828721), (2752, 0.013058242218049137), (3151, 0.013049383990024097), (3286, 0.013046485060165841), (1304, 0.013044721956306128), (2279, 0.013035642541832385), (2095, 0.01302526094968492), (3366, 0.013022616421841363), (3562, 0.013018008141215787), (2616, 0.013015358371311547), (3011, 0.013014741496507005), (439, 0.013000060248897053), (1358, 0.012999169464625017), (1330, 0.01299492115592338), (535, 0.012993357850160037), (457, 0.012991970597810548), (3141, 0.012991691061233055), (2087, 0.012981168008030178), (3826, 0.012968056115037142), (1839, 0.012967290274099543), (1235, 0.012965290562798978), (2972, 0.01296505349088398), (767, 0.012957937352047996), (4754, 0.012956822992010278), (4073, 0.012948955558085961), (2909, 0.012948823023277597), (3260, 0.01294873130124343), (3819, 0.01293673368873464), (773, 0.01293669108878581), (1416, 0.012933272105511727), (437, 0.012911495483680764), (4472, 0.012905214101009598), (3985, 0.012903108997004958), (215, 0.012899153771924477), (1597, 0.012892926407804896), (1589, 0.012892883776929796), (322, 0.012887015631083118), (556, 0.012877862465936026), (49, 0.012861770615246024), (1561, 0.01284576091945467), (4037, 0.012813622602413434), (1810, 0.01280450928876956), (486, 0.012804255934492234), (1034, 0.012801970848960901), (2517, 0.012793358611242329), (1035, 0.012773833995489276), (321, 0.012769085673612774), (1457, 0.012757803218717684), (1854, 0.012757150314565632), (1284, 0.012750510858058893), (1451, 0.012744757895289113), (638, 0.012737858289578583), (2812, 0.012733162494702854), (4155, 0.012729016076961098), (1368, 0.012722757141026525), (1846, 0.012715466712428385), (2245, 0.012715344558951172), (1755, 0.0127150267580289), (2163, 0.012714999440361866), (4059, 0.012707985723762028), (2571, 0.01268968978338027), (4348, 0.012684494123922935), (1327, 0.012681573093780285), (1118, 0.012671194725341126), (2367, 0.012667591870881983), (2593, 0.012660330700469992), (492, 0.012650968547605987), (2938, 0.012649031238812622), (854, 0.01264663373445737), (1076, 0.012637600629545963), (3315, 0.01263085188540825), (1307, 0.012627270289701701), (1552, 0.012625367667848662), (2143, 0.012623705524438849), (655, 0.01262203388126359), (3991, 0.012620255610578345), (185, 0.012619973411560986), (1036, 0.012611522694383879), (3533, 0.012607759222835373), (1664, 0.012606573009085416), (4152, 0.012596367605824584), (1824, 0.01257553365158726), (578, 0.012567750278619392), (1044, 0.012566602874265906), (3300, 0.012564424669757941), (1649, 0.01256422107757443), (53, 0.012562074734584002), (3974, 0.012559689084302276), (2093, 0.012556953845645206), (2892, 0.012554276913276033), (4270, 0.0125510003222145), (2205, 0.012544178157022148), (1412, 0.012542301178752623), (2706, 0.012540948235432954), (2271, 0.012538053179151314), (2666, 0.012537761979736408), (1384, 0.012524697190590786), (4321, 0.012515116031316225), (2131, 0.01251019462265319), (4600, 0.012507897195822546), (1700, 0.012500195879022607), (4468, 0.01249993198865303), (1898, 0.012499061888526584), (325, 0.012491361600125785), (3246, 0.012489722098471674), (2835, 0.012489324620482785), (240, 0.012484216007615904), (1820, 0.012481639200765237), (1818, 0.012476283200452307), (324, 0.012461152595808125), (360, 0.012456959418076157), (895, 0.012450509361411531), (2525, 0.012450450512449559), (2201, 0.012449166144359074), (1606, 0.012445565400829408), (111, 0.012443999764864336), (1114, 0.012420298801956317), (1180, 0.012414640101053039), (3389, 0.01240500412757337), (4011, 0.012403282877036091), (2203, 0.01240326319777115), (3993, 0.01240098535646417), (745, 0.01239930135645821), (4159, 0.012394445091334366), (3966, 0.012392137745859616), (1041, 0.012391456212164708), (1480, 0.01238466646585951), (3726, 0.012375515882410343), (4402, 0.012372305183315009), (810, 0.012368896495835394), (1206, 0.012368102171913514), (710, 0.012365798412434393), (3147, 0.012359640494410788), (2749, 0.012349207978854143), (183, 0.012346107997260387), (9, 0.012340266251685422), (3843, 0.012339179599375182), (1357, 0.012337467847670579), (1875, 0.01232962331159372), (957, 0.012320420846290932), (3395, 0.012319734194715761), (3841, 0.012313768025023902), (690, 0.012311013529424016), (2590, 0.012299492530731024), (1456, 0.012293328546737415), (3923, 0.012290501553877843), (4009, 0.012288799362587373), (4342, 0.012285377583255368), (3348, 0.012265273826277146), (3397, 0.012262654113696078), (3459, 0.01226232022842082), (2007, 0.012260375884157359), (3876, 0.012257208994360728), (2129, 0.01225092136102956), (1477, 0.012249409105327177), (1992, 0.01224846145046298), (702, 0.012246061582580308), (978, 0.012240300651729371), (1987, 0.01223907912976475), (3342, 0.012229100186601836), (1543, 0.01222681340351604), (3321, 0.012217173922563475), (2654, 0.012216752922230944), (2301, 0.012212930814283953), (4405, 0.01220782311606676), (1764, 0.01220199413751645), (2868, 0.0121943672661069), (659, 0.01219002585834424), (409, 0.012186794595182397), (4191, 0.012182427812121362), (3247, 0.012179517779582462), (445, 0.012179122523137877), (3082, 0.01217871077338324), (335, 0.012173694629213966), (3805, 0.012172562108847708), (2315, 0.0121698294567538), (1016, 0.012160882068295662), (1841, 0.012153309284997952), (4274, 0.012152999272757219), (1197, 0.012147406832453161), (3718, 0.012095411284282789), (4447, 0.01208656872698854), (2728, 0.012080251003112134), (2125, 0.012066528338243987), (2845, 0.012061410637799216), (3244, 0.012059227964645139), (306, 0.012059105107153254), (1827, 0.012058171465046633), (2262, 0.012047952074761812), (1219, 0.01204603392991521), (4109, 0.012033158798896633), (2055, 0.012029443777011975), (3716, 0.01202741147589607), (829, 0.011997249219339078), (2323, 0.011994024627531045), (2043, 0.011989334276954375), (124, 0.011985444533857578), (3894, 0.01197893411400331), (338, 0.011974323975107176), (4174, 0.011972726398112471), (1830, 0.01197153767362124), (2236, 0.011969736651012076), (2591, 0.011965765238239735), (892, 0.011961288156765788), (1310, 0.01195216609417556), (2504, 0.011939007164832528), (1601, 0.011917814892915208), (4186, 0.01190080822868765), (497, 0.011895854263372125), (1539, 0.011892754866872385), (583, 0.011892154801048885), (3318, 0.011881977046930468), (2389, 0.01187061043284305), (501, 0.011866619578537888), (703, 0.011864680159627047), (2005, 0.01185642874202654), (1061, 0.011852816674661879), (577, 0.011845822064986779), (4366, 0.011839485322377104), (1739, 0.011835342794216292), (1863, 0.011826705112724342), (1394, 0.011815290640167142), (191, 0.011813337573871385), (2580, 0.011805109186526504), (1978, 0.011803198330282413), (1684, 0.011799506849768866), (3865, 0.01179639194219401), (3633, 0.011792184205903571), (4110, 0.011789289424526766), (1387, 0.011787032261387423), (3948, 0.011769395853385555), (1954, 0.011751831311773465), (836, 0.011745872028605626), (1423, 0.011744972273109), (3099, 0.011739273312015455), (161, 0.011730526364766866), (333, 0.011727197841671394), (3360, 0.011722267532186451), (519, 0.01172183574766192), (3485, 0.011708142015886179), (3327, 0.011705633738001492), (898, 0.011702014460894694), (1186, 0.01170044530803743), (1251, 0.011699677552455654), (317, 0.011699330854156864), (383, 0.011691266074541606), (4590, 0.011689137991734367), (91, 0.011683578956433089), (2240, 0.011668778819756281), (3655, 0.011661126430067874), (725, 0.011643812135548014), (3803, 0.011639150614031302), (2502, 0.011638265186198392), (3525, 0.011635565377533783), (2975, 0.011629311109783243), (1405, 0.011628669924189204), (4247, 0.011626965961281108), (2264, 0.011598248780961669), (1492, 0.011587350121400167), (2047, 0.01157126729741754), (3238, 0.011571114108694614), (1090, 0.011569294658937333), (3096, 0.011565475190455683), (4473, 0.011554156115390674), (4114, 0.011515557146322658), (1943, 0.01149838450882537), (257, 0.011493106863767038), (3232, 0.011490335062889358), (2721, 0.01148880307208416), (1088, 0.011483336611606658), (2822, 0.011472502102669499), (3693, 0.011470765275142), (334, 0.011460565589218898), (1370, 0.011459096909076117), (73, 0.011417554429815855), (3484, 0.011416050577679504), (4035, 0.011415979004651291), (394, 0.011353938021700849), (733, 0.011335634535954509), (2842, 0.011333816674914137), (1317, 0.011333737597359596), (1008, 0.011326297976309156), (720, 0.011323761971862767), (2006, 0.011320941640393212), (1309, 0.011271583778705338), (1845, 0.011224737482869144), (177, 0.011201763563559352), (3855, 0.011193462974570918), (640, 0.011192878944978708), (1365, 0.011192210593132863), (3091, 0.011187748697967197), (1639, 0.011134143691651596), (288, 0.011132071484810845), (691, 0.01112958575291004), (2114, 0.011118446906315083), (1971, 0.011114170016856838), (549, 0.011112955302042645), (3212, 0.011110906801036456), (2541, 0.0111060593556626), (2296, 0.011104347540429781), (2265, 0.01109670458324879), (3658, 0.011085273390351464), (929, 0.011052981648949495), (1222, 0.01099667447514755), (1042, 0.010980273781196087), (2120, 0.010976840947224563), (314, 0.010965230722819458), (2132, 0.010947760158435862), (786, 0.010939949978596755), (2758, 0.010937695591623707), (2985, 0.01092246763016321), (309, 0.010900120910027752), (2099, 0.010899527868645611), (719, 0.010889302389163722), (25, 0.010849189915368162), (469, 0.010795839953858282), (2844, 0.010768563637485346), (1950, 0.010757692896840306), (2364, 0.010749314898098064), (3138, 0.010745581301909588), (1137, 0.01074185882078738), (2741, 0.010740857740976498), (366, 0.010729733056268318), (1800, 0.01069597194594373), (4066, 0.010676140741892045), (3980, 0.010664579402904887), (433, 0.010637136238833887), (1296, 0.010634121074101527), (1268, 0.010634112260247745), (506, 0.010613484291121012), (76, 0.010609952214662103), (407, 0.010587520556680274), (1963, 0.0105730756743935), (2013, 0.01054055122436815), (706, 0.010511808858425516), (1676, 0.010499251750453938), (294, 0.010469440628990887), (609, 0.010464352431521403), (2766, 0.010437513924518364), (2078, 0.010397734763525653), (2671, 0.010368838400463872), (2867, 0.010356399214825835), (2734, 0.010321998777103407), (3211, 0.010264342493639295), (2326, 0.010253357933381837), (3579, 0.010242121554347918), (2885, 0.010191494131760312), (926, 0.010169918323697768), (106, 0.010166014882990255), (3481, 0.010096227731502622), (3254, 0.01008488321366813), (3667, 0.010076844840323349), (351, 0.010032283240541019), (2562, 0.01003083585388424), (2933, 0.010028939065077094), (3983, 0.00998664570964027), (3421, 0.00998082089788792), (1215, 0.009746001834201063), (1351, 0.00961474683258447), (3663, 0.009605679595862086), (3981, 0.009605679595862086), (4065, 0.009605679595862086), (4578, 0.009605679595862086), (4644, 0.009605679595862086), (561, 0.009578524594672618), (641, 0.009554055544688262), (645, 0.009551864354521898), (3024, 0.009501036159999332), (3750, 0.009447601550704883), (1144, 0.009425707218942597), (510, 0.009420660758404628), (2814, 0.009341936004056516), (940, 0.009249043195481674), (542, 0.009206093335335633), (330, 0.009127357886488338), (1919, 0.009060906445813378), (1506, 0.008933919377251324), (740, 0.008915531946979341), (243, 0.008463048499812099), (3323, 0.008320510455966393), (787, 0.008197819139982843), (4171, 0.008196201540504032), (4752, 0.008196010354891224), (2118, 0.008124568151270209), (3679, 0.007342275212509405), (3176, 0.006083022247859194), (3918, 0.006083022247859194), (4425, 0.006083022247859194), (4681, 0.006083022247859194), (2658, 0.003881889653476484), (3261, 0.003496637800704058), (3760, 0.0033467672659757176), (4026, 0.0032005246847887033), (4201, 0.002988944479727779), (2703, 0.0027618847986881287), (2737, 0.0027317204957487545), (3475, 0.002690947011513522), (4313, 0.0026408556900844437), (2932, 0.002638876835852741), (4671, 0.0026311335409378036), (2597, 0.002624859630152888), (3325, 0.00259296395712246), (2312, 0.0025698775622638847), (3512, 0.002515158143594746), (2299, 0.002503310138510676), (2678, 0.0025002405539665496), (3115, 0.0024903882733387024), (3717, 0.0024731921271223508), (2701, 0.0024698321395311596), (3672, 0.0024627190448173394), (3178, 0.002448852902127136), (4571, 0.002442941865013918), (3088, 0.0024270207433426576), (4635, 0.0024161190256390447), (3276, 0.002411464679825878), (4555, 0.002376205804384256), (3185, 0.002374213343143789), (3925, 0.0023474534807716037), (3523, 0.002341178452245358), (3552, 0.002340362163081243), (2669, 0.0023250972686714422), (2757, 0.0023241285252760314), (2684, 0.002319436645835886), (4223, 0.0022941594262753744), (2832, 0.0022934137140295575), (3291, 0.002289020491514602), (3949, 0.002280191578871239), (4067, 0.002272862379983426), (2189, 0.002271460250141909), (3703, 0.002270911043818347), (2529, 0.0022684343379160447), (2657, 0.0022583061118114046), (627, 0.002255718350719095), (3055, 0.002245626532214947), (764, 0.0022450479794385017), (2937, 0.002234475028662973), (3257, 0.002232833073459547), (4198, 0.002230300880935236), (2764, 0.0022300740121669505), (2500, 0.0022290685075848967), (2768, 0.0022287720528423797), (4607, 0.0022242910659883972), (4082, 0.0022205977368354025), (3051, 0.0022204366462576677), (2989, 0.002220399072788313), (2870, 0.002216275877596554), (3009, 0.002215003466511783), (4134, 0.002212725450265233), (4480, 0.002207980364447007), (3087, 0.0022072985477946134), (4709, 0.0022015279107667593), (2722, 0.0021982281623310874), (4172, 0.002197846450594458), (2404, 0.002196921869397022), (2861, 0.002194586132633495), (4654, 0.002190231324770473), (735, 0.0021891912959952657), (947, 0.002188812675079242), (2922, 0.0021878567984266032), (2392, 0.0021857420754745763), (2490, 0.002184048010032223), (2137, 0.002183624828010846), (996, 0.0021833081603406046), (4202, 0.0021801609745102394), (4704, 0.0021712829070949175), (2858, 0.0021708788260449284), (3040, 0.0021706097685409193), (4546, 0.0021630422348129868), (3139, 0.00215933421183595), (2818, 0.00215349898722681), (1145, 0.0021515320231958314), (3396, 0.002145620425558977), (4617, 0.0021447281543632226), (2891, 0.0021400735641925283), (3049, 0.0021392356051957613), (3030, 0.002138927885651645), (4423, 0.0021385876008983415), (2407, 0.002135101605898497), (4618, 0.0021338562908797885), (2883, 0.0021320578080187788), (2537, 0.0021291748968297604), (2559, 0.002125623979740467), (4017, 0.0021224372613038393), (3166, 0.0021224188493039423), (4222, 0.0021224137928567643), (2251, 0.0021222588431021082), (2395, 0.002118133675792979), (4499, 0.0021172804294061725), (2889, 0.0021163579464467033), (2655, 0.002113132179644853), (3762, 0.0021120229819544772), (4691, 0.0021108665842242253), (3635, 0.0021067908308551506), (3322, 0.002104592502744852), (4019, 0.002104360962792607), (2628, 0.002104273191648064), (3479, 0.002102020098476385), (4115, 0.0020987127788137734), (3052, 0.002097642342888672), (3217, 0.0020976074409854648), (570, 0.002095964232253784), (3561, 0.002094343282435566), (4102, 0.0020919490746778044), (4700, 0.0020916287379631232), (3371, 0.002091145853920082), (2731, 0.0020893710513028517), (2715, 0.0020877377743809614), (4239, 0.002086122071122356), (2990, 0.002085978164032219), (3262, 0.00208584020845169), (4696, 0.00208515045982867), (3042, 0.002085086450046482), (3740, 0.002083227823930306), (4666, 0.0020824174086279752), (3119, 0.0020807998126468417), (4527, 0.002080771050752993), (3702, 0.0020777065312963024), (2941, 0.002077416549502445), (4221, 0.0020753957891281195), (3128, 0.00207535331951316), (3878, 0.002068462700720478), (2255, 0.002065446672896493), (2310, 0.0020637952481818043), (2286, 0.002063103543339602), (1939, 0.0020605591955725495), (2600, 0.002056751515313902), (2483, 0.0020539208717956776), (4646, 0.002053715543744645), (4484, 0.0020497212341194196), (4611, 0.002049568070529115), (2694, 0.0020485045090704304), (4572, 0.002044502638672228), (2324, 0.002042416101571525), (4219, 0.002040420626728805), (462, 0.002039884341463595), (4230, 0.0020369516715898505), (2536, 0.0020340900951352743), (3939, 0.002033950510238443), (4208, 0.002033765900526247), (4637, 0.002032937378926727), (2875, 0.0020283071783385393), (2948, 0.002027453992941608), (3922, 0.0020272752795074465), (3145, 0.0020216214970274716), (4717, 0.002020427091585857), (526, 0.002015639289254323), (484, 0.00201389212169798), (4750, 0.002013829233629963), (3439, 0.002013773640514944), (3015, 0.0020123075722421535), (4612, 0.0020099928457597625), (4403, 0.0020088306313703463), (4749, 0.002006439357248671), (4440, 0.002005177868981524), (4606, 0.002004315296333462), (2547, 0.00200166687453709), (2425, 0.0020009239646363447), (2186, 0.001999834766510279), (1208, 0.001999429399781971), (889, 0.0019984280294207306), (3936, 0.0019946390572087745), (2075, 0.0019929990869329574), (4544, 0.001991941446129467), (4418, 0.0019895021039651826), (2282, 0.001985680772087181), (3266, 0.0019849206216686188), (4537, 0.001982545804867802), (4170, 0.0019822259015561624), (3076, 0.001978230809286387), (3239, 0.001977147357767815), (4166, 0.0019756059190050505), (3292, 0.001974998423162183), (2872, 0.0019747905198122637), (4444, 0.0019746962013596674), (2543, 0.0019744446330205072), (4759, 0.001973848078165602), (2328, 0.00197368710310582), (3054, 0.0019733868260536198), (2939, 0.001971875348528793), (2388, 0.0019717907301256324), (2228, 0.001970540731599091), (3832, 0.001970098185940839), (948, 0.0019691023347110483), (2696, 0.0019669862771845826), (4372, 0.0019668169482979876), (2350, 0.001966746215387851), (2077, 0.0019648566558428883), (4047, 0.001964043540926939), (1064, 0.001962803237164193), (4306, 0.001960143433106096), (3578, 0.001959569981098481), (4660, 0.001958939837749604), (4142, 0.001956894773011248), (2846, 0.0019563388926050543), (3975, 0.0019563175772107097), (2363, 0.0019562873242372288), (3901, 0.001956052832300575), (2515, 0.0019548965489306035), (2306, 0.0019546874018160866), (3967, 0.001954169386002313), (2795, 0.001953869589670398), (3848, 0.0019537896971591425), (3766, 0.0019536634877646893), (3874, 0.0019533083467945652), (3354, 0.0019526209125295068), (2879, 0.001952001860683629), (3988, 0.0019517852388961073), (4464, 0.0019506321431041643), (2838, 0.0019497651743872056), (2983, 0.0019492174685658507), (4710, 0.0019465643663580186), (3249, 0.0019452308777513953), (1058, 0.0019449421355153204), (3282, 0.0019419510656755509), (4724, 0.0019405946780146645), (2928, 0.0019393690255524005), (3544, 0.00193818786855553), (4400, 0.0019381093426352287), (3687, 0.001934459946082084), (2438, 0.0019329243219456524), (4058, 0.0019324254551590112), (3159, 0.0019316723347662613), (4107, 0.0019304919499336438), (3255, 0.0019258205138896643), (3537, 0.001924569645644438), (4443, 0.001922282826220211), (2581, 0.00192215251392025), (3074, 0.0019217381914558064), (1548, 0.0019206036600741409), (3935, 0.001920130375122892), (670, 0.0019197681436402964), (4302, 0.0019180430778768514), (2368, 0.0019157789728170686), (3999, 0.0019142427410333029), (3638, 0.0019137273571963168), (3358, 0.0019136852240116708), (3844, 0.0019126263890401484), (2834, 0.001911869200756168), (3357, 0.0019099253126911566), (3025, 0.0019097680323193456), (2914, 0.0019092455731557674), (1051, 0.0019088621875978124), (2564, 0.0019079213484952523), (326, 0.0019047785840427213), (4408, 0.001904620684149738), (4692, 0.001904474192423406), (3686, 0.001902998108714609), (4469, 0.0019027910688499538), (4521, 0.001902679388215147), (3020, 0.0019024044795973394), (1121, 0.0019020733069251424), (2455, 0.0019020194427940775), (3502, 0.0019007125473298693), (3448, 0.0019006096111974914), (2479, 0.0019001932292868292), (4632, 0.001899291735157486), (1429, 0.0018967050359848048), (3123, 0.001895900574950011), (4721, 0.0018953909104062862), (2333, 0.0018918011324444033), (2778, 0.0018908552230732362), (3363, 0.001889916226867656), (2308, 0.001889241801870047), (3535, 0.0018887153042577045), (3573, 0.0018876786400971197), (914, 0.0018869192872911526), (3019, 0.0018855390716114833), (4298, 0.0018840464835219565), (3206, 0.0018827923882859762), (1669, 0.0018816857770830172), (4028, 0.00188104705680107), (3324, 0.001881022121832172), (2957, 0.0018790481905530069), (4398, 0.0018786023950857441), (4316, 0.0018780466848152047), (3140, 0.0018780315269630071), (4417, 0.0018771323114314265), (512, 0.0018764268368352197), (3592, 0.0018753345263078534), (3588, 0.001875253669752714), (3513, 0.0018736431671956388), (3172, 0.0018736400476386098), (2797, 0.0018735294847617595), (3302, 0.001872659044199567), (3744, 0.0018718491892086152), (3154, 0.0018713667829594529), (2557, 0.0018701801054393447), (3851, 0.001870142872504167), (3419, 0.0018689466183063148), (760, 0.0018676299191303955), (3004, 0.0018672606884072081), (3942, 0.0018664273749684922), (2454, 0.0018663305851635858), (3577, 0.0018656747364380589), (4653, 0.0018651213322295537), (4642, 0.0018650470655755275), (4163, 0.0018647649597731027), (3737, 0.0018631659393593797), (3228, 0.0018628804036854311), (1053, 0.00186165660766798), (2738, 0.0018614856344205675), (2750, 0.001861090904509314), (2837, 0.0018604297901181003), (2730, 0.0018602190061992813), (402, 0.0018596104007283514), (2848, 0.00185629867761183), (4698, 0.0018558176241653137), (2253, 0.0018557040583309463), (4062, 0.0018555927598390384), (1593, 0.0018534682091374678), (4030, 0.0018534267782000483), (4495, 0.0018531811443559902), (4451, 0.001852978978960766), (4720, 0.001851400265561493), (1264, 0.0018494355179871104), (4554, 0.0018486007084307023), (1790, 0.0018484866813574215), (2769, 0.0018477721382193547), (4204, 0.001846738593360717), (1424, 0.0018461371053744274), (777, 0.0018457534575620693), (2966, 0.0018453182411460691), (2108, 0.0018438629778929454), (2895, 0.0018438290576779477), (2535, 0.0018428907693141179), (1343, 0.001842059964091464), (4449, 0.001841842279637839), (2625, 0.0018413695154860593), (2320, 0.0018397362642746937), (3359, 0.0018393031986144348), (4209, 0.0018385936905567436), (4215, 0.0018385045041590692), (1655, 0.001838418210125787), (3741, 0.0018381277382241651), (2247, 0.0018374725165118133), (3165, 0.0018363009403488178), (3758, 0.0018352580801319666), (4518, 0.0018350903231689687), (3729, 0.0018335802559165603), (3413, 0.0018333698091500474), (4539, 0.0018312705561066493), (4508, 0.0018311881462205), (2993, 0.0018310396281453931), (3621, 0.001830725970786269), (711, 0.0018304344907134635), (2676, 0.001830144343509987), (2437, 0.0018289651936658062), (1258, 0.0018285705141791566), (4477, 0.001827619485010119), (4731, 0.001827419077401243), (4506, 0.0018262829029253712), (3521, 0.0018253983700524756), (2864, 0.001824802018159989), (368, 0.0018244072441365436), (950, 0.0018243101466336542), (3779, 0.0018240860391717565), (4105, 0.001823516316187931), (4597, 0.0018234386294062469), (3275, 0.0018218664442762405), (489, 0.0018216902184495), (2032, 0.0018202270499088754), (3789, 0.001819006007922869), (3675, 0.001818790598891925), (4424, 0.0018180187171166645), (3072, 0.0018178862721810705), (4127, 0.0018176490215764168), (4126, 0.0018175999118206076), (4514, 0.001817332944986279), (3931, 0.0018172089977817206), (3022, 0.00181670227765064), (1661, 0.0018159923028702948), (3897, 0.0018158643632889505), (2700, 0.0018154721315464448), (1748, 0.0018148525164415248), (2009, 0.0018143682015169373), (1712, 0.0018141066959836433), (4120, 0.0018132859862816143), (4584, 0.00181223162692785), (3377, 0.0018120302369076502), (1187, 0.001811797636380644), (3007, 0.0018106896164545416), (3745, 0.0018106554982064255), (3547, 0.001810169389825715), (904, 0.0018101257550823375), (4023, 0.0018099279336723625), (3911, 0.0018088045417980812), (4735, 0.0018079779072753908), (4032, 0.0018078544453773713), (1815, 0.0018076559168851715), (1540, 0.0018073819263654224), (751, 0.0018071606760037098), (1941, 0.0018065372888162185), (2986, 0.0018062435922140804), (4331, 0.0018061083999607861), (3203, 0.001805381170261928), (4694, 0.0018041054420047374), (4722, 0.001803971221353654), (2567, 0.0018038735616569635), (3617, 0.001803053768089935), (2705, 0.0018027776246486015), (4280, 0.0018027358989050166), (2434, 0.0018015676246616766), (2403, 0.0018014442035534388), (4701, 0.0018011509370331976), (2905, 0.0017999645308606224), (2987, 0.0017997971183523816), (4048, 0.0017989527287104947), (4560, 0.0017975969159417951), (4633, 0.0017957744167376407), (574, 0.0017949034556711445), (125, 0.0017942213868329983), (2089, 0.001794113480358974), (3996, 0.001792652992380335), (2707, 0.0017925126848784949), (2727, 0.001791787621382538), (4150, 0.0017910724446250912), (1674, 0.0017902976631202466), (1885, 0.0017901515614496132), (431, 0.0017901362804698408), (4281, 0.0017900640429552425), (3384, 0.00179004954313285), (3838, 0.0017898952394402466), (949, 0.001789892040530368), (955, 0.001789324991493964), (3425, 0.00178916016992103), (491, 0.0017887443686892509), (1049, 0.0017861212918616745), (531, 0.0017860951711170063), (4556, 0.0017856681659592381), (582, 0.0017855114868617972), (3423, 0.001785040997518502), (2417, 0.0017848603961905507), (2613, 0.001784322927502472), (1947, 0.001784013898479239), (2576, 0.001783307362221963), (4645, 0.0017832261637045386), (4238, 0.0017824693601790511), (1792, 0.0017823839843929322), (4524, 0.001781469207470816), (4002, 0.0017809929579133972), (3345, 0.0017795346783320723), (3251, 0.0017795208388154324), (2956, 0.0017786869323371457), (4496, 0.0017774162389687501), (1169, 0.0017771415946022876), (4145, 0.0017770371225815217), (3364, 0.0017758558857302556), (3308, 0.0017741420509644042), (2142, 0.0017740307149984433), (3230, 0.001774024147168133), (3883, 0.0017739895734228245), (21, 0.0017730480394594547), (2470, 0.001772811634701254), (3831, 0.0017719473483353272), (4517, 0.00177193172465658), (3148, 0.0017718892556065672), (3355, 0.001771489376776329), (4050, 0.0017699179324078347), (2116, 0.0017696533351488212), (2893, 0.0017696387646392588), (3921, 0.0017696154811201478), (4707, 0.0017695418844685994), (4075, 0.0017690689305422836), (2158, 0.0017687272444539472), (4594, 0.001767929832806768), (4741, 0.0017678044790576002), (4619, 0.0017672190383416578), (2702, 0.0017667674337700614), (925, 0.0017653421887914116), (4462, 0.0017647766487467816), (3903, 0.001763651959269628), (3951, 0.0017632443355913336), (3026, 0.0017628213034032857), (937, 0.0017626663346513875), (2356, 0.001762199862994129), (2754, 0.0017621074313191641), (448, 0.0017616487785845371), (3639, 0.0017612306455998417), (225, 0.0017611011951690425), (4267, 0.0017609506196366905), (2478, 0.0017608901163110062), (2881, 0.0017603918735802683), (4471, 0.0017591942052637597), (4714, 0.0017591927469843007), (1275, 0.0017589885478849151), (518, 0.001758769211740934), (3884, 0.0017587284314703017), (3708, 0.001758463473977233), (3450, 0.0017580508560520961), (1507, 0.0017573098444938174), (1591, 0.0017570970400740953), (4747, 0.0017568901174729598), (4121, 0.0017561174074913954), (2974, 0.001755781891657395), (3649, 0.0017555140357183039), (2785, 0.0017551533758682382), (4580, 0.001755024260303652), (4746, 0.0017539519510646505), (2302, 0.0017520517866875913), (3960, 0.001751986127054202), (3414, 0.0017513408912058226), (823, 0.001751170096939713), (2229, 0.0017508738441824742), (4494, 0.0017505760512884628), (318, 0.0017504740217222266), (2633, 0.0017498592387574941), (2629, 0.0017497782987766284), (3640, 0.0017481890992731204), (739, 0.0017481357101295503), (4117, 0.0017466659004579262), (4231, 0.0017464530708071466), (3043, 0.0017461438683995288), (281, 0.001745410858542078), (3307, 0.0017452130128992023), (2486, 0.0017446137575450476), (3754, 0.0017440400373373393), (4295, 0.001742881470671829), (1580, 0.0017419168008720378), (4547, 0.0017418244176205504), (207, 0.0017407330627376202), (2585, 0.0017407120247886416), (107, 0.0017400100065474372), (1497, 0.0017393638464827676), (4285, 0.0017389131628694281), (857, 0.0017388881076061606), (3680, 0.001737958254391105), (2012, 0.0017375363700313261), (38, 0.0017372423429929441), (922, 0.0017369279447412582), (3759, 0.0017369106304576554), (2796, 0.001736870913382796), (2051, 0.0017362402918280494), (3013, 0.001736199930066301), (847, 0.0017361800634496092), (2383, 0.001735749663472616), (4335, 0.0017356161618806815), (4389, 0.0017354300379745793), (4077, 0.001735357803231836), (2378, 0.0017352112984100215), (999, 0.0017350706997439796), (4092, 0.0017348701570246978), (1656, 0.0017341537335225695), (1184, 0.0017341278817162196), (2476, 0.0017338396393885944), (614, 0.0017335381431757121), (3337, 0.0017334948797950596), (3532, 0.0017334859753185092), (2967, 0.0017331214028638501), (2138, 0.0017328202795524811), (2638, 0.0017324005301798814), (1143, 0.0017323018396151245), (3501, 0.001731577220188943), (1498, 0.0017310469583323488), (3661, 0.0017310276994815922), (4595, 0.0017309849836018563), (1381, 0.0017309438400620043), (2510, 0.0017306972854751813), (2165, 0.0017306889481269153), (855, 0.001730548999212181), (2096, 0.0017299805545367439), (3196, 0.0017299019404930628), (3972, 0.0017297855967577517), (4244, 0.0017290897462216843), (3391, 0.0017284621573282265), (274, 0.0017282370721387443), (1716, 0.0017278700086846514), (1924, 0.0017276719530784123), (1858, 0.001727613500259186), (1398, 0.0017275307908040344), (666, 0.0017274300153103587), (4293, 0.0017273643613386067), (2452, 0.0017273337864376465), (1658, 0.0017273022363436927), (2683, 0.0017268554615383718), (3808, 0.0017264508571709675), (4276, 0.0017263053385652156), (100, 0.0017258127986206338), (2180, 0.0017256177911131652), (721, 0.0017253885237056555), (2411, 0.0017251785180884198), (3947, 0.0017244010518922184), (2505, 0.0017240850719369607), (1069, 0.0017240183473915711), (3984, 0.0017236892721168478), (2209, 0.0017231748805943267), (2339, 0.0017223207236860838), (2926, 0.0017222631280042206), (2346, 0.0017219174233201477), (1836, 0.0017219151844281087), (3791, 0.0017212907943945273), (3157, 0.001720908508841071), (2343, 0.0017208164459011697), (4098, 0.0017201266190994934), (3263, 0.0017200030274413414), (2930, 0.0017199820593545331), (2164, 0.001719497038065051), (2623, 0.0017193715774930143), (3162, 0.001719267802592961), (1371, 0.0017192575706806148), (1158, 0.001718988123753138), (1437, 0.0017189770305129312), (2518, 0.0017185734571362927), (3039, 0.0017184750043976686), (3440, 0.0017182145047031517), (3997, 0.0017181802776642299), (533, 0.0017181408719741987), (2305, 0.0017179172240872965), (2978, 0.0017171492201207663), (3837, 0.001716882045798352), (3032, 0.0017160497606859828), (3950, 0.0017151883379396611), (1928, 0.001714020647789008), (2384, 0.0017137322747235405), (4369, 0.001713246282353641), (682, 0.0017131442925717292), (737, 0.0017129093512186046), (537, 0.0017127223947439524), (3183, 0.0017120709701932881), (3180, 0.0017118301352602365), (4131, 0.0017117457749067906), (1023, 0.001711501752405793), (1349, 0.0017112619431697423), (4452, 0.001710914216538538), (478, 0.001710860948821756), (4307, 0.0017107405062274678), (3415, 0.0017102688986566903), (419, 0.0017094562415827692), (2561, 0.0017094152691280672), (3168, 0.00170927480086145), (1560, 0.001708712407680463), (4465, 0.0017083522633278834), (4042, 0.0017080372368614), (683, 0.0017080322871668807), (3044, 0.0017079097508774063), (3867, 0.0017074681672794773), (1311, 0.0017071791207921346), (4625, 0.001707152790551645), (2970, 0.0017069392884239212), (4531, 0.0017067995637680294), (2304, 0.0017064271814473393), (3857, 0.0017060504821861877), (813, 0.0017059869103928746), (425, 0.0017059457991618345), (681, 0.0017059078391107364), (3408, 0.001705870038394626), (1960, 0.001705846915041993), (3064, 0.0017042940068831113), (8, 0.001704268635908894), (2181, 0.0017037598876086407), (3470, 0.001703721558223434), (2903, 0.0017034312448806327), (1240, 0.0017029870011774555), (967, 0.0017029438625382112), (1162, 0.0017027541030725474), (1332, 0.0017025379460504013), (2428, 0.0017023816286212052), (1909, 0.0017023794828752374), (3245, 0.0017023550727294778), (3373, 0.0017018867423885934), (2115, 0.0017018589507357435), (2712, 0.0017015788609251303), (1887, 0.0017014363272102391), (1962, 0.0017012112299988784), (998, 0.0017011778778315467), (4113, 0.0017009558955313477), (3866, 0.0017007842337386663), (3008, 0.0017005176541235983), (3424, 0.0017003460920994875), (436, 0.001700096827691383), (4108, 0.0016999516404127691), (3964, 0.0016996980637468315), (3146, 0.0016993552669903815), (3515, 0.0016992048162954485), (2560, 0.0016991374200898324), (3804, 0.001699132160688924), (2436, 0.0016989903446078677), (476, 0.001698843231201395), (3281, 0.0016987865509883915), (839, 0.001697632410742534), (4630, 0.0016974540938955718), (444, 0.0016972369659095236), (3771, 0.001697122647331297), (982, 0.0016970631898890905), (4605, 0.0016967093550810505), (3186, 0.00169637848696726), (4507, 0.0016959231395202367), (3977, 0.001695535715067798), (4132, 0.001695435590026958), (2733, 0.0016950446220992414), (2807, 0.001695041885567423), (1391, 0.00169485153655276), (4491, 0.0016946729682935568), (2843, 0.0016945731224295706), (2936, 0.0016938790958159746), (139, 0.0016938378015159139), (3207, 0.0016937404961629918), (2860, 0.0016936110778936724), (4549, 0.0016933985952771095), (3688, 0.0016927497905189408), (3273, 0.0016927188262585572), (4368, 0.001692677440573827), (2066, 0.0016922792949435172), (1491, 0.0016921148876180407), (663, 0.0016919142522779777), (4181, 0.0016918492049252047), (2624, 0.001691656694482956), (4446, 0.0016913814043370103), (235, 0.0016912770349174508), (4119, 0.001691100131447736), (1383, 0.0016907682523131444), (2341, 0.0016904025389194882), (2218, 0.0016903160373992797), (2222, 0.0016900774052877755), (3097, 0.0016898740742610043), (888, 0.0016897217938506997), (2420, 0.0016895538708384423), (2951, 0.001689408826036215), (3714, 0.0016891677488291993), (2244, 0.0016888952092043265), (3453, 0.0016886801325257514), (4076, 0.001688360596018627), (3834, 0.0016881842999301548), (3235, 0.0016873288070366043), (1188, 0.001687091708562676), (4676, 0.00168697700038145), (4401, 0.0016869374418715505), (1109, 0.0016868372568031881), (729, 0.001686496744413399), (174, 0.0016864847938384082), (4535, 0.0016861947596781637), (2890, 0.0016859328540354858), (458, 0.0016851945923013311), (48, 0.0016847717562983818), (3469, 0.0016847186602585188), (596, 0.0016846921451733868), (2670, 0.0016844191575926615), (2960, 0.0016839765050529556), (3385, 0.0016835429790550578), (89, 0.0016832694167496693), (1976, 0.0016831803268241813), (4185, 0.001682715035946324), (2852, 0.0016823635473474103), (1681, 0.0016819971498851052), (3850, 0.0016817471227162579), (4051, 0.0016815667617940283), (1057, 0.0016810391437547853), (4575, 0.0016807454234629025), (3253, 0.0016804164585810925), (2134, 0.0016801292245956089), (1679, 0.0016801049969296451), (701, 0.0016800849031466786), (3677, 0.001679889071586623), (1572, 0.0016797581620358797), (2293, 0.0016787523896060338), (3694, 0.0016785514743011952), (250, 0.001678406826362351), (4453, 0.0016776640960231878), (3757, 0.0016776161261950462), (4493, 0.0016775185152836211), (4410, 0.0016773218681415743), (4087, 0.001676966131989559), (481, 0.0016768346507809958), (3882, 0.0016768062095496544), (3572, 0.001676729259810489), (4566, 0.0016766538086469462), (1167, 0.0016764974440042508), (1786, 0.0016759529048833116), (4133, 0.0016752740633367506), (2626, 0.0016750950159070816), (1732, 0.00167471454707732), (3519, 0.0016745739997634692), (3976, 0.001673850852399498), (1959, 0.0016736988346439557), (3158, 0.0016736959475145239), (4669, 0.0016733017430223152), (4656, 0.001673139464547218), (1862, 0.0016728959659885144), (2002, 0.0016725562638875292), (4003, 0.0016723736787126152), (4680, 0.0016721526175798656), (1805, 0.0016719317080989221), (3101, 0.0016717629366945), (2545, 0.0016716247401137043), (4227, 0.0016709824822826902), (1866, 0.0016709135234706954), (1486, 0.0016701329075646577), (4354, 0.0016700238605584037), (2037, 0.001669624551939713), (3896, 0.0016694060252806333), (3560, 0.0016690850301808707), (4706, 0.001669018710452558), (2811, 0.0016689453406579353), (2254, 0.0016688978305700857), (3417, 0.0016686933843431822), (62, 0.0016686526080967093), (101, 0.001668631953312377), (3584, 0.0016684545653302422), (1806, 0.0016682414439654584), (3192, 0.0016681330897827203), (350, 0.0016678349055691552), (1799, 0.001667686187170735), (3529, 0.0016676420717426825), (3924, 0.0016674409933043325), (2759, 0.001667145820367532), (875, 0.0016669191057205304), (1325, 0.0016668846683053793), (675, 0.001666342046671897), (3869, 0.0016662690697621032), (678, 0.0016660902313775925), (4337, 0.0016657227726526367), (2182, 0.0016651185755072585), (4324, 0.0016648421252594763), (2101, 0.0016646761483163322), (1409, 0.0016644576410625935), (2386, 0.0016642117833369152), (2996, 0.0016641677693250466), (1798, 0.001663850601639928), (2786, 0.00166359201343103), (4226, 0.0016635365099648442), (2258, 0.0016629897603847189), (1260, 0.0016628909623717528), (3692, 0.0016627994403892047), (4138, 0.0016627973280401943), (3659, 0.0016624777786125645), (4732, 0.0016623016386232538), (6, 0.0016619908731570277), (2231, 0.0016613539346261306), (3889, 0.0016609291853076384), (2575, 0.0016607735428049765), (2214, 0.0016605629880322409), (595, 0.0016598649473773851), (3962, 0.0016597266301363938), (2040, 0.0016596757945007198), (450, 0.0016596602009594699), (2898, 0.0016594774632790758), (2776, 0.0016594354585827103), (3961, 0.0016593413432363477), (1265, 0.0016591852367479297), (4263, 0.0016590736725313271), (4245, 0.00165874626529753), (673, 0.0016584327970516899), (4601, 0.0016580970601068749), (3449, 0.0016579101229379307), (1725, 0.0016577172940209607), (40, 0.0016575612644109414), (3770, 0.0016574680646753587), (3836, 0.001657148323343255), (1907, 0.0016570178297148506), (704, 0.0016570039176661733), (667, 0.0016568906859846366), (4551, 0.001656782823008051), (3103, 0.0016564476558924392), (2136, 0.0016562044591822535), (3934, 0.0016559106309821225), (4332, 0.0016558829390692401), (2458, 0.0016556183528779128), (3604, 0.0016551772401678041), (4727, 0.0016550404202167654), (1754, 0.001654755662344664), (141, 0.0016546353212672407), (4093, 0.001654622156127401), (3601, 0.0016545879601149683), (210, 0.0016544316677519595), (41, 0.00165419683913862), (2314, 0.0016541152844711557), (2477, 0.0016540866026500706), (2915, 0.0016537792807116043), (3095, 0.0016537352466725699), (550, 0.0016536825483762499), (3915, 0.0016536796285118395), (12, 0.001653378905075164), (3202, 0.0016530722871074043), (1897, 0.0016527367753837224), (2783, 0.0016526993003552486), (1803, 0.0016526825838833622), (4312, 0.0016525654199837764), (4602, 0.0016524040513856606), (919, 0.0016522941795749152), (3730, 0.001651967313829994), (123, 0.0016518858740748282), (4436, 0.0016515750637607692), (3873, 0.0016515454864389852), (3919, 0.0016514705064791333), (2888, 0.001650914839213656), (3264, 0.001650868880910461), (3599, 0.0016503012630144371), (3749, 0.0016500567502408929), (1643, 0.0016497648794433657), (2979, 0.0016497529916839199), (3092, 0.001649512156983801), (2882, 0.0016491045509943486), (4111, 0.0016488787832929285), (591, 0.0016481379539359207), (3697, 0.0016480030057370192), (4379, 0.0016474888995045773), (74, 0.0016473193634113613), (2230, 0.0016472751848240323), (4355, 0.0016471705833161863), (841, 0.0016470643767679486), (599, 0.0016469252271522421), (1812, 0.0016468388403947118), (162, 0.001646757132417699), (3175, 0.0016465020512035525), (4234, 0.0016463552719621834), (2159, 0.0016463382480428068), (3802, 0.0016462441683742072), (2348, 0.0016461813842705718), (1848, 0.001646179864047803), (4043, 0.001646099777748456), (1511, 0.0016457144137771663), (4384, 0.0016451955718693922), (1280, 0.0016444328697585496), (3468, 0.0016443267456909773), (2233, 0.0016435871740878615), (1091, 0.001643394848864702), (2021, 0.0016433374349461224), (10, 0.0016427310531893836), (4540, 0.0016426800350659257), (4046, 0.0016423930976481142), (371, 0.0016423083581518295), (2295, 0.0016421931365457768), (960, 0.0016420792636020311), (587, 0.00164182727362213), (2601, 0.0016417509312990357), (1708, 0.0016410740917763228), (3654, 0.0016410615849231135), (253, 0.0016409397000661634), (952, 0.0016401775567553118), (1583, 0.0016398616129334213), (4377, 0.0016393637319139249), (3681, 0.0016393476779163133), (2084, 0.001639181568045606), (930, 0.0016389248941910562), (1896, 0.0016389202053913618), (2104, 0.0016387536948255707), (128, 0.0016381443105365568), (4657, 0.0016378779130022097), (1822, 0.0016378129475222917), (2662, 0.0016377154812978482), (1563, 0.0016373332206406782), (2533, 0.0016373142878766819), (4116, 0.001637307736008732), (342, 0.0016369298744507244), (2200, 0.0016367638058964805), (3768, 0.0016365219568448327), (3372, 0.0016363061036338672), (1770, 0.0016362002337420192), (1995, 0.0016358709318529346), (2968, 0.0016355267570245641), (4083, 0.0016352932132274447), (4001, 0.0016346489701099302), (513, 0.0016344769871968253), (3034, 0.001634458773748758), (2819, 0.0016344556889168673), (3636, 0.0016341431889414365), (4038, 0.0016339907875947478), (4064, 0.0016338644562088871), (3881, 0.0016338534433687198), (1609, 0.0016337050602169862), (2072, 0.0016329531898056472), (3184, 0.0016326313988666843), (303, 0.0016325498856682803), (2631, 0.0016323528580812648), (4130, 0.0016321724284435752), (1150, 0.0016318494586383574), (1364, 0.0016315835800163655), (3586, 0.0016314790737815364), (990, 0.0016312010741501017), (3451, 0.0016311654357464677), (991, 0.0016309367453586031), (2714, 0.0016305384503540817), (4024, 0.0016303053215984268), (17, 0.0016301275931978104), (395, 0.0016299694511420963), (3511, 0.0016298678150279263), (493, 0.0016298272184084425), (3787, 0.0016297556296111522), (677, 0.0016297207556760806), (4123, 0.0016296467677795663), (887, 0.0016283195496003182), (1502, 0.0016280656108225802), (1997, 0.0016279829449004906), (1324, 0.0016275579012865757), (3496, 0.0016274946720285116), (232, 0.0016273508645483117), (4175, 0.0016273458841911837), (2595, 0.0016273349578201156), (873, 0.0016272558988562117), (208, 0.0016269162062130117), (4094, 0.0016266105706088127), (3131, 0.0016266099268376025), (4703, 0.0016265885353241296), (3406, 0.0016265193857444343), (4179, 0.0016265031785648583), (1991, 0.0016263602474720412), (3618, 0.0016262367088365995), (728, 0.0016261726132068396), (3968, 0.0016260729849213854), (1917, 0.0016257700748484659), (499, 0.001625509799993742), (254, 0.001625258938643493), (3161, 0.0016246861807748473), (4161, 0.001624015387171583), (2126, 0.0016238125568259752), (1874, 0.0016233851319023772), (2755, 0.001622864448027696), (748, 0.001622853803996328), (2105, 0.0016228320422037824), (1733, 0.001622820853213323), (4052, 0.0016226930087791726), (3781, 0.0016223116132042003), (3442, 0.0016221425195378464), (754, 0.0016217755233482857), (2499, 0.0016217615943578197), (4655, 0.001621655431083601), (1736, 0.001621651924236066), (4420, 0.001621645687166568), (1894, 0.0016215428106938338), (4323, 0.0016213338672656928), (1056, 0.0016209359801028715), (1779, 0.0016206769142545427), (2725, 0.0016205350959203595), (2664, 0.0016204007553012121), (1705, 0.0016202169716573373), (3035, 0.0016201803995756008), (2964, 0.0016189756405005586), (1043, 0.0016186304114482197), (2809, 0.0016186114507621213), (1449, 0.001618255518835627), (1853, 0.0016178097425206428), (4061, 0.0016177568102976336), (4419, 0.001617749040442464), (1856, 0.0016176950276426557), (3920, 0.0016174563634103098), (3041, 0.0016171625476325627), (635, 0.0016169902873898298), (2880, 0.0016169107121164262), (102, 0.0016168433802134369), (1965, 0.001616838115926044), (2792, 0.001616651444832125), (2940, 0.0016162436482332397), (1724, 0.0016162241527411718), (4260, 0.0016159477985329303), (4510, 0.0016157529561699544), (4579, 0.0016156644073201953), (1637, 0.0016156211582040116), (4448, 0.0016153363694976451), (3522, 0.0016153197385881145), (1282, 0.0016150003529589883), (4256, 0.0016147127593658687), (3218, 0.0016143911968516994), (3862, 0.001614312911195582), (2252, 0.0016141582819845144), (4613, 0.0016137696031963305), (2689, 0.001613706459760367), (487, 0.001613635209692422), (1413, 0.0016134789760688592), (2723, 0.001613369402924115), (623, 0.00161335435875614), (2172, 0.0016132158441310655), (3870, 0.001613076788019698), (180, 0.0016129959077442874), (4685, 0.0016129650107062589), (1659, 0.0016129162855475579), (4180, 0.0016127960207614224), (4592, 0.0016126042537587936), (1228, 0.001612431301616774), (844, 0.0016122893847422613), (1718, 0.0016114955455169156), (3959, 0.0016114438992278393), (2243, 0.001611339313315662), (4233, 0.0016113171936248513), (4275, 0.0016111109931847408), (206, 0.001610856141413717), (4005, 0.0016108098902061407), (536, 0.0016107053221538139), (4225, 0.0016104293984085696), (2522, 0.001610423545584357), (2630, 0.0016100484708868987), (3590, 0.0016100459141406437), (4586, 0.0016099379263331724), (2053, 0.0016098905200717906), (1083, 0.0016096683701206087), (4139, 0.001609502053191624), (4505, 0.001609345748865907), (3271, 0.0016091566470235997), (1104, 0.0016088999093334137), (2418, 0.0016087984941445378), (1401, 0.001608744441069513), (3992, 0.0016086507696584753), (3314, 0.0016084649820261227), (3905, 0.001608434505314884), (4695, 0.0016082527829403208), (3814, 0.0016081389873354572), (1359, 0.001608091994588445), (826, 0.001608068087763513), (1975, 0.001607752819421106), (3398, 0.0016076914439030704), (1234, 0.0016076828270270938), (783, 0.0016070602723683004), (1224, 0.0016069208018596498), (2953, 0.0016067892967085834), (4557, 0.0016066325336599183), (2977, 0.0016063736870941857), (1596, 0.0016062394036837919), (4622, 0.0016061337208382303), (2106, 0.0016060911930861513), (3979, 0.001606032262728748), (1159, 0.0016054639465186342), (3710, 0.00160542488405641), (2599, 0.001605149064532123), (1400, 0.0016051075795206825), (3782, 0.0016050600706834458), (2124, 0.0016042550443575972), (1031, 0.0016039186856558756), (3493, 0.0016033041859709399), (1185, 0.0016032580825221764), (1859, 0.0016029675934173268), (4489, 0.00160271114717622), (1322, 0.0016024440701040033), (1125, 0.0016024157791552191), (1205, 0.0016023916905101195), (3283, 0.0016021584045703128), (3678, 0.0016021507647154783), (262, 0.0016021038681738498), (2292, 0.0016019639385505902), (3798, 0.001601667149632035), (2566, 0.0016014635678694177), (1192, 0.0016014160488565688), (1904, 0.0016013415935641265), (3778, 0.0016013354187687091), (2217, 0.0016008752829709573), (2947, 0.0016008437005082465), (2044, 0.0016007280621460171), (4251, 0.0016005250576355402), (2546, 0.0016003623482124638), (68, 0.0015998013045575815), (3987, 0.0015991025377465864), (1687, 0.00159888179162217), (600, 0.0015987706888970412), (3048, 0.0015984566230547743), (4406, 0.001598449055097158), (4249, 0.0015982989310349706), (1099, 0.0015981391114960177), (992, 0.0015976305109775461), (2955, 0.001597579753858385), (420, 0.0015975416755275892), (1619, 0.0015974380849242997), (3277, 0.0015968596301903976), (2141, 0.001596851912002118), (2307, 0.0015968194415848774), (606, 0.001596695635568242), (4392, 0.0015965846865244344), (654, 0.0015965322940575837), (564, 0.0015958207963248019), (3107, 0.0015957923800978008), (415, 0.0015957898182735921), (20, 0.0015957226065738937), (3810, 0.001595705061077051), (3437, 0.001595666818558659), (1380, 0.0015955344732887253), (3995, 0.0015954259488894108), (1193, 0.0015953593822904592), (3591, 0.001595352651459392), (1834, 0.001595120445094965), (1564, 0.001594902765116203), (1603, 0.0015947910618892367), (2380, 0.0015944312568185513), (1821, 0.001594350292889802), (483, 0.0015941360248890406), (890, 0.0015939832252047602), (4621, 0.0015935691090231527), (4430, 0.0015931686217748823), (603, 0.0015926444816962847), (275, 0.0015925804465736952), (1685, 0.0015922970129824327), (902, 0.0015922937858353573), (238, 0.001592257189938427), (2863, 0.0015918769238017136), (3326, 0.001591790192464798), (4378, 0.0015909324623628283), (1426, 0.0015908601769877787), (1983, 0.001590764887611056), (1832, 0.001590706361797984), (4370, 0.0015906533132696435), (2144, 0.0015902526794390433), (3777, 0.0015899939980812074), (1299, 0.0015899645878633996), (3224, 0.0015895812514518204), (716, 0.0015894504190877418), (774, 0.0015890366382218855), (4421, 0.0015889633419891881), (3576, 0.0015888729902961013), (3514, 0.0015887944216909028), (1071, 0.001588432535900257), (3689, 0.0015884281089646945), (1851, 0.001587984677819786), (2092, 0.0015877678582238213), (1926, 0.0015876723601573079), (4523, 0.00158739994572192), (1636, 0.0015873070242011084), (2919, 0.0015873026165587033), (2413, 0.001587125716669594), (2610, 0.0015866010731867837), (2235, 0.0015862698895866719), (1881, 0.0015861751317118036), (1003, 0.0015860810210292378), (2345, 0.0015860469074376997), (913, 0.0015859219899391627), (580, 0.0015857919854685382), (3382, 0.001585707329793313), (3973, 0.0015854510290792584), (3585, 0.001585268410958847), (3463, 0.0015850027312062317), (418, 0.0015849878611768535), (143, 0.0015849342774668404), (239, 0.0015847418780331071), (4091, 0.00158468776612452), (588, 0.001584573020350766), (3061, 0.001584201010845865), (3401, 0.0015841232481758221), (2648, 0.0015841097419730774), (1075, 0.001583499346366785), (765, 0.001583236934414061), (2194, 0.0015831443216757367), (1847, 0.0015830494841778367), (4100, 0.0015830440293543085), (1775, 0.0015828886508447591), (4386, 0.0015824801440870292), (4054, 0.0015824687162531647), (1124, 0.0015824530300786973), (4716, 0.0015823828638672538), (1526, 0.0015816353562331056), (1189, 0.001581501890697774), (708, 0.0015814698463917053), (3676, 0.001581368144070641), (1689, 0.0015813445377905844), (4318, 0.0015812891778541518), (4013, 0.0015810606951945467), (4334, 0.0015810229750940303), (1791, 0.0015809486701657243), (1452, 0.0015807409638518037), (2565, 0.0015806041180923209), (1024, 0.001580294284878684), (2605, 0.001580279695519376), (4715, 0.001579857742829535), (4265, 0.0015794918425443357), (4357, 0.0015793292813907497), (3310, 0.0015791370804353892), (1047, 0.0015790533896661752), (1147, 0.0015789758117526816), (231, 0.0015788832603451117), (671, 0.0015787616715208716), (1727, 0.0015786491408566084), (1445, 0.0015785925484158635), (3150, 0.0015785071229601159), (220, 0.0015784502009531813), (3699, 0.001578309691496477), (3845, 0.001578209256531643), (313, 0.0015781280024610093), (2780, 0.001577715593431165), (1949, 0.001577614252207195), (1872, 0.0015770692600966436), (830, 0.0015769956552942228), (1470, 0.0015769642463570252), (474, 0.0015768854251127127), (3016, 0.0015767812980041513), (2249, 0.0015766530774079042), (2726, 0.0015764212230496583), (2949, 0.0015758664834812162), (2744, 0.0015757361081502614), (976, 0.001575576244788692), (523, 0.0015755719598435573), (2746, 0.0015754994779452439), (4, 0.0015753560382474382), (3648, 0.0015749556841113807), (584, 0.001574623304692609), (1484, 0.0015745815869846664), (593, 0.0015741336900919561), (4294, 0.0015738669431645065), (3378, 0.001573481134775956), (4466, 0.001573448494642568), (3623, 0.0015732376147352708), (1048, 0.0015727476807373122), (1916, 0.0015727266498075563), (1717, 0.0015725392253412263), (4624, 0.0015722654951237356), (3887, 0.0015718062409792919), (2042, 0.0015713395573566913), (2344, 0.0015710951079353215), (1702, 0.001571022532251721), (3724, 0.0015709809302971536), (4648, 0.0015707088617696852), (884, 0.0015704088934370458), (3517, 0.0015702994801477688), (1439, 0.0015701520455711328), (551, 0.0015700551789616052), (3432, 0.0015698991364345536), (2794, 0.001569831308278194), (543, 0.0015698215069962398), (2444, 0.0015692987222951438), (4008, 0.0015692644265053613), (4006, 0.0015683560869971507), (4433, 0.0015678363797018981), (1244, 0.001567805033386026), (2169, 0.001567665772086476), (482, 0.0015676527531919377), (3549, 0.001567651195774551), (2048, 0.0015676122871995904), (4629, 0.0015675695080648781), (4435, 0.0015675325348434726), (4552, 0.001567356221971491), (4755, 0.0015672423412610103), (4474, 0.0015671934851980514), (1536, 0.001566647301866915), (1570, 0.0015665180559372473), (2241, 0.0015664761312012057), (1585, 0.0015664097614333137), (4012, 0.00156635638317182), (3353, 0.0015661810660225473), (201, 0.0015659621357151465), (23, 0.0015657052798405092), (134, 0.0015656068653417214), (1879, 0.0015656059346357252), (3653, 0.0015654799770185056), (3227, 0.0015654668938490841), (2994, 0.0015653116481616238), (793, 0.0015650418285313719), (3743, 0.0015650042820149963), (2685, 0.00156448378950658), (3902, 0.0015643955573671543), (784, 0.0015639701412423017), (2148, 0.0015638795012968907), (871, 0.0015632053464197724), (2088, 0.0015631951080142127), (3840, 0.0015631519963363492), (4273, 0.00156302492822334), (615, 0.0015628417049074169), (1254, 0.0015625768265254687), (928, 0.0015625510988158502), (4361, 0.0015624752470783042), (4563, 0.0015621553864024465), (2016, 0.001562000271173951), (51, 0.001561974473378835), (1946, 0.0015619593964012691), (4178, 0.0015618794356351987), (2943, 0.0015616039049605379), (3351, 0.0015612585761777195), (3445, 0.0015604597331616175), (4467, 0.001560035670996924), (4422, 0.0015597651121178687), (211, 0.0015595220341484723), (3105, 0.0015589121977569271), (1440, 0.0015587628449760904), (209, 0.0015583552467166274), (1271, 0.0015580921819565799), (1660, 0.001557977117638738), (4583, 0.0015577983628473008), (320, 0.0015577466995156668), (3198, 0.001557674015032295), (1588, 0.001557646777159642), (1761, 0.0015575920148149416), (1644, 0.0015575498751590996), (2878, 0.0015575310159673785), (255, 0.0015570116872153654), (674, 0.0015569660079733784), (4257, 0.0015565286570942156), (636, 0.0015561236632238612), (2894, 0.001556010470779573), (1045, 0.0015559897371293118), (2192, 0.001555629683669002), (1006, 0.001555625045331355), (1628, 0.001555460289110223), (2083, 0.001555412623616001), (2278, 0.0015554027312485712), (1908, 0.0015553079103821392), (2370, 0.0015552096136241607), (1410, 0.001555145941069086), (3179, 0.001555113396087911), (994, 0.0015549938022504854), (2015, 0.0015548703276797883), (630, 0.0015547990370593165), (1860, 0.0015545274121891077), (1266, 0.0015544743273062), (1931, 0.001554340585971366), (2640, 0.0015542852986183528), (1176, 0.0015542239684763746), (55, 0.0015540657382375762), (579, 0.0015538225063706345), (3029, 0.0015537584323722315), (3102, 0.0015536419990946967), (3290, 0.001553243526599626), (3597, 0.0015530176793390974), (2944, 0.0015529343668306305), (1933, 0.0015528515705248867), (83, 0.0015527591237600568), (27, 0.0015527495280559112), (3233, 0.0015525369451751493), (2068, 0.0015525004296385793), (2353, 0.001552040838288347), (4456, 0.0015516439272603517), (1469, 0.00155156982253005), (1444, 0.001551231528170379), (4486, 0.0015512129711180204), (473, 0.001550981836172578), (1703, 0.001550826385499043), (3002, 0.0015507236243794775), (1396, 0.0015506601488852886), (3955, 0.0015504248444677847), (1432, 0.0015504153491066148), (1835, 0.0015503734453160614), (2501, 0.0015501659968993088), (2234, 0.0015499663541652968), (1533, 0.0015497226913154377), (2276, 0.0015495720255005016), (2904, 0.0015492466733452554), (1475, 0.0015491755974653119), (869, 0.0015491187484083181), (3210, 0.00154898223194845), (3404, 0.0015489804627689934), (272, 0.0015487757015571523), (3707, 0.0015487460230606666), (216, 0.001548732647134468), (3907, 0.0015486202029238684), (3833, 0.0015483133375620152), (4125, 0.0015482680887460012), (3265, 0.0015482485624884546), (2155, 0.0015481765018611066), (3571, 0.0015472080561060903), (4248, 0.0015468749450084376), (4036, 0.0015457449832862928), (4305, 0.0015455629883408177), (398, 0.0015453860740134945), (1956, 0.0015453296105965954), (4672, 0.001545197877967616), (685, 0.0015450765921272071), (502, 0.0015449757353302401), (2551, 0.0015447534240782329), (3963, 0.0015443037105061768), (4056, 0.0015440467635572262), (1334, 0.0015437740296563196), (2321, 0.0015434263654105604), (586, 0.0015433024106984445), (59, 0.0015429513219360838), (903, 0.0015427519806061293), (750, 0.0015425617726514366), (3489, 0.0015424131350257584), (572, 0.0015422339765795367), (3113, 0.0015421838238838883), (2122, 0.0015418348351228758), (1993, 0.0015412266934173213), (1734, 0.001541108907687416), (516, 0.0015407780935512562), (1108, 0.0015405206095375958), (4738, 0.001540050832891306), (2934, 0.0015397474878189052), (479, 0.0015397430863942545), (3930, 0.0015394151972863595), (1970, 0.0015389897061282344), (169, 0.0015382785383356717), (3446, 0.001538006074589151), (1442, 0.0015375164888567947), (1945, 0.0015368740880879824), (2732, 0.0015366507363366716), (2973, 0.0015365704004254425), (4284, 0.001536476771631777), (3122, 0.0015364002894806654), (1629, 0.0015361517195109065), (3216, 0.0015359406876387712), (151, 0.00153592083005695), (4678, 0.0015357940036669917), (3169, 0.0015357700810721543), (1105, 0.0015356487396361764), (4686, 0.00153549779743412), (2277, 0.001535346641133854), (127, 0.0015347054202850554), (3428, 0.001534380716915577), (110, 0.0015343657930336797), (265, 0.0015343042108074858), (969, 0.0015339715009983924), (3690, 0.0015337303011187713), (943, 0.001533702928396007), (4383, 0.001533576554522959), (631, 0.0015333530655171797), (2784, 0.0015333145563079453), (778, 0.0015332659164515312), (71, 0.0015331753529554096), (1111, 0.0015325573519215626), (1355, 0.0015325413003700326), (2017, 0.0015324268775788843), (811, 0.001532418541716566), (145, 0.0015323792709946995), (3191, 0.0015323224654961698), (3908, 0.0015322904107558215), (2911, 0.0015321488314994681), (1901, 0.001532070873367934), (3174, 0.0015320520001227311), (2489, 0.0015318687035714706), (109, 0.0015315609029150515), (1740, 0.0015313102477841395), (2248, 0.0015312773456053533), (258, 0.0015310244088371494), (1688, 0.0015309950448458595), (2695, 0.0015308009526203295), (552, 0.0015307706696681056), (3332, 0.0015307113234805864), (2816, 0.0015305043043956764), (504, 0.001530137576513756), (4683, 0.0015300107013064515), (3069, 0.0015298276069980795), (427, 0.001529814809587911), (769, 0.0015296675652137534), (3125, 0.001529629339667932), (2745, 0.0015295276748774752), (1722, 0.0015294833987471476), (2691, 0.0015294555613626609), (544, 0.0015293257239780266), (2340, 0.0015292340404735704), (4391, 0.0015290433780983075), (4214, 0.001528904653219195), (2850, 0.0015286212028312143), (1179, 0.0015284249877960529), (1302, 0.001528404268262004), (4004, 0.001528306378636801), (1077, 0.0015282682275020757), (4509, 0.0015281139902847485), (2495, 0.0015274907390480348), (4088, 0.0015273904378907835), (2999, 0.0015270435959226982), (832, 0.0015268872603508765), (3467, 0.001526848023113002), (2193, 0.0015267099041726443), (1252, 0.001526208420538644), (2647, 0.0015261351491599336), (2061, 0.0015257887879126413), (1611, 0.0015254317664712333), (2802, 0.0015254093016612413), (3400, 0.001525398539296142), (4360, 0.0015252191243255479), (2991, 0.0015250875527031728), (983, 0.0015250856116011734), (1942, 0.001525050507089033), (2109, 0.00152487818690413), (1131, 0.0015245871804798541), (4206, 0.0015245411016042748), (634, 0.0015242345674089076), (1386, 0.0015241217732095275), (534, 0.001524101108832384), (4184, 0.0015240258314960663), (3603, 0.0015238057465657253), (3462, 0.001523803119672413), (4530, 0.0015237619162593312), (4628, 0.001523688389724022), (3978, 0.00152359750694016), (343, 0.0015234432297083814), (4148, 0.0015234084008737426), (529, 0.0015232171063870772), (850, 0.0015228789419028375), (2246, 0.0015228286363689622), (1612, 0.001522510067419741), (4188, 0.0015220526249429826), (377, 0.001521925991407325), (4376, 0.0015218711434015356), (4533, 0.0015218149450316758), (4283, 0.0015217812018936626), (353, 0.0015217559083957057), (1515, 0.0015215953615841395), (1170, 0.0015215583252586697), (1751, 0.0015214704375464058), (1337, 0.0015214224060717903), (347, 0.0015211032386065586), (4375, 0.0015210712736519296), (3541, 0.0015207705992566064), (4677, 0.0015207379226604223), (4487, 0.0015206732509896001), (2651, 0.0015204451070456536), (945, 0.0015204149041565223), (4728, 0.0015204104645642669), (4255, 0.0015203853841655752), (4068, 0.0015199297099746318), (28, 0.0015198742402722535), (3491, 0.0015194444469607555), (2081, 0.0015193535060896274), (1686, 0.0015193298794902766), (4300, 0.001519207776767295), (3551, 0.001519057148385208), (3733, 0.0015190156570433276), (1638, 0.0015190010883946803), (3879, 0.0015185730710042102), (389, 0.0015185248437107615), (4041, 0.0015184027626265638), (1512, 0.0015182202412059242), (3173, 0.0015181001687238308), (4049, 0.0015178072914521664), (1087, 0.0015176254203651393), (1622, 0.0015175487853679845), (4623, 0.0015173497644161704), (3494, 0.0015171518194510274), (3486, 0.0015171315692551679), (1906, 0.001517058192090241), (4349, 0.0015169664764828885), (1329, 0.0015169214668803467), (3815, 0.0015168938693659849), (2586, 0.0015167550218430441), (2503, 0.0015167541620482075), (959, 0.0015167113956803945), (176, 0.0015167008807995838), (3518, 0.0015164613132568445), (592, 0.0015162754529492385), (1346, 0.0015161212328434948), (2471, 0.0015160496477023865), (467, 0.00151584603260515), (525, 0.00151550634829096), (864, 0.001515429326446928), (3106, 0.001515426070976126), (4550, 0.001514875720263341), (2313, 0.001514323525678007), (768, 0.001514307239152604), (3093, 0.001514100297573259), (2492, 0.0015140345602512489), (4702, 0.0015139351114320263), (135, 0.0015137553838074295), (821, 0.0015133171031017976), (4428, 0.0015132819592384229), (2067, 0.0015129260808918116), (3299, 0.0015127489158101907), (3647, 0.0015127465601392296), (1133, 0.0015126993456518127), (56, 0.001512635473142458), (1059, 0.001512525612544166), (1378, 0.0015124937684991918), (182, 0.0015124626172027629), (4581, 0.0015121243113627024), (1831, 0.001512104357309525), (2693, 0.0015119930991778633), (241, 0.0015114949519891682), (1129, 0.001511299009998847), (817, 0.0015112826444805554), (3436, 0.0015112658367199801), (1574, 0.0015111646139590047), (1102, 0.0015111049878762566), (628, 0.001511085090581854), (4029, 0.0015110680889458277), (1190, 0.0015110114034806335), (112, 0.0015108371534550639), (714, 0.001510640242539176), (226, 0.0015105684118288205), (375, 0.0015105212863616956), (4381, 0.0015105027750287722), (4278, 0.0015103884946702625), (1127, 0.0015097411288342872), (118, 0.001509720929070995), (849, 0.0015094928746383982), (2212, 0.001509330092882593), (718, 0.0015091293466446677), (2558, 0.0015090408802980616), (1549, 0.0015089833942069854), (4609, 0.0015087698759692748), (3341, 0.001508181748224815), (264, 0.0015080939425633985), (4266, 0.001508057095009782), (4103, 0.0015080035774172169), (1566, 0.0015079818858249403), (1985, 0.0015078630095887054), (4404, 0.0015075738385961854), (104, 0.001507203013346679), (3696, 0.0015069764734284598), (4320, 0.0015067904749506828), (2174, 0.0015067831224839974), (2091, 0.0015067519610346548), (3005, 0.0015067250620411999), (3827, 0.0015067194954067142), (4253, 0.0015066758013405766), (400, 0.0015066057040352776), (22, 0.0015064815350168171), (133, 0.0015063903970026073), (4367, 0.0015061209096145355), (3624, 0.0015059170374600787), (1741, 0.001505726165159714), (1473, 0.0015056179568903015), (4665, 0.0015054604471029394), (2961, 0.0015049166631790737), (897, 0.0015044078080817245), (4053, 0.0015036443170662064), (3075, 0.0015036239930446538), (2815, 0.0015035485674781614), (1172, 0.00150353983152306), (3478, 0.0015034352979219358), (4149, 0.0015030490026100346), (3888, 0.0015027892590958032), (1922, 0.0015022721098832351), (2045, 0.001501697903584296), (4409, 0.001501331261845601), (3520, 0.0015013018163055171), (1374, 0.0015010534147197004), (3346, 0.0015009617088079846), (2284, 0.001500880527553627), (2354, 0.0015008602106899548), (4291, 0.0015006870189974157), (834, 0.001500539513251608), (2026, 0.0015005018916436506), (1617, 0.0015003557666651561), (3195, 0.0015003496969784517), (1174, 0.0015002647930449184), (2826, 0.001500096343708975), (1072, 0.0014998980968662992), (736, 0.001499604530423453), (3818, 0.0014995223287816491), (4640, 0.0014994932362386974), (988, 0.00149941867845058), (1567, 0.0014992636363145662), (1599, 0.0014991357839321804), (4362, 0.001499101663495853), (172, 0.0014990346362009127), (1313, 0.0014989871685940391), (2569, 0.0014987335699266722), (1984, 0.0014986471119005044), (1483, 0.0014984627033800013), (3706, 0.0014983397310494979), (4670, 0.0014982835262087985), (4485, 0.001498179481139594), (3104, 0.0014981240854716237), (292, 0.0014979356774640082), (2804, 0.0014978387075117285), (2256, 0.0014975015318094977), (189, 0.0014974228753206619), (370, 0.0014974027557156356), (4016, 0.0014972173349440995), (4081, 0.0014970190791815427), (114, 0.0014968712853732225), (1151, 0.0014967918155057683), (2300, 0.0014967116417431445), (620, 0.0014966143434231687), (1028, 0.001496574550123585), (993, 0.0014964979297990627), (4543, 0.0014964081908186125), (39, 0.0014963213756591554), (2698, 0.0014961615666391989), (560, 0.0014958329286423717), (331, 0.001495562280098108), (883, 0.0014955322487678257), (3156, 0.0014954830411100172), (1163, 0.0014951946752283815), (1420, 0.0014951878841042363), (1876, 0.0014947053345050025), (1181, 0.0014945098375753517), (3612, 0.001494303514991119), (1112, 0.001494283336713245), (181, 0.001494268336284308), (1406, 0.0014942382276507203), (1577, 0.001494158450106551), (1126, 0.0014939433152567764), (619, 0.00149387535245493), (4481, 0.0014938036014677963), (3665, 0.0014935976362992417), (280, 0.0014929925256993023), (1074, 0.0014929759437774216), (1927, 0.0014923034217426392), (4018, 0.0014916253718099627), (138, 0.0014905440351655412), (1813, 0.0014905263920631732), (1573, 0.0014902652321008617), (1880, 0.0014900485458295872), (2713, 0.0014900463774299936), (1020, 0.0014896216569399603), (3441, 0.0014895791116166025), (282, 0.001489326161756225), (727, 0.001488824679564292), (3602, 0.0014884935482133304), (906, 0.0014884274988582122), (3900, 0.0014883889445130227), (1438, 0.001488383781441292), (2498, 0.0014880007362913672), (1338, 0.0014878733913841465), (2836, 0.0014878094710657108), (3343, 0.0014876923859798643), (3288, 0.0014875587208976946), (1455, 0.0014874000883934148), (3100, 0.0014873261120073125), (867, 0.0014871156083512826), (1807, 0.001487023438955597), (4264, 0.0014867506880435293), (3794, 0.0014865010593941887), (4224, 0.001486437135494319), (2632, 0.0014863681732599486), (1022, 0.001486186900361419), (973, 0.0014861108017646671), (460, 0.0014860948835825772), (4352, 0.0014860524864454996), (1953, 0.00148581195129086), (1146, 0.0014855746363780643), (3435, 0.0014855586127282283), (2119, 0.0014854430390774448), (3443, 0.0014854357848035815), (4039, 0.0014852544018087474), (927, 0.001485162234028332), (4394, 0.0014848251288418883), (1012, 0.0014847326698026319), (3565, 0.001484571739596908), (348, 0.0014840530292750105), (962, 0.0014839805527241817), (3641, 0.0014836991366041921), (4664, 0.0014836681624291284), (1128, 0.0014836636174798265), (50, 0.001483508069744515), (4000, 0.001483409794820949), (3644, 0.00148325598549981), (2793, 0.0014831927488786196), (79, 0.0014829293599223229), (3773, 0.001482662673415325), (2910, 0.0014825362598313158), (1986, 0.0014824472035536852), (4241, 0.0014823675155688073), (697, 0.0014823482553159583), (2553, 0.0014823455128179642), (3793, 0.0014818306240932488), (4211, 0.0014818192012696402), (81, 0.0014815500365785584), (1269, 0.001481274295833626), (3433, 0.0014810965986469366), (1447, 0.0014810516839128967), (1295, 0.0014810243703649959), (2416, 0.0014809777118677812), (3050, 0.0014804644670802698), (2242, 0.0014804049383557176), (2463, 0.001480387971797901), (4641, 0.0014801908552107884), (2422, 0.0014800870205050301), (4567, 0.0014800837789638325), (2687, 0.0014795626442859978), (2268, 0.0014794539188144283), (2709, 0.001479255105837564), (3220, 0.0014791017349904021), (4736, 0.0014789486548759244), (4615, 0.0014788808506168251), (1671, 0.0014788191871935134), (3367, 0.001478758811969809), (2060, 0.0014785729597767293), (273, 0.0014782566532017861), (4327, 0.0014782268284052422), (247, 0.0014778532349441072), (1635, 0.00147784728836959), (1666, 0.0014776523991114085), (4504, 0.0014776206007462494), (613, 0.0014774196405893704), (3929, 0.0014773954378975028), (4743, 0.0014773762402748307), (2069, 0.0014772302911138313), (4687, 0.0014771180925213423), (2336, 0.001476853917180851), (1488, 0.0014765048117341964), (880, 0.0014761496646394467), (4511, 0.0014760292831263206), (1345, 0.0014759941316185715), (2472, 0.001475979205601308), (261, 0.0014759725917708824), (3589, 0.0014757979658313548), (2829, 0.001475754960985252), (1239, 0.0014757278228910578), (2167, 0.0014754590352303713), (3126, 0.0014752556607376644), (2589, 0.0014752308664415978), (1773, 0.001474853606846165), (3447, 0.0014746725382533278), (3309, 0.0014745791414679335), (2639, 0.0014744669722245869), (2128, 0.0014737002441821557), (1226, 0.0014736211137177158), (4022, 0.0014733494385464959), (4614, 0.001473032114647583), (1852, 0.0014728433256523809), (4071, 0.0014726489852970402), (923, 0.001472605226282154), (3368, 0.0014725865861616593), (2003, 0.001472581753452566), (3906, 0.0014723472005985863), (4387, 0.0014722864185050591), (3508, 0.0014722684172803536), (1811, 0.0014718893641647343), (1021, 0.001471689924404378), (3499, 0.0014716230130427926), (995, 0.0014715621868415347), (98, 0.001471524328587734), (4442, 0.0014714038397847088), (4667, 0.0014711036903023856), (358, 0.0014706580238699116), (4069, 0.0014706292970141392), (2133, 0.0014700979331896096), (1100, 0.001470041630806006), (26, 0.0014699692226641061), (2280, 0.0014698738725213356), (3375, 0.0014698217384696822), (530, 0.0014695729727590562), (866, 0.0014694703411226257), (233, 0.0014693524779880837), (3937, 0.001469239288459153), (2847, 0.0014688800007726553), (1527, 0.0014688098198301657), (1315, 0.0014686094089821826), (2690, 0.0014681000535950474), (3583, 0.0014677732737568895), (2103, 0.0014675168939054554), (2773, 0.001467463040889264), (1653, 0.0014671803281113228), (1504, 0.0014671586412968898), (1493, 0.0014670011607549728), (446, 0.0014666800677815611), (1248, 0.001466327416562164), (2297, 0.0014661324404633908), (3622, 0.001466090103162687), (1508, 0.001465935706411248), (1408, 0.0014656886294861823), (1027, 0.001465600199524658), (2008, 0.001465133691493844), (3466, 0.0014650412349334033), (4441, 0.0014650140259909392), (3580, 0.0014646980631816508), (1286, 0.0014645931366477486), (1200, 0.0014643462270154122), (1319, 0.0014642697508182685), (1888, 0.0014642578855193278), (2029, 0.0014641209707502057), (203, 0.0014638841403757422), (1060, 0.0014637847332185292), (676, 0.0014635465918564836), (3872, 0.001463340998797453), (4328, 0.0014632835928472217), (61, 0.0014631773583396312), (2160, 0.0014629695406743087), (1314, 0.0014629130374003707), (4104, 0.0014627380315646885), (230, 0.0014627178100583944), (618, 0.0014627102606771317), (3226, 0.001462570112079028), (4564, 0.0014622705081878639), (1721, 0.001462152724729087), (2057, 0.0014620787768297745), (557, 0.0014619606695271126), (1551, 0.0014619297367224886), (790, 0.0014617815434712798), (84, 0.0014616943224584021), (1742, 0.001461521633823911), (244, 0.0014614288898830697), (3970, 0.0014613488604413708), (2102, 0.0014612471453635202), (2918, 0.001461071481390838), (329, 0.001460794099316513), (1094, 0.0014607869835015633), (1668, 0.0014605177591020906), (3764, 0.0014602680563034775), (167, 0.0014602025320799125), (755, 0.0014601087924035665), (799, 0.001459881099298353), (1247, 0.001459702323243074), (3452, 0.0014594175286547332), (1900, 0.0014592637118334476), (567, 0.0014587868323435672), (2232, 0.0014587796824127614), (3352, 0.0014586650605145695), (4216, 0.0014586377665308855), (1263, 0.0014584139402426081), (3543, 0.0014583563322218692), (3412, 0.0014582743798764628), (1778, 0.0014580629606342492), (1267, 0.0014580456247516673), (4183, 0.0014579009977291413), (1632, 0.0014574006470608949), (1253, 0.0014572568067936545), (941, 0.001457240691653606), (1385, 0.0014571973504590161), (87, 0.0014570688559815829), (3298, 0.0014570138059041013), (3709, 0.0014569839020008725), (1556, 0.0014567404190659803), (1785, 0.0014566404759081158), (3720, 0.0014563429970849016), (1096, 0.0014559913408527852), (870, 0.0014559635557162263), (3765, 0.0014557542278115854), (3555, 0.0014556754462828915), (1446, 0.0014555807903364726), (2680, 0.001455066519877701), (119, 0.0014549159287438507), (4085, 0.0014548473578904896), (3381, 0.0014547868466181966), (1117, 0.0014547303469436778), (2950, 0.0014546500567979932), (2432, 0.0014545430066968453), (373, 0.0014543676187801814), (1631, 0.001454187682657016), (2641, 0.0014538157987854098), (4336, 0.0014535790230573485), (1293, 0.001453575518497946), (1877, 0.0014534567595242936), (2024, 0.0014532982037151149), (488, 0.001453168411500288), (4673, 0.0014529167965361507), (1032, 0.0014527349939949224), (4299, 0.0014526219880004632), (150, 0.0014525183487621837), (2215, 0.0014520787395733501), (349, 0.0014520481364254715), (2206, 0.0014516849327287499), (1360, 0.0014515992631936485), (2465, 0.0014515619325371318), (2779, 0.0014510063484039417), (2644, 0.001450925038768922), (958, 0.001450647292628884), (2409, 0.0014505607109477864), (4588, 0.0014502338984940689), (1261, 0.0014499504417893223), (1582, 0.0014498393030532206), (2311, 0.0014498019153406996), (3010, 0.001449713278127004), (221, 0.0014495191031777253), (1641, 0.0014494900712779606), (1113, 0.0014492341617006043), (260, 0.0014492245997638105), (4060, 0.0014491426780914255), (4192, 0.0014489367259682623), (1063, 0.001448865302508479), (772, 0.001448784142954129), (2823, 0.0014486494379576033), (1864, 0.0014483298241960063), (4576, 0.0014482994384016823), (3824, 0.0014482021198145402), (2716, 0.0014481967522776752), (1097, 0.0014480537137755583), (4279, 0.0014480506328211594), (2859, 0.0014480333264980524), (3998, 0.001447823922341835), (2912, 0.001447554403140117), (1478, 0.0014472981863997369), (72, 0.0014471846122395401), (4548, 0.0014470894723500839), (3487, 0.0014470327807739678), (2828, 0.0014469864829299716), (1595, 0.0014465820389949877), (356, 0.0014464015934275401), (1967, 0.0014463604957055663), (1882, 0.0014463506286943974), (2027, 0.0014458876838851767), (503, 0.0014457245483991054), (825, 0.0014457100828244068), (3605, 0.0014456726394942517), (3504, 0.0014453298183028924), (2369, 0.0014452787079327315), (1262, 0.001445153843431302), (2110, 0.0014451390003912623), (3127, 0.001444509874549481), (2865, 0.0014442706228101367), (3917, 0.00144418750514136), (2751, 0.0014436880341112109), (310, 0.0014436655334378807), (3454, 0.0014434853915510518), (3053, 0.0014434340694561346), (585, 0.0014433806864293066), (2594, 0.0014430875899480312), (2023, 0.0014430727548399873), (2787, 0.0014429628572701575), (3567, 0.0014426071496966976), (1231, 0.0014425144059803275), (2225, 0.0014425010967974183), (2094, 0.001442451452920274), (840, 0.0014416680049882762), (759, 0.001441570780297317), (339, 0.0014414189985048616), (1929, 0.001441219122459763), (3490, 0.0014410925269142249), (3293, 0.0014407438842621145), (2540, 0.001440118471690354), (1912, 0.001439800949872781), (3595, 0.0014396180672776775), (4534, 0.001439450153220937), (4697, 0.0014388087668503783), (2765, 0.0014386772416598295), (390, 0.0014382322177529884), (1287, 0.001438201878881116), (554, 0.001437947245474469), (828, 0.0014377342334881717), (3664, 0.0014374411347363339), (2618, 0.0014372463760034386), (1825, 0.0014371590487740713), (4585, 0.001437068535595876), (3891, 0.0014369393944093807), (3402, 0.0014367785019010202), (2224, 0.0014366794054110701), (852, 0.0014365176230789565), (4459, 0.0014363189908470138), (4682, 0.0014363137575776428), (643, 0.0014362362987426997), (1029, 0.0014359510849613264), (500, 0.00143592096969334), (2827, 0.0014354722505582071), (1519, 0.0014350810221461533), (589, 0.0014350539209392417), (4217, 0.0014346803850463473), (3823, 0.0014345797418238648), (223, 0.001434481490944272), (1347, 0.0014337882407698898), (2309, 0.0014337452128839277), (1532, 0.0014336830144173684), (868, 0.0014334593501771783), (328, 0.0014334138822662047), (367, 0.0014333727135756949), (505, 0.0014332009696560234), (818, 0.0014330589985784691), (4297, 0.0014330310696715912), (1404, 0.0014328249763396683), (3609, 0.0014324059244864734), (1123, 0.0014318924683459735), (1106, 0.0014318772745889844), (4124, 0.001431504068020066), (2107, 0.0014313001996770795), (3136, 0.0014312087191852767), (731, 0.0014308932354003036), (85, 0.001430878511395181), (3194, 0.0014303539844102116), (1996, 0.0014301101347417445), (3243, 0.0014299574999888651), (4634, 0.0014299421743220713), (507, 0.0014298394010688923), (3407, 0.0014297344706381656), (521, 0.0014296884524170788), (164, 0.001429003012179528), (2004, 0.0014286762789175757), (3036, 0.0014285648147096355), (1969, 0.001428444724550567), (1988, 0.0014283121401931819), (2653, 0.001428233203535149), (649, 0.0014276653177342361), (449, 0.001427539519506138), (2634, 0.0014269378036615755), (2399, 0.001426877325564864), (911, 0.0014268561725363207), (1855, 0.001426848068499584), (1544, 0.0014265194929661891), (2467, 0.001426364053399505), (3014, 0.0014261941638243128), (2496, 0.0014261545863419067), (4246, 0.0014261337079463402), (287, 0.0014260514814609631), (2056, 0.0014260200707959603), (780, 0.001425909426802891), (2920, 0.0014258955806155697), (1033, 0.0014255410311620005), (2121, 0.0014254615452427327), (907, 0.001425124632951577), (966, 0.0014250920920588802), (1914, 0.0014248715180180454), (915, 0.001424865180071278), (3886, 0.0014247393535846615), (1756, 0.0014247057149120105), (2184, 0.0014246895417480818), (1274, 0.0014245996950070807), (1218, 0.0014244439854764368), (2598, 0.0014244078122615546), (263, 0.0014242998182383716), (3786, 0.001424237689821514), (1819, 0.0014241169233460951), (422, 0.0014240930530392281), (3784, 0.0014238132053682512), (29, 0.0014230118701481153), (3320, 0.0014228581151489914), (4272, 0.0014227503193341667), (812, 0.0014227035989063572), (3460, 0.0014226891935145418), (694, 0.0014222620562015507), (248, 0.0014215096835786967), (2442, 0.0014214786061279028), (2202, 0.0014214183942222575), (4382, 0.0014209633036686437), (1135, 0.0014209602511452782), (3691, 0.001420471670729391), (763, 0.0014204680188451262), (3528, 0.0014203583157756962), (3085, 0.001420245851521921), (4282, 0.0014199271059372773), (835, 0.0014195198309825984), (1966, 0.0014194415944112104), (1363, 0.0014192571230365908), (3465, 0.001419214512094539), (1746, 0.0014190693876896937), (3853, 0.001418983158706198), (1066, 0.0014188041358993097), (2514, 0.0014187287641691387), (798, 0.0014179599130328966), (2995, 0.0014178477903613383), (2620, 0.0014176493958138446), (1372, 0.0014172632000270032), (2149, 0.0014172436845999138), (878, 0.0014171003933852724), (126, 0.0014170942331163223), (3734, 0.0014166353088062376), (532, 0.0014165950367360676), (212, 0.0014164339136267987), (388, 0.00141628578462475), (900, 0.00141624167240769), (1375, 0.0014157630056669136), (284, 0.0014153176006158864), (2213, 0.0014152408365421987), (2166, 0.001415063358286885), (3361, 0.001414639227360669), (1001, 0.0014145611821377469), (1558, 0.001414545872204959), (276, 0.0014136489110374404), (4690, 0.0014135750088297382), (1738, 0.0014135345856068737), (819, 0.0014135021411380434), (3859, 0.0014133531566342386), (3426, 0.0014133530353018457), (3788, 0.0014131505255687872), (782, 0.0014129271134055033), (2098, 0.0014124559443264495), (1647, 0.0014124395335958853), (1620, 0.0014122402018584461), (1376, 0.001412118760635921), (1723, 0.0014120568646590432), (2992, 0.0014116996938064112), (3177, 0.0014116979916948742), (2139, 0.0014114486857793613), (1630, 0.0014110986610196693), (3783, 0.0014110607325554193), (598, 0.0014110460860749265), (1709, 0.0014109982160500866), (4577, 0.0014105012442120664), (1503, 0.001410439557684672), (3811, 0.0014102467611559525), (1565, 0.0014102460672861708), (1633, 0.0014101766064352522), (1710, 0.0014096463521222646), (975, 0.0014095097829289565), (2800, 0.0014094195815868007), (1788, 0.0014093201433167243), (1177, 0.0014088863488759557), (2038, 0.001408715066963958), (372, 0.0014085025378758314), (1514, 0.001408380798185298), (1579, 0.0014083716946886482), (573, 0.0014081027031457134), (3135, 0.0014064818284302129), (650, 0.0014063473592317679), (833, 0.0014062600550257107), (4568, 0.0014062199862314158), (4072, 0.0014060059074971504), (2548, 0.0014059043377230764), (3550, 0.0014058554014466788), (3250, 0.0014058361624457037), (3829, 0.001405635918494194), (3839, 0.0014054029311188886), (1693, 0.0014050235189928633), (2735, 0.0014039823981773915), (3280, 0.001403688422339777), (387, 0.001403598458234948), (886, 0.0014035591865311913), (1139, 0.0014033931407868168), (648, 0.0014032518983697272), (144, 0.0014031036930367059), (1054, 0.0014025985828663404), (3130, 0.0014025084568712175), (4591, 0.0014019237857389325), (3723, 0.0014016365833263067), (2682, 0.0014016193041176946), (214, 0.0014015833241092699), (171, 0.0014012713924871163), (3932, 0.001400191624036544), (291, 0.0014001556447554634), (1430, 0.0013999868079411816), (2071, 0.0013999678044837667), (2528, 0.0013999345626232319), (15, 0.0013997855679507899), (158, 0.0013996050967701147), (2145, 0.0013995775244959377), (4044, 0.001399477868600974), (468, 0.0013993304173589962), (3941, 0.0013991488209140535), (3775, 0.0013991269584251627), (3295, 0.0013989527793159037), (4143, 0.001398853249262163), (2179, 0.001398530106687779), (1903, 0.0013984498754560162), (2862, 0.0013983168263392), (944, 0.001398296189534307), (568, 0.0013982775241382288), (31, 0.0013981673543713177), (3319, 0.001397798887536889), (3193, 0.0013976938416478894), (1149, 0.0013976876055214601), (279, 0.0013975962375461688), (307, 0.0013975655727467347), (3954, 0.0013971569076500388), (963, 0.001396950429651703), (4236, 0.0013967504304446742), (411, 0.0013967160101636972), (3767, 0.001396626958190933), (4154, 0.0013963165383109083), (1065, 0.0013960412333056862), (1868, 0.0013959482775276655), (3909, 0.001395673726671092), (2170, 0.0013944723255347041), (471, 0.001394042554905702), (3284, 0.0013940048042236277), (2866, 0.001393896014097215), (734, 0.0013935467886359147), (311, 0.0013933533175212506), (434, 0.0013933520880099381), (1672, 0.0013933505268648337), (2482, 0.0013929138445139303), (1665, 0.0013927665048812045), (916, 0.0013925107544179593), (1415, 0.0013924387862779084), (1052, 0.0013922053586198216), (2491, 0.0013919386642412075), (1448, 0.0013918404625237798), (454, 0.001391798502338882), (669, 0.0013907310516001383), (355, 0.0013903435969185004), (92, 0.001390052784143252), (2453, 0.0013896904851111223), (4063, 0.001389624672397533), (776, 0.001389586870950389), (2984, 0.0013894839069567117), (2513, 0.0013893114214049646), (548, 0.0013890151106188897), (770, 0.0013889789673876675), (229, 0.0013880544355023509), (4235, 0.0013879109930677153), (2913, 0.0013879044709997834), (1323, 0.0013874330448854447), (136, 0.0013871846472028524), (1462, 0.001386701005058625), (856, 0.0013865506064686672), (3120, 0.0013863937943933257), (1760, 0.0013862749058727514), (4165, 0.001386267820172961), (1068, 0.0013860455562515839), (3614, 0.0013860065440911072), (426, 0.0013854183714258877), (1562, 0.0013847977815006334), (428, 0.0013841776704871492), (3566, 0.0013840404290550294), (4689, 0.001383954901943801), (1662, 0.0013837177388161394), (1642, 0.001383152789376777), (899, 0.001383086295903822), (3825, 0.001382659867888949), (3329, 0.0013825367854506825), (2874, 0.0013824370435412822), (1667, 0.0013823794480984537), (2175, 0.0013818806402756737), (805, 0.0013818800961777392), (46, 0.0013818344694009105), (2497, 0.0013816398233377429), (3369, 0.0013811051739707314), (4339, 0.0013810322948425975), (3860, 0.0013809228142416927), (2227, 0.001380683740515689), (397, 0.0013806744080198375), (1730, 0.00138061775554125), (4502, 0.001379828585130184), (1680, 0.0013797694229097707), (416, 0.001379665775903039), (4153, 0.001379500688367904), (1259, 0.0013793304791142435), (2611, 0.0013788905851589797), (2272, 0.0013787990409765663), (3267, 0.001378467370680264), (417, 0.0013781093584934326), (3047, 0.0013779331812721373), (744, 0.0013778377059620352), (1809, 0.0013766109451276), (3711, 0.0013764060870618633), (4141, 0.0013762280565138422), (96, 0.001375904124341385), (695, 0.0013757437566032965), (2355, 0.0013756328832151452), (4322, 0.0013755321518639414), (1242, 0.0013754441139698535), (4479, 0.0013750230769184976), (1974, 0.0013749127112021866), (4620, 0.0013748250550960422), (1920, 0.0013747430335470773), (1729, 0.0013744226037372645), (130, 0.0013736209419502347), (3842, 0.0013735069875196624), (1650, 0.001372579687647188), (2429, 0.001372548264024263), (359, 0.001372324045809661), (1055, 0.0013722642815460538), (3742, 0.0013721021586512669), (3294, 0.0013720807420728612), (2347, 0.001371648180792235), (590, 0.0013716348962654317), (910, 0.001370561228414257), (1236, 0.0013705524869284216), (1331, 0.0013702561669401085), (170, 0.0013699693365431475), (3306, 0.0013693228395107256), (1796, 0.001369038639459817), (465, 0.00136894096044061), (604, 0.0013687794324009851), (122, 0.001368569175244268), (1772, 0.0013685035823749385), (316, 0.0013683469413365386), (1281, 0.0013683319331163086), (3854, 0.0013679439441803365), (3143, 0.001367921453113746), (3913, 0.0013679045440612766), (4205, 0.0013677851251821375), (2031, 0.0013677606343705997), (35, 0.0013676281428486557), (997, 0.0013675316625306278), (2191, 0.0013675023134881135), (2542, 0.0013673361459077336), (382, 0.0013672681204374222), (1750, 0.001366780630419018), (4661, 0.0013663983968599496), (2935, 0.001365968335380623), (1982, 0.0013658760721678468), (3114, 0.0013657886625218368), (1288, 0.0013656324858057891), (4193, 0.0013649306827355552), (2871, 0.0013648622434450997), (4350, 0.0013646015875816693), (885, 0.0013645095420918055), (2791, 0.0013639747800096606), (2036, 0.0013636823959395827), (2058, 0.0013636180392738713), (3748, 0.001362934378212081), (1865, 0.0013624769531862064), (43, 0.0013621654251949646), (4450, 0.001361921503214855), (354, 0.0013618933710869993), (1715, 0.0013615685433600187), (1050, 0.001361511816517797), (934, 0.0013614052566112865), (893, 0.0013612795805238165), (1038, 0.0013611610263868478), (160, 0.0013609454201423748), (3197, 0.0013607036912953608), (218, 0.0013603373318764947), (3108, 0.00135980968375255), (1794, 0.0013597512421734677), (1538, 0.0013593320115552977), (1921, 0.0013591110291917771), (1869, 0.0013590389028166497), (121, 0.0013588185051498487), (36, 0.001358694889018978), (37, 0.0013581937885307597), (1434, 0.0013579603319920403), (4649, 0.0013578104353776192), (2803, 0.0013572750640905632), (1675, 0.0013569470432625605), (2596, 0.0013564664981784431), (3201, 0.001356187866010739), (1366, 0.0013560612170181398), (337, 0.0013559700118760656), (142, 0.0013552572183569637), (3231, 0.0013550485521445887), (379, 0.0013547713867329565), (1000, 0.001354377702707986), (2954, 0.001353739314493942), (1990, 0.0013536319620669358), (3885, 0.0013534296640820276), (352, 0.0013533261640006633), (1039, 0.0013528400457570597), (1237, 0.001352776398423871), (1216, 0.0013522867042180758), (863, 0.0013521065659964223), (3278, 0.0013519925341663813), (327, 0.0013517079242948353), (1316, 0.0013512353580499904), (1080, 0.0013510820213841256), (285, 0.0013508802910927166), (2338, 0.001350824914069996), (3336, 0.001350682178815218), (3863, 0.0013505174749787344), (1816, 0.0013503094270932645), (3801, 0.0013497541305458904), (3861, 0.0013492311286539208), (581, 0.0013490334306635883), (3380, 0.001348900150532289), (3956, 0.0013483851649487826), (1569, 0.0013479373690092392), (1220, 0.001347542643128313), (3910, 0.0013471912197447241), (3600, 0.0013470510052056217), (594, 0.0013467860648201622), (608, 0.0013467565593423872), (1399, 0.001346357073879227), (1651, 0.0013454657088682472), (1093, 0.001345382126754823), (3311, 0.0013452296296923168), (3420, 0.0013448034711921754), (932, 0.0013439883000117999), (2820, 0.0013432267560800955), (148, 0.0013426609583728946), (1870, 0.001342401373608857), (722, 0.0013421715735867363), (3495, 0.0013421420925963862), (4220, 0.0013420791595490983), (4365, 0.0013415398021894601), (4237, 0.00134118508849124), (1154, 0.0013411627932398632), (954, 0.0013407890784126824), (3556, 0.0013407860411654524), (1694, 0.0013405473765454787), (2065, 0.0013393834153928707), (936, 0.0013393402540943435), (515, 0.0013389545518799222), (2366, 0.0013388059952425483), (4582, 0.0013387329082251054), (800, 0.00133821626800733), (2285, 0.0013380309197822443), (4080, 0.0013376938127675844), (803, 0.001337377589904103), (3958, 0.0013372003091733956), (3880, 0.0013358996703526568), (1980, 0.0013357088731619522), (2747, 0.001335412924947109), (2360, 0.0013353535596990142), (1414, 0.001335233260088587), (1719, 0.001334997334814221), (4532, 0.0013347523344802912), (200, 0.001333861694278396), (3598, 0.001333672775660125), (732, 0.0013335165158576657), (1808, 0.0013332469075256475), (2724, 0.0013325475874422976), (2608, 0.001332456767849282), (815, 0.0013321691458818292), (2156, 0.0013311878305507438), (4106, 0.001329960319739954), (187, 0.0013294333175031996), (3731, 0.0013293144247670662), (664, 0.001328776479424301), (1797, 0.0013283649219787434), (1095, 0.001328361502656834), (979, 0.0013283222023863287), (251, 0.0013282792873516493), (3160, 0.001328083928494579), (4055, 0.0013277515472548576), (2906, 0.001326816805300936), (3856, 0.001326782490746787), (2607, 0.0013266168470794843), (268, 0.001326217603790781), (323, 0.0013247306512303295), (3914, 0.0013227844901312084), (47, 0.0013224068909628943), (705, 0.001322327533721303), (1608, 0.0013221553423110397), (1, 0.0013220486143746691), (1134, 0.001322036323181533), (132, 0.0013218838102508387), (1934, 0.001321585600225416), (99, 0.0013215672394994548), (13, 0.0013214187165832968), (3403, 0.001320673430075682), (1994, 0.0013205543840032188), (3068, 0.0013204932986684507), (851, 0.0013202801386013202), (1762, 0.0013197833853260913), (1776, 0.0013196664408134382), (2059, 0.0013196577654292908), (4156, 0.0013192103103924666), (3668, 0.001318973254982752), (808, 0.0013168229615160088), (3795, 0.001316699509691841), (4652, 0.001315752924780524), (1977, 0.0013148869318230234), (1553, 0.0013148724000363666), (653, 0.0013148177140158306), (33, 0.001314446918569563), (3559, 0.001314097340152123), (1616, 0.0013134264553583271), (2753, 0.0013133009848436334), (3895, 0.0013132488894280763), (4596, 0.0013132288848290623), (222, 0.00131284850663491), (4432, 0.001312774030946825), (1763, 0.0013127448937188422), (3411, 0.0013123947912944383), (4608, 0.0013120412149123827), (1199, 0.0013112979583928487), (166, 0.001311294921522058), (1392, 0.0013111722297081936), (3630, 0.001310645588551808), (2805, 0.0013101052404545746), (4748, 0.0013099058615536493), (3637, 0.0013089446208073223), (184, 0.0013087817970524186), (2527, 0.001308669713278426), (2291, 0.0013083429153795366), (393, 0.0013083104524223904), (1018, 0.0013079207537394476), (1194, 0.0013076138086470072), (1283, 0.0013074439106563439), (1010, 0.0013072278912298419), (605, 0.0013051876192375573), (1590, 0.0013051014331295389), (97, 0.0013046488694090333), (1348, 0.001304511096091252), (3, 0.0013041301542662711), (4426, 0.001303944551020317), (1699, 0.0013034337988928205), (1301, 0.00130315683738286), (617, 0.0013025166170819924), (3376, 0.0013022850725386995), (2942, 0.0013009785779418326), (3852, 0.0013000197345739261), (3619, 0.0012998908283610635), (4385, 0.0012996587495908922), (874, 0.0012995095842790031), (1212, 0.0012960173752525435), (1707, 0.0012955176660889311), (1838, 0.0012953228655011694), (1367, 0.0012951431054905387), (2412, 0.0012946375092817827), (86, 0.001293795044338756), (364, 0.0012933788193666303), (2801, 0.0012931759545969361), (862, 0.0012929504068720733), (762, 0.0012924479796864337), (2692, 0.0012918075974033627), (924, 0.001291430056941401), (376, 0.0012910385519254968), (3393, 0.0012907768933600424), (286, 0.0012906960198444384), (278, 0.001290589084708495), (3538, 0.001290524614169798), (1465, 0.0012901539597972877), (4158, 0.0012898343408577326), (3279, 0.0012891703016442403), (970, 0.001289140799456341), (2294, 0.0012885896863282298), (1828, 0.0012885832967476003), (147, 0.0012876183101220207), (2020, 0.0012868180073680943), (1910, 0.0012860774417996026), (2076, 0.0012858943670194729), (4415, 0.0012852561126313312), (1450, 0.0012849810612099535), (3657, 0.0012840588151976848), (3129, 0.0012811882747355192), (1115, 0.0012806921703438063), (2855, 0.0012805883362420876), (692, 0.001279990439903684), (60, 0.0012795905932263705), (4096, 0.0012795573442131655), (234, 0.001278335617201277), (1352, 0.0012776504764855125), (4636, 0.0012767459802446922), (3776, 0.001276714534317934), (403, 0.0012764190144144514), (2168, 0.0012760376160406948), (1046, 0.001275976494669062), (3569, 0.0012758123831519328), (951, 0.0012754663007840483), (2001, 0.0012752854129850983), (2211, 0.0012746137506605736), (4627, 0.0012735912019068872), (3821, 0.0012728237504664264), (2686, 0.0012726682297753162), (3713, 0.0012725116614916224), (2382, 0.0012724284700452561), (1120, 0.0012714908333296352), (432, 0.0012711768705228343), (3339, 0.0012707435402499743), (4095, 0.0012697089949487924), (2177, 0.0012692001807449464), (1178, 0.0012690738274215418), (496, 0.0012685454417517821), (1340, 0.0012679403422287167), (1289, 0.0012671744322892149), (3916, 0.001266297713454075), (901, 0.0012658770059954141), (4212, 0.0012655170984309208), (3200, 0.0012652697236310352), (1743, 0.0012652604684800705), (175, 0.0012649808232529903), (2771, 0.0012644686459336787), (4610, 0.0012639206566763795), (601, 0.0012633338286492685), (4476, 0.0012632156747538034), (1214, 0.0012629752269159298), (3164, 0.0012609211822407094), (1802, 0.0012595198860464564), (2627, 0.00125914367258088), (3928, 0.0012590655602363792), (1202, 0.0012580125225218634), (3331, 0.0012579062993118828), (2441, 0.0012576702096971058), (3405, 0.0012572189942659656), (1241, 0.0012564600543233202), (1957, 0.0012546108922805767), (2197, 0.0012540288897752172), (3045, 0.001253973336048381), (1092, 0.0012529403179902957), (1458, 0.001252430409762871), (1801, 0.001251704085743299), (626, 0.001249466371915831), (1944, 0.0012491223838556244), (575, 0.0012483734561254496), (441, 0.001248263560847407), (1078, 0.0012480460647248629), (3480, 0.0012468111998517844), (1356, 0.0012462365616150788), (616, 0.0012461988686150493), (3252, 0.0012454196960301695), (1535, 0.0012445572914988943), (707, 0.001244108675747363), (442, 0.0012437208502484574), (796, 0.0012435008654849277), (438, 0.0012431694343039371), (3222, 0.0012418869794015716), (1369, 0.0012412740199718728), (566, 0.001241069264225488), (2563, 0.0012409960651264076), (2665, 0.0012383941631542799), (1156, 0.0012376283895611652), (2221, 0.0012359278443119784), (4200, 0.00123592704423714), (1586, 0.0012350093022375365), (2508, 0.0012349851964213313), (1938, 0.0012346797011067309), (837, 0.001234538918454188), (538, 0.001233874170030616), (2526, 0.0012338237307610435), (3957, 0.0012336344899550693), (3317, 0.001231833584660823), (1530, 0.0012305121837300876), (3940, 0.0012289306341436961), (964, 0.0012285524768770862), (2969, 0.001227690405903376), (1305, 0.0012273412467407275), (1341, 0.0012265139069288437), (1752, 0.0012255135338801425), (4674, 0.0012239645385947087), (2439, 0.0012235543856547076), (88, 0.0012196142149284175), (3548, 0.0012192674717318834), (1164, 0.0012170788559017702), (843, 0.001216676884017282), (2318, 0.0012165050557464924), (1326, 0.001216494694334935), (555, 0.001216308562592589), (2028, 0.0012145373463208482), (3756, 0.0012136387580282439), (1427, 0.0012135795080788392), (2573, 0.0012126338826620126), (290, 0.0012124917364288788), (319, 0.001212136394481014), (1576, 0.0012120571084067284), (163, 0.00121189139627879), (2000, 0.0012115336845136507), (194, 0.001209683401252643), (602, 0.0012084386259547113), (412, 0.0012080547532209995), (1624, 0.001207887703441667), (289, 0.0012070154603043256), (3971, 0.0012069516951337456), (789, 0.001206186773608825), (942, 0.0012057885674875914), (2524, 0.001203100922484765), (3875, 0.0012016146360063031), (295, 0.0012008129650838656), (381, 0.0011994672741788518), (1377, 0.0011986616925249356), (1395, 0.0011982420587721466), (1303, 0.0011977341594088503), (3313, 0.0011975953690519156), (2917, 0.0011972641946653543), (1453, 0.0011967312456447744), (3944, 0.0011956260068487158), (3471, 0.001194071219736394), (440, 0.0011939881579016555), (1989, 0.0011934237967445476), (668, 0.0011923891300644794), (477, 0.001191165166788438), (3362, 0.001189777613340172), (1871, 0.00118967546638664), (3410, 0.001188055171080464), (2474, 0.0011764264092764744), (1886, 0.0011763669288019397), (1277, 0.0011747513922185752), (4745, 0.0011682318944582345), (4182, 0.0011678966237593938), (1747, 0.001167889920996048), (881, 0.0011664377369267087), (1701, 0.0011663677799122233), (1467, 0.0011652380033209805), (2767, 0.0011622135401875393), (2376, 0.0011615622017572477), (775, 0.001161546110715293), (1417, 0.001159457390500553), (3301, 0.0011565178853809228), (2469, 0.0011564110610085344), (1728, 0.0011519918654603002), (1418, 0.001145855334427015), (571, 0.0011430684162668414), (1403, 0.0011417762530404401), (3316, 0.001140985442647277), (607, 0.001140465414245786), (271, 0.001138992474262795), (3698, 0.0011367285948416974), (369, 0.0011348293642349538), (972, 0.0011346825676513998), (3223, 0.0011340591039843665), (336, 0.001132170023114127), (1774, 0.0011318687726960288), (4373, 0.0011298959519827402), (228, 0.0011298833746746192), (2220, 0.0011288951770366475), (4414, 0.0011263515694376288), (452, 0.0011186267804190297), (77, 0.0011145851189070441), (4261, 0.0011116472352983948), (2398, 0.0011113704550147748), (1210, 0.001110861511096592), (332, 0.0011065098890431712), (2550, 0.0011054508771914976), (3205, 0.0011040683773727623), (1278, 0.0011032207491082657), (2064, 0.001100115418582936), (1471, 0.0010983278625613872), (684, 0.0010975498758228235), (2219, 0.0010971638531975393), (2902, 0.0010828646818388658), (283, 0.0010782752671678858), (0, 0.0010687762218493694), (455, 0.0010525606041907325), (1153, 0.001049777880167796), (1948, 0.0010237999563301847), (129, 0.0010135810173792482), (858, 0.001007690966296587), (3429, 0.0009956368829846904), (24, 0.0009925876422446727), (3328, 0.0009682742778093622), (2538, 0.000884945314330973), (7, 0.0), (16, 0.0), (32, 0.0), (44, 0.0), (57, 0.0), (63, 0.0), (103, 0.0), (140, 0.0), (157, 0.0), (159, 0.0), (165, 0.0), (168, 0.0), (186, 0.0), (190, 0.0), (197, 0.0), (224, 0.0), (252, 0.0), (256, 0.0), (267, 0.0), (293, 0.0), (296, 0.0), (396, 0.0), (406, 0.0), (429, 0.0), (480, 0.0), (547, 0.0), (624, 0.0), (629, 0.0), (632, 0.0), (644, 0.0), (646, 0.0), (647, 0.0), (672, 0.0), (693, 0.0), (698, 0.0), (766, 0.0), (779, 0.0), (838, 0.0), (861, 0.0), (882, 0.0), (917, 0.0), (933, 0.0), (968, 0.0), (986, 0.0), (1005, 0.0), (1019, 0.0), (1030, 0.0), (1037, 0.0), (1040, 0.0), (1070, 0.0), (1081, 0.0), (1160, 0.0), (1161, 0.0), (1171, 0.0), (1183, 0.0), (1209, 0.0), (1276, 0.0), (1320, 0.0), (1350, 0.0), (1397, 0.0), (1547, 0.0), (1623, 0.0), (1625, 0.0), (1627, 0.0), (1652, 0.0), (1735, 0.0), (1749, 0.0), (1753, 0.0), (1826, 0.0), (1884, 0.0), (1892, 0.0), (1972, 0.0), (2010, 0.0), (2011, 0.0), (2018, 0.0), (2063, 0.0), (2080, 0.0), (2113, 0.0), (2127, 0.0), (2146, 0.0), (2152, 0.0), (2173, 0.0), (2226, 0.0), (2237, 0.0), (2238, 0.0), (2275, 0.0), (2288, 0.0), (2289, 0.0), (2361, 0.0), (2362, 0.0), (2373, 0.0), (2394, 0.0), (2424, 0.0), (2426, 0.0), (2475, 0.0), (2506, 0.0), (2520, 0.0), (2544, 0.0), (2556, 0.0), (2602, 0.0), (2674, 0.0), (2743, 0.0), (2748, 0.0), (2849, 0.0), (2886, 0.0), (2900, 0.0), (2946, 0.0), (2971, 0.0), (2997, 0.0), (3012, 0.0), (3037, 0.0), (3038, 0.0), (3057, 0.0), (3059, 0.0), (3062, 0.0), (3065, 0.0), (3070, 0.0), (3079, 0.0), (3118, 0.0), (3170, 0.0), (3171, 0.0), (3248, 0.0), (3258, 0.0), (3268, 0.0), (3274, 0.0), (3285, 0.0), (3296, 0.0), (3340, 0.0), (3347, 0.0), (3349, 0.0), (3365, 0.0), (3374, 0.0), (3383, 0.0), (3394, 0.0), (3399, 0.0), (3409, 0.0), (3430, 0.0), (3431, 0.0), (3455, 0.0), (3488, 0.0), (3500, 0.0), (3526, 0.0), (3527, 0.0), (3530, 0.0), (3534, 0.0), (3558, 0.0), (3608, 0.0), (3615, 0.0), (3625, 0.0), (3627, 0.0), (3629, 0.0), (3634, 0.0), (3645, 0.0), (3651, 0.0), (3652, 0.0), (3669, 0.0), (3719, 0.0), (3721, 0.0), (3755, 0.0), (3761, 0.0), (3772, 0.0), (3799, 0.0), (3800, 0.0), (3806, 0.0), (3898, 0.0), (3927, 0.0), (3933, 0.0), (3946, 0.0), (3952, 0.0), (3986, 0.0), (4014, 0.0), (4057, 0.0), (4079, 0.0), (4084, 0.0), (4129, 0.0), (4144, 0.0), (4151, 0.0), (4177, 0.0), (4213, 0.0), (4228, 0.0), (4229, 0.0), (4232, 0.0), (4243, 0.0), (4250, 0.0), (4254, 0.0), (4288, 0.0), (4292, 0.0), (4296, 0.0), (4301, 0.0), (4308, 0.0), (4311, 0.0), (4315, 0.0), (4326, 0.0), (4343, 0.0), (4390, 0.0), (4393, 0.0), (4413, 0.0), (4429, 0.0), (4439, 0.0), (4458, 0.0), (4461, 0.0), (4463, 0.0), (4475, 0.0), (4512, 0.0), (4520, 0.0), (4528, 0.0), (4553, 0.0), (4561, 0.0), (4562, 0.0), (4565, 0.0), (4573, 0.0), (4589, 0.0), (4593, 0.0), (4603, 0.0), (4616, 0.0), (4626, 0.0), (4631, 0.0), (4651, 0.0), (4668, 0.0), (4693, 0.0), (4712, 0.0), (4713, 0.0), (4723, 0.0), (4726, 0.0), (4729, 0.0), (4733, 0.0), (4734, 0.0), (4744, 0.0), (4751, 0.0)]\n"
          ]
        }
      ]
    },
    {
      "cell_type": "code",
      "source": [
        "#print the name of similar movies based on the index\n",
        "print('top 30 movies suggested  for you: \\n')\n",
        "\n",
        "i = 1\n",
        "for movie in Sorted_Similar_Movies:\n",
        "  index = movie[0]\n",
        "  title_from_index = df[df.index==index]['Movie_Title'].values[0]\n",
        "  if (i<31):\n",
        "    print(i,'.',title_from_index)\n",
        "    i+=1"
      ],
      "metadata": {
        "colab": {
          "base_uri": "https://localhost:8080/"
        },
        "id": "37qMq1VR9hIv",
        "outputId": "e8535479-0005-42e3-8ac5-041adc41c3d3"
      },
      "execution_count": 33,
      "outputs": [
        {
          "output_type": "stream",
          "name": "stdout",
          "text": [
            "top 30 movies suggested  for you: \n",
            "\n",
            "1 . Doogal\n",
            "2 . Cats & Dogs\n",
            "3 . The Color Purple\n",
            "4 . Fever Pitch\n",
            "5 . Shorts\n",
            "6 . Superbabies: Baby Geniuses 2\n",
            "7 . Brooklyn Rules\n",
            "8 . An Alan Smithee Film: Burn, Hollywood, Burn\n",
            "9 . The Rugrats Movie\n",
            "10 . Madea Goes to Jail\n",
            "11 . Factory Girl\n",
            "12 . Bogus\n",
            "13 . How Stella Got Her Groove Back\n",
            "14 . Barney's Great Adventure\n",
            "15 . Running Forever\n",
            "16 . Elf\n",
            "17 . The Benchwarmers\n",
            "18 . In the Bedroom\n",
            "19 . Magnolia\n",
            "20 . Getaway\n",
            "21 . The Deep End of the Ocean\n",
            "22 . Freaky Friday\n",
            "23 . Ghosts of Mississippi\n",
            "24 . Death to Smoochy\n",
            "25 . Farce of the Penguins\n",
            "26 . Rat Race\n",
            "27 . Ghost\n",
            "28 . Trucker\n",
            "29 . The Yellow Handkerchief\n",
            "30 . Happy, Texas\n"
          ]
        }
      ]
    },
    {
      "cell_type": "markdown",
      "source": [
        "#*Top 20 movies Recommendation system*"
      ],
      "metadata": {
        "id": "SwPeG87LHq32"
      }
    },
    {
      "cell_type": "code",
      "source": [
        "#recommending top 20 movies\n",
        "Movie_Name = input ('Enter your favourite movie name:')\n",
        "list_of_all_titles = df['Movie_Title'].tolist()\n",
        "find_close_Match = difflib.get_close_matches(Movie_Name,list_of_all_titles)\n",
        "Close_Match = find_close_Match[0]\n",
        "Index_of_Movie = df[df.Movie_Title == Close_Match]['Movie_ID'].values[0]\n",
        "Recommendation_Score = list(enumerate(Similarity_Score[Index_of_Movie]))\n",
        "sorted_similar_movies = sorted(Recommendation_Score,key = lambda x:x[1],reverse = True)\n",
        "print('top 10 movies sugested for you:\\n ')\n",
        "i=1\n",
        "for movie in sorted_similar_movies:\n",
        "  index = movie[0]\n",
        "  title_from_index = df[df.Movie_ID==index]['Movie_Title'].values\n",
        "  if (i<21):\n",
        "      print(i,'.',title_from_index)\n",
        "      i+=1"
      ],
      "metadata": {
        "colab": {
          "base_uri": "https://localhost:8080/"
        },
        "id": "D61VXJiE-nLa",
        "outputId": "da02388d-07b6-4643-eefe-f44fc38ecaf2"
      },
      "execution_count": 34,
      "outputs": [
        {
          "output_type": "stream",
          "name": "stdout",
          "text": [
            "Enter your favourite movie name:avenger the end game\n",
            "top 10 movies sugested for you:\n",
            " \n",
            "1 . ['Over the Hedge']\n",
            "2 . ['Dope']\n",
            "3 . ['Small Soldiers']\n",
            "4 . ['Rubber']\n",
            "5 . ['The Mudge Boy']\n",
            "6 . ['Moneyball']\n",
            "7 . ['Patriot Games']\n",
            "8 . ['Big Miracle']\n",
            "9 . ['Killer Elite']\n",
            "10 . ['Little Boy']\n",
            "11 . ['The Incredibly True Adventure of Two Girls In Love']\n",
            "12 . ['The Sleepwalker']\n",
            "13 . ['Sydney White']\n",
            "14 . ['The Specialist']\n",
            "15 . ['Very Bad Things']\n",
            "16 . ['Independence Daysaster']\n",
            "17 . ['Mission: Impossible - Rogue Nation']\n",
            "18 . ['The Newton Boys']\n",
            "19 . ['Remember the Titans']\n",
            "20 . ['The Quiet']\n"
          ]
        }
      ]
    },
    {
      "cell_type": "code",
      "source": [],
      "metadata": {
        "id": "eQWOFlO8J2xd"
      },
      "execution_count": null,
      "outputs": []
    }
  ]
}